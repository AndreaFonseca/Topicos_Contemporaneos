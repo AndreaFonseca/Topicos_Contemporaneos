{
  "cells": [
    {
      "cell_type": "markdown",
      "source": [
        "Alunos:\n",
        "\n",
        "*   Andréa Fonseca\n",
        "*   Fábio Cardoso\n",
        "*   Eduardo Leite\n",
        "\n"
      ],
      "metadata": {
        "id": "mrn1OqFyIykY"
      }
    },
    {
      "cell_type": "code",
      "execution_count": null,
      "metadata": {
        "id": "EtJzV8JT8KSf"
      },
      "outputs": [],
      "source": [
        "# Importando PyTorch\n",
        "import torch"
      ]
    },
    {
      "cell_type": "markdown",
      "metadata": {
        "id": "UxXUDyuF8KSh"
      },
      "source": [
        "# Introdução ao PyTorch\n",
        "\n",
        "## O que é PyTorch?\n",
        "PyTorch é uma biblioteca de aprendizado profundo de código aberto desenvolvida pelo Facebook's AI Research lab (FAIR). Ela é amplamente utilizada para tarefas de visão computacional e processamento de linguagem natural."
      ]
    },
    {
      "cell_type": "markdown",
      "metadata": {
        "id": "FCwLi7RI8KSj"
      },
      "source": [
        "### História e contexto\n",
        "PyTorch foi lançado em janeiro de 2017. Ele é baseado na biblioteca Torch, que é uma estrutura de aprendizado de máquina em Lua. PyTorch é conhecido por sua facilidade de uso e integração com Python, o que o torna popular entre pesquisadores e engenheiros.\n",
        "\n",
        "### Comparação com outras bibliotecas\n",
        "- **TensorFlow**: Desenvolvido pelo Google, TensorFlow é uma das bibliotecas de aprendizado profundo mais populares. Enquanto TensorFlow é conhecido por sua escalabilidade e produção, PyTorch é elogiado por sua facilidade de uso e flexibilidade.\n",
        "- **NumPy**: NumPy é uma biblioteca fundamental para computação científica em Python. PyTorch usa tensores, que são similares aos arrays do NumPy, mas com suporte para computação em GPU."
      ]
    },
    {
      "cell_type": "markdown",
      "metadata": {
        "id": "72o7U4Od8KSk"
      },
      "source": [
        "## O que são tensores?\n",
        "Tensores são a estrutura de dados fundamental em PyTorch. Eles são similares aos arrays do NumPy, mas com suporte para computação em GPU.\n",
        "\n",
        "Tensores 1D, 2D, 3D, etc.\n",
        "- 1D: Vetores\n",
        "- 2D: Matrizes\n",
        "- 3D: Matrizes tridimensionais (cubos de dados)\n",
        "- ND: Tensores de N dimensões"
      ]
    },
    {
      "cell_type": "code",
      "execution_count": null,
      "metadata": {
        "id": "zZYJn1Ff8KSl",
        "outputId": "bb9e3965-a02e-4a71-9efa-cfe663610490",
        "colab": {
          "base_uri": "https://localhost:8080/"
        }
      },
      "outputs": [
        {
          "output_type": "stream",
          "name": "stdout",
          "text": [
            "tensor([1, 2, 3, 4])\n"
          ]
        }
      ],
      "source": [
        "# Tensor 1D\n",
        "tensor_1d = torch.tensor([1, 2, 3, 4])\n",
        "print(tensor_1d)"
      ]
    },
    {
      "cell_type": "code",
      "execution_count": null,
      "metadata": {
        "id": "C8XCj1rR8KSm",
        "outputId": "2beebef8-ee49-456e-99e7-ca34402b1097",
        "colab": {
          "base_uri": "https://localhost:8080/"
        }
      },
      "outputs": [
        {
          "output_type": "stream",
          "name": "stdout",
          "text": [
            "tensor([[1, 2, 3],\n",
            "        [4, 5, 6]])\n"
          ]
        }
      ],
      "source": [
        "# Tensor 2D\n",
        "tensor_2d = torch.tensor([[1, 2, 3], [4, 5, 6]])\n",
        "print(tensor_2d)"
      ]
    },
    {
      "cell_type": "code",
      "execution_count": null,
      "metadata": {
        "id": "Xn2ruBzU8KSn",
        "outputId": "3fc02e5b-5809-46d7-9fa6-0c1eefd76778",
        "colab": {
          "base_uri": "https://localhost:8080/"
        }
      },
      "outputs": [
        {
          "output_type": "stream",
          "name": "stdout",
          "text": [
            "tensor([[[1, 2],\n",
            "         [3, 4]],\n",
            "\n",
            "        [[5, 6],\n",
            "         [7, 8]]])\n"
          ]
        }
      ],
      "source": [
        "# Tensor 3D\n",
        "tensor_3d = torch.tensor([[[1, 2], [3, 4]], [[5, 6], [7, 8]]])\n",
        "print(tensor_3d)"
      ]
    },
    {
      "cell_type": "markdown",
      "metadata": {
        "id": "yqtN0ob58KSn"
      },
      "source": [
        "### Tipos de dados\n",
        "Os tensores em PyTorch suportam vários tipos de dados, como inteiros e floats. O tipo de dado pode ser especificado durante a criação do tensor."
      ]
    },
    {
      "cell_type": "code",
      "execution_count": null,
      "metadata": {
        "id": "SfKjZfE78KSo",
        "outputId": "f6241ff7-6f77-425c-db58-315bc9be51dd",
        "colab": {
          "base_uri": "https://localhost:8080/"
        }
      },
      "outputs": [
        {
          "output_type": "stream",
          "name": "stdout",
          "text": [
            "tensor([1, 2, 3], dtype=torch.int32)\n"
          ]
        }
      ],
      "source": [
        "# Criação de um tensor de inteiros\n",
        "tensor_int = torch.tensor([1, 2, 3], dtype=torch.int32)\n",
        "print(tensor_int)"
      ]
    },
    {
      "cell_type": "code",
      "execution_count": null,
      "metadata": {
        "id": "lozBM9KJ8KSo",
        "outputId": "b2cdbc0f-b5fd-4407-ad7e-5fe2a4e0de66",
        "colab": {
          "base_uri": "https://localhost:8080/"
        }
      },
      "outputs": [
        {
          "output_type": "stream",
          "name": "stdout",
          "text": [
            "tensor([1., 2., 3.])\n"
          ]
        }
      ],
      "source": [
        "# Criação de um tensor de floats\n",
        "tensor_float = torch.tensor([1.0, 2.0, 3.0], dtype=torch.float32)\n",
        "print(tensor_float)"
      ]
    },
    {
      "cell_type": "markdown",
      "metadata": {
        "id": "hF1LeVLo8KSp"
      },
      "source": [
        "## Propriedade requires_grad\n",
        "A propriedade `requires_grad` em PyTorch é fundamental para a construção e treinamento de redes neurais, pois permite calcular automaticamente os gradientes das operações. Quando `requires_grad` é definido como `True` em um tensor, todas as operações feitas nesse tensor serão rastreadas para a diferenciação automática."
      ]
    },
    {
      "cell_type": "markdown",
      "source": [
        "Autograd e Grafos Computacionais\n",
        "\n",
        "Autograd é um componente essencial em frameworks de deep learning como PyTorch, que permite a diferenciação automática de tensores. Este mecanismo é fundamental para a otimização dos modelos de aprendizado de máquina, pois permite calcular gradientes de forma eficiente, necessária para o ajuste dos parâmetros do modelo durante o treinamento.\n",
        "\n",
        "Grafos Computacionais\n",
        "\n",
        "Para entender o funcionamento do autograd, é importante compreender os grafos computacionais. Um grafo computacional é uma representação gráfica de uma sequência de operações matemáticas, onde:\n",
        "\n",
        "*   Nós (nodes) representam operações matemáticas ou variáveis.\n",
        "*   Arestas (edges) representam os fluxos de dados (tensores) entre as operações.\n",
        "\n",
        "\n",
        "![image.png](data:image/png;base64,iVBORw0KGgoAAAANSUhEUgAAAtYAAAFWCAYAAABNSNqDAAAgAElEQVR4AexdB3wU1fa+iljpRUUQo6IgJezca3nP3p8dEUMTlJKZ0AQE7KK00EGpIoL6f4JYEIEUEkJCF8JOAgRRnwgo2MBC6CWE++fcnZnMbjbJ7s6W2eyZ3y+ZnZlbzv1mduebM+d+hxBcEAFEABFABBABRAARQAQQAUQAEYhGBEakJLUemZr01PAUpe+IpUrymIznPx2XMWD9mPT+O5PT+xROynrxR1jDttif8fynw5cmjoLyUG/YksT4aBw32owIhAkBByHkUUJIF0JIP0LIGxdffPG02rVrf1qvXr3sevXq5deuXXtn9erV/7zggguONWnSZBesYRv2w/G6detmQXmoB/W1dp7R2m0dpnFgN4gAIoAIIAKIACLgDYGRKcqDY9P7fZCc1vefd1eP2PPemuTCeRunHvsy/0Oetu0znv19Kl+/M4fn7c3l2//4RqxhG/bDcSj38capx6Deu6uG701O7/v36LR+HwxfkviAt/5wHyIQIwi0IoR0r169+tw6dep8f84555y5/fbbf7v77rsL27VrdygpKen4G2+8wSdNmsTnzp3LFy1axHNycnh+fj7fvXs3P3DgAIcF1rAN++H4l19+KcpDPagP7bRr1+4wtHvbbbf9fs455xTXqVPnu+rVq88hhHQjhIAduCACiAAigAggAohAKBAYk9q79vClctdxywasGJnaq2jGyrcKUwo+OePcs0EQZyDPVv6cP2/gSws+OQPtQvvjMgYsH5Ga1OXlLKVmKMaDbSICNkCgOSHk2Vq1as2pW7fut1WqVDl99dVXH+zcufORGTNm8NzcXF5cXCyIcqj/nT59mm/cuJFPnz6dd+7c+SjYAfbUrVt3e82aNWcTQroSQm6wAWZoAiKACCACiAAiEL0IjM1Sao5bNmDBxOVD9n2wfsLR5d8u5tt+22qJRFdEwAt+28Izv/2Kf7B+/NFJy1/8Y3zGwE/GLelRPXpRRMsRAQOBOy+//PLPrr/++h1XXXXV4Y4dOx6bOnUq//rrr/nJkydDzZ/9ah/sWb9+PZ8yZQpv37790caNGx+67rrrfrj88ss/JYTcbowIPyACiAAigAggAohAxQiMSR8wLTmtz4mUggWnKyLDoTy+tOCT06NSe58clzlgSsVWYwlEwHYItGzSpMncmjVrHrz55puPvvfee/zYsWN+kVy7FD569CifNWsWv/HGG4/WqlWr8Nprr32fEAKed1wQAUQAEUAEEAFEwBsCY9Off3NEinJmYf6Hp0JJmP1te2H+B6dGpCQVj8vs/7o3u3EfImAjBK6QJGlKw4YN9zVt2vTkmDFj+N69e+3Cj4Nix88//8xHjx7Nr7vuupMNGzb8w+FwvE0IudxG5wBNQQQQAUQAEUAEIofA6GX9eo5K6330k03vHv/m920hDffwl1Tr5b/5vYDPz51xPDm9z+HkZc/DJCtcEAHbIHDhhRf2aNCgwbZ69eqdGDJkyJktW7YEhcTavZHNmzfzwYMHn6ldu/aJBg0aFFSpUuU525wUNAQRQAQQAUQAEQg3AmOWPb9kfu6Mvzb/otqSUOvEWl/n790EBPvPscue/yLcWGF/iIAnAnXq1Ol5ySWXHOrXr98RUOGI5SU7O5v37dv3SLVq1Q7WqVOnuydWuI0IIAKIACKACFRqBEan9/sxbdvnx3TSGk3r1G2fHR6d3m9HpT5BODjbItCkSZM2DRo0+L1Dhw4n/vjjj1jm06XG/ttvv/GEhIQTDRs2/K1JkyaP2/YkomGIACKACCACiEAwEBiW2rPliBSFr9+9MqKTE60S+XW7ck6PSFGKR6YmohxYMC4MbKNCBO68885bW7RosfOee+4pipVwj1LM2ccdoKV91113FbVo0WLHfffd9+8KwcUCiAAigAggAohAtCGQnN7n2YnLBx+wSmrtUh9irydkvvB3clrvztF2LtDeqEKgfuvWrdc1b968OCMjw0dqicUAgfT0dN6sWbPi+Pj41YSQOlF11tFYRAARQAQQAUSgLATGZ7zw2vtrx+y3CykOph3vrRn154SMIS+XNXbcjwgEikD9+vWn1KxZ8+RHH32ETNkCAh988AGvXr36qXr16k0K9FxgPUQAEUAEEAFEwBYITMt5Y/T/bXz7SDDJrN3a+mjD20em5wxNtgXgaERlQOCC2rVr/zZ+/PjoFJ+2QIJDWXXcuHHHzk763EsIOa8yXCQ4BkQAEUAEEIEYQ2DMsue7zV47Zp/diHAo7Jm9Jnn/2GX9usTYKS57uNsTzidOuR1xKtOJU3ESp5xFnPJkoiqtyq6ERxo0aHDHeeedd/q7774LJceM2ba3bdvGzz333OIrrrjiVrzaEAFEABFABBCBqEEAJipOzBxcGAoSa9c2J2S8cHBYitIsak5SqAxVlYuJqvxAVIV7/XMqw0LVdTS3Sykd5nA40EsdBtrfqlWrY4yxodF8vaDtiAAigAggAjGEAKh/2JUAh8qubb8X8JEpyukYOs3eh6oq20sItawSVX6HOOXNJfsUTvIS7/VeOTb33nDDDamyLBeFgVNiFxoCPXr0AOWQpbF5xeGoEQFEABFABKIGgTHp/XZ+vWtVcagIrJ3bXb8ru3hMLOtcb+5WyyDQEPphXjb3iiNOpUg7XmA+FMufL7/88p0zZ84sRsYbfgSmTZsGYSE/xPL1h2NHBBABRAARsDECY5f1XxytyV+CRdhTt312dFzGgC9tfJpCZ1peUgeDWK+8u/QkMVVOE8ed8vHQGRE1LdeCeOqNGzeGn1FijwYC69at41WrVj1FCKkRNVcOGooIIAKIACJQ+REYkZL47LxN0/cEi6BGczvzNk7dMyKlZ+xpXKvybBdxVn73esWr8iIX8ZZPej0eOztrxcXF/XLixAmD4OGHyCFw9OhR3rhx418IIdVj5xLEkSICiAAigAjYGoFRqb0Ob/5FjbnYam8PAHl7N/HktN6Ftj5hoTDONXGxAVGVmqWaz+9en6jySc2jvb3U8RjaUb169cJffvklckwSey6FwE8//cRr1KjxdwxdhjhURAARQAQQAbsiMCql10vzN82IKRUQb4TavG9e7rTCUSlJg+x6zsJq1xb5eqIq+zRSzUle0kNh7d9GnV1zzTXq4sWLMaa6FLWN/I6FCxcWX3fddZtsdLmgKYgAIoAIIAKxiMCIFPnMN79vQ2/1H98YGGz7bSuqhICetapMIapSbJBqVZkYi98RGPNtt9328RtvvIGkOvIcukwLXnnlleJ//etf78fqNYrjRgQQAUQAEYgwAqPT+k5amD/3sNlbi59dBPvzvPcPJ6f1HR/hUxSZ7l0TGQ8bhNopHyJ5SY9HxpjI9+pwOJ556KGHTpfJ6PCAbRC49957T914440dI3/VoAWIACKACCACMYXA2Cyl5qi03seRSJd4qj2xGJna6+SEzK6XxMyFwROqEFVebBBq8FY7lfFEVarGDAalB3pprVq1TtqGOaIhFSJQvXp1UAqpU/pU4h5EABFABBABRCBECIxJ7/d/KQWfnPIkk7hdQrSXbJl3bGx6vw9CdArs16yZVEM6c1VpYD8jw2tRtWrV/tm7d2+FZA4L2AeB3bt3w2TGv8J7pWBviAAigAggAjGLwCupvWtPyhyyH0l0CYkuC4uJywf/OWxlQrVKf7HkJ91Y4qmW0yr9eH0YYIMGDWbNmTMHdfXsw5l9tmTWrFknrrjiipk+nGYsggggAogAIoAIWENg+FK569z141EJxDRhsSxiPWft2IPDlyZ2soZ4FNR2Jo4SxBoyLOYl3iC81eCx9vwD6b3YWC6qWrUqpir3mcrar2CVKlWKCSGxHMYUG99UHCUigAggApFGYEz685nLv11sqGCURSpx/zc8Y/siPm5Z/8rvwXXKuSUea4WX+TlGMi82adJk2tChQ8/Yjy6iRb4i8Oqrr55p3LhxbE5AjvRNBvtHBBABRCCWEBiZmlQEknJInCsOBdn662Y+MiWp8mcbVJWjZZJp1Y1oH42F78pFF11UdOjQIV85HJazIQL//PMPv+SSSyr/dzcWvpA4RkQAEUAE7IrAyBTlwRkr3zqApLpiUq1jNC37jb9GLk28167nFO0KLgJNmjR5JSkpyYZUEU3yF4GePXvyFi1avBzcKwRbQwQQAUQAEUAENARGpfaZnVLwyRmdNOK6YoK9ZMu8ouS0Pu/iRRQbCNStW/efH3/80V8Oh+XDhMDJk76rH37//ff80ksvRYWQ2Pjq4igRAUQAEQg/Asnpff5y7tmAYSA+TFzUHzo2/fw1H53Wd3/4zxb2GAEE2j7yyCNHw8QRsRsfEPj888+5LMv8tttu49WrV+ft27f3oVZJkQcffBDCl2I2wVEEvkPYJSKACCACsYHAiJSk1u+uHv6zThhxXbG3Wsdo5srhe4Yt6tkyNq6U2B1lXFzcyry8vBJWhp8ijsC3337LP/jgA04IEX9Tp071y6ZNmzbxxo0bL4/dqxpHjgggAohANCGwPeF84pTbEacynUBSDaecRZzyZKIqrew2jJGpSU+9v2bMEZ0s4tp3Yv3emuRDw5cmtrHbOUV7ykBgc7daZRwpdzdItJ06dcov4oaFQ49AamqqQazz8/P96vDYsWMcpBPLPfF4EBFABBABRMAGCKjKxURVfihTTcGpDLOBlYYJw1OUvvM2TjuNhNp3Qq1j9d8NU06MSJF7GWDiB3sjsLlXHHHKq4gz8W4/DL3qiiuu8D2A1y96h4WtIPDiiy8KYg2hIKdPn/a7qUsvvfQEIaSRH9cCFkUEEAFEABEIOwKqsr2EVMsqUeV3iFPeXLJP4STPPmoSo9J6jfsy/0OMr/Yjvlon1gvzP+Aj03qPDvs1hh0GjoCqfOT6LsorfSTYD9x///3FfrM2rBByBOLj4wWxTkhICKive+65B5LFoLJP4N8mrIkIIAKIQIgRgFfNur4vhH6YF+EtU4q04wXmQ5H8PHZZ/8/Stn1ma2L9ze/b+NZfttjOxtRtn/Gxy/oviOT5w779RAC+h/p3VKzLJ9g33XTT6D59+gRE3MqrFI2hJWfOnOFFRdYTT7733nv87rvv5r/88kt5EJV7bP/+/UYYyMyZM0XZ4uJivzzXvXr14mfJ+Vt+XkFYHBFABBABRCBsCOQldTBu2ivvPq9Uv6qcJo7bKFPduGUDvs7+PtV2pBW8wh8t+pDfcd8dxg20c4/O/D+P/0f8vffJrIjbvOL7FD5u2YB1pc4z7rA3AobX2pzkxjvBvvnmm9PefvvtckmerwdB5u2tt97iN910k7imweM6a9YsX6tHrNyqVav4ww8/bHwP+/Xrx8FLDH/Lli3z267rr79etPXhhx/6XVev8NVXXxn2pKenc9CmhpAQ+HvhhRd8egCYPHkyv+WWWyp/BlV7fxvROkQAEUAEykFAlWe7iLPyu9dSqrzIRbxl22T+GpPef+f6nTkRJ6l6eIW+fn30a+LG2bT59fyDhXP53C/mGDdSUAL4dNmnEbd53c4c8Fj/6PVc4077IlDKa102wW7SpMm2tLQ0nc8FvE5JSRHXb6NGjfiSJUuEt/bSSy8V+7777rsK2wVSPnjw4ID/Fi5cWGEf3gpMmzZN2AgPAdnZ2XzFihVu30NQ16hoAUWVlStXGsU6d+4s2sjNzRX7fv/9d/7FF1/w48ePG2Uq+tC/f3/DDiDTOpa6Ssjo0aMraoLD5McmTZrY5u2hfb8waBkigAggApFCwDVxsQFRlZqlTMjvXp+o8knNo7291PEI7UhO71OYtzc34iRVJ9Sw7v+K66bZ0tGS5+7YaNh2613/FjfTS6pdYovQEHVPLtfOJ67dwivMRDUaPstezp/Lg12nTp0/f/jhhwpJWnkF3n//fXHdAgHcsWOHKGomqDrBLK+NBQsWGERSJ4/+rMHL7O8yatQo0Sd42A8ePGhUf+CBB4zxVBQacvjwYcNueDCAcBJ4AwC2Hz16lO/atYvDwwZs++PB1r3eUG/u3LnCNkhXrsddA9GuaIHzWnV2m5NEld8k23vWidBPMHaLCCACiAAi4DcCW+TriarsM0hYXtJDfrcRogqTlr+0y0xqI/357Tmumy7cMNO/TjNINdh1/yP3iRvwA4894LY/kjYb5zSqiWU0kN9Q2qgTa32tcF095LrrrttdEUEr7/jPP/9sEMsvv/zSKLphwwaxn1LKfYm3Bt3mSZMmBfyXlZVl9O3LB/Bww3cQ/jwfLNq2bSv2t2vXrsKmgHjroS/QFnir4SEByPQ333zj5mn2Nazk119/NWyDJDHmZeLEicaxAwcOmA+V+rzhyE7TA5V8REiibku8LEQ/tdgsIoAIIAKIgGUEQM9aVaYQVSk2EbCJltsNYgN28ljn/5THL7/icnFjVAbIpchz3LVx4tib44aWOhYJcg0e6+S0PoVBPB3YVDgQcAsFATJdmlDrZtSqVWufJ7EsxdDK2QFxyEAor7nmGuGtNRf9448/Su0zH4/UZwjJ0L3Ir732WikzdG/xu+++W+qYtx0wqVBVVT58+HCjXcAEPPgQGw0hGWaPuLc2zPsg6yLUhz/PMBqIm9aP/f333+ZqpT5v/WE7vzDpX4eJU95r/D7D/BdVnkG2Jl6tXwO4RgQQAUQAEbADAq6JjIdNP9iHSF6S7VLo2inGesibg42b4uptq9zI8wo1yziWsnap27FIkGroE2Os7fBFC8AGb5MXy9C3vuqqq/IDjbE2e1bHjx9fitjZdceECROM7xqQf/Ni9sB7klpzOW+fIQzm1VdfNdqGdOQwMdJfDerevXuLNuBhxXOBkBcg1vBgUNEChD4uLi6fqEpVkpfUnTiV702/16eJKs+zY1KvAK54rIIIIAKIQBQjwBOqEFVebPxAg7faqYwXP942HJadVEF0j3Tz+OaliHO/F/uKG2bdenU5yO9Fikyb+0VVEBte0BWZ5OatLgn5KKtaq1atFgWqCgJqFbr3FEI/rCz79u3j69atC/jvt99+87l73SMNYSqeC3idYUwQwwzx0r4s8+bN482bNxf1wEv9yiuvcOhj6NChxr4ePXpwiJH2ZQFCDTZ4ixvX+2nfvn2FTYF3u3Xr1ouMc8+HnUvykp4iTnmT6fcbwkVSSX7SjUY5/IAIIAKIACIQRgTMpBrSmatKgzD27ndXdtGx3viDK+YUbpjPKl3diPPab9ZwmLAIx57q1NbtmJnohvsz6lj7fblFvoLurS7DQ+1pYKtWrYYHqmOtT/6D6xaUL6ws4Zq8WFhYKL5nYPPAgQPdTAbtaCDGcAyIsC8LxFhDefgDMg5ea5AYhG3wVCcnJxvHp0+fXmGTZo+5OWYdKupx69A2eMIrWsrVsc5Puo845Sw3gg3bNkru5Xmt4jYigAggApUPAfBqGJPY5KjQRx2Z2nusHTIvgma1fgNOnjLKIM/gnX7oiYeMY+NmjBVKIXm7VaNMuAm13t/C/A9Oj0hLGln5LuRKOiLwVvtIqE0I3H/XXXcFlNL8zTffNK5bkMvzXEAVA8JFfFkyMzPFJECYCBjIn6+hKEBI9e+hWaUDvNPgBdaPgRca4qKPHTtWofkQWgLe5T179oiyQGihHZiQCQv089xzz/HduyueJ/rxxx8bNoAX37zo9rVp08a8u8zPd95556kKMy+6ftNTS37XxVuOTSRPbkvAw40LIoAIIAKIQAgRcCaOEj/ATqWI5CXeILzV4LH2/APpPZssw1OUvh/nTj2hk8VIrT9dViInBolgwI7NP+cLD7V+M4f1VysX8ZtvvYn/31cfRZxY/9/Gd46OSJF72eRUohkVIQCZUf1frrr88st9F1g20TgzCfScBAhEG6ThQIrPTgtI/+nfNz3U4sSJE8JDre+HdUFBgcieuHr1ar/N1yXxAB9/F5jsCP1DyId5mTFjhtgPHnVd0tB83Nvn+vXrHyeENPLpklCVVkRV5hOnfNpEsr8jeXI3u4b5+TQuLIQIIAKIgK0RcMq5ph9dk5STh1SYjTIvjkxNeuq9NckHIkWo9X637N1s3NDFjTO+uQj/uPKqRrzDcyWeMjj2whsvRJxUg92zVo8qHL40sY2tr0k0zjICVapUOX3ypP9O6yNHjhihE3Ddgif1pZdeMuTnzB5hb8QvEvtA+g9s1f8gzhrIKsQ1655m/djYsWMDMhEk8qANSBzj76KrlXTr1k1UhXCSOXNcyaPARl9JNXjaq1atWuT3xQFqIaoykwj1EO13XaiKyAPI7m4X+t0eVkAEEAFEABEoBwFVOeoTsYZyNlmGLUuMn7Fy2G6d4EZy3euFJOOGDjfedp2f4l9/v55PmFWiUgCTGCNpo7nv6Tlv7hyxVG5hk1OJZoQIgSuvvDLL6XT6ywFFeSCPnlkBgaxCFkO7Lm+88Ybb9xC8xDCx0BznDZMYA10grMQfeT1zP+vXr+d33HGHsA+ItB7z3aVLF+4ZGmKu5/l548aNvHHjxssDvmRA71pVxhBVKTR+853yH0SVX/aaICzgjrAiIoAIIAKIQNQhkJza5y/nzxtsQViznMv5J2nz+dffrXezZ8nqxRwmMZqJbSQ/b/p5PU9O6/tH1J1sNDgQBNo89NBDRz3Jma/boOO8detWvnbtWiPO2Ne6kSr3008/icmAnlrQkNQFJjFGegGiD5MV4YGnokQw3my9//77wbnxaCAXg1sdyLILZFqQauPNZCFR5dEEk824QYUbiAAigAjEDAKjUvvMXrr1k6JIEtVo63vJlnlFyam9Z8bMRRLjA61Xr97fVhLFeCN3uC8yCMCkycsuu+zPoF7SEAaiyr2IU9lp8mBjspmggoyNIQKIACIQJQgMX5L4wPScoX9GG7mNpL1Ts9/4a3iqck+UnGI00yICzZo1e8UzfXZkaCH2ahWB7t27w+THIRYvCe/VIY+BM7ETUeWtJoLtSjbj7NHUeyXciwggAogAIlDpEBiZmnSq4Lcttgm1iCRprqjvrb9u5qNSe52odBcBDqhcBC6++OKiQGODrZJBrB8cBCC0pXr16iCzF/rFmfgIUZW1BsEWycLkhZhsJvTQYw+IACKACEQcgTHLnk/N/PYrJNZ/fFMhBhnbF51JTu9bkrEt4mcPDQgHAtdff/3U119/3bd0g8HhgdhKkBF4+eWXzzRr1mxyRdcLdzjiuCTdVerP4XBUVLfUcVW5HZPNaKg4lWSiymlka2L5MoeqkkCc8gINtzFks3wr4eScUtjiDkQAEUAE7IrAiNSkLnPXjyusyFuLx7/hs9eO+WdEqtzRrucS7QoZAhecd955p4PM9bC5MCJw7rnnniGEVIErhDP2EWeM+/xH6RYeCLHWL0dINuOUFxLwXOuJxCB9eqwkm9n4TA1j7M6eN+uwuK23J5xPVKXAwEfHybXeiOTaDS3cQAQQATsjMDZLqTkxc/BvSJwr9liPzxj0+4TMrpfY+XyibaFBoE6dOu/MmTPnVBi5IHYVJARmzpx5rFatWpP0K4M7HLU4kGVv5JpST8L9EZTX61paQ6y1U55LVOWUiUC6ks1AjHZlXPJ7XuVGmMsi1k5lqYGJU/le0ww354fIrIzw4JgQAUSgkiIwOr3fRylbPzmF5Lpscr1467xTo9P6zamklwAOywcEatSo8TfI0eESPQj8+OOPvGbNmvs9T68I+WCsUJBrnUzDWv8MpJvSgZ71grIN4RBOeTJR5SMmMrlTqItUlmQzqvyZm9a37oH2RqxV5doSHOQsN4whKY9edwvmDnDDBjcQAUTAvgiMW9KjenJq74inN7czsR+V2uvU5M8TLrLvWUTLLCOgKk8Sp/I2UeXFZbRVt0aNGui1jh5ezS+++GKYsFjT2/nkjD1peK3NpJrSM9zheJsz5rWet7YC2re9Zx2Sp7xFnMpfBnmsLMlmnMrvxph0Ygxrb8Q6T3nRKJv7bF03LMGTr4fQOJX33I7hBiKACCACdkYgObXvxC/y5h63M7mNlG2f571/eHRavzF2Pn9oWwAIbO4VR1TlOaIqXxFVPmDc3POUMj2VkiR1vPfee09EEbeMWVPvvPPOk02aNHmivCuDUzrM8Frr3mp9zdhBcbxFizrltWH52NaulxC45kSK9EqSbEZVGhCXJ/pakpf0lPHd8kasncrHruPyT16xVJXtWv0fvB7HnYgAIoAI2BWBESlK8Te/F1SojhEpghuJfkGKcGRKUpFdzxna5ScCm2WHy0sobzZu9maPGnze3K3cmFqHwzHzlVdeKYpZxhoFAx8yZEiRJElTfbk6OKWrDM+1KwRkNqc0xdhH6RHO2CQeH1++ooUvnZVXRlWqkryk7sQVY8zF9emU9WQzoe27PLusHnP2lIzvmjdircqq67ic5rUrVf5CO14qpMdredyJCCACiIBdEBiV3uelebnTUCHEJL338cYpB0el9R5kl3OEdviJAJBkZ2IbosofunmlDTItc6Lqf+AtLDMMxK3juLi4rxcuXFgcBRwz5kz87LPPzlxzzTVr3U5YORvaZMafTER6GBTnjLXijH3BKS3Wjp3ijM3h8fFXl9Oc9UN82LnCywvKIcZ1qpwSEx+jMdlMhcRa+Ucjzh96Bc8pzxLH4SEDF0QAEUAEog2BUWl9Dubv3YRe6z++4eqeXJ6c1udAtJ1DtNcDAYidVpWPSk+mMhNq4xX8kx61y9ysUaPGPz///HPMEVc7D3jnzp0wWdHvtOUgp+dJrPUTz+PjmwpCTelJrcxpTuk82K+XCdm6MiSbqZhYazKEsqHc4oanmPcA8dkKvjl0AwY3EAFEICoQAF3r+bkz9kUi7MJufX6cO3X/qKWJnaLixKGRFSMA3us8uRtxyqtKPIFu5Lqw4kbcStS49tprfzty5IiduWbM2AbZMRs3bryXEBKQJCantJsgzpQKj7XbmQYPdnx8I07pdM7Yca0ceLK/4JJ0o2fZoG9DshlVSS25boFoylkE9tt9qZhYH3V5pMuYnKgq8zWP9SG7D1+HKSgAACAASURBVBXtQwQQAUTAKwLjMwYuSdv2+Um7Ed1w2pNS8OnJCRkvfOkVINwZ3Qg4Ezu5ERQRCiLCQN4JYGA1zj///FPr1q2LGQJrx4GuWrWKX3DBBScIIdUCOIdGFZE8pgxirRfiLVtexhmbyF2x1y7da0qzOGOhJ7mq0ooA0XTKp03X8FrilB/W7bPdukJiLf/qGovsPautqmS6iLWyx3ZjQ4MQAUQAEfAVgbHLnt+1fmdOTIaErN2Zzccue36Hr1hhuShCQFUSiSqfIapygjjldBM54QQmNga4NG7ceNfUqVMx5joCrPvtt98ubtiw4XcBnjq3aiLemjGfwoF4ixZ1OKXJXNfDdk18XMMpfcit0VBsbE28WkuicrzkGpa3EnhotFuymYqJtWvyorMM4qwqv2jEe3kooMQ2EQFEABEIGwIjUpJiTiVEqICk9sJYvrBdZWHsSFUGazfoI8SZeLcg0iWTw7ZYtaRFixZLunfvjmohYSTXXbt2LWrZsqV3T6fVE+pjfdC75pS+yBn73RSnvZVT2oETcq6PzQRWbFviZURVxrjNH3Aq9ko2UzGxHmI8HHgmgcnr2cQ45pS7BgYS1kIEEAFEwCYIjExNvGFCxqCD4QzBiHRf4zMGHRqZknSdTU4BmhEsBFR5gkaqD5DN8k1Gs6pSKPaXo11tlDV94C1bXskZG2zaJT4yxt5o2bLl8TByy5jt6oYbbjh+8803v+Z5DiK1zePiLuSM9eeM7TEINmPfccae44xVDaldqlKTqPLLRCSY0Sbi6slmQCc7kktFxHrjMzUM8qwqu4mefXJ7n2pElXdo39uTRFUujuQwsG9EABFABIKCwNhl/brMXjvmn0gT3nD0P2v1qL/GLHseJysG5cqxSSMic5s8W7tx7yPOni3dLHOphXACyWJ8XDSVCBd5olT2rNawYcN/n3vuuWe2bdsWs6Q3lAPfvHkzh7mEjRo1utkTeztsA4nmlCqcsZ0mgr1XkO64uAtDaiOQUlXuRYTXWifYkNlRfpNApsdILBURa7BJlUu81pBpEewHFRD9jVJe4r2RMB37RAQQAUQgJAhMyhzy6kcbJh8KB7mNVB8ffT358PjMF14ICYDYaGQQ2J5wPlHlFHFzhvhNyATnuQgpPt+0q6Gq0DamdJ9GmHJ5fPylnk1q21Vq1qz505gxYzBLYxBZdnJy8rHatWvvKgNzW+3mhFThlLbnlG4xEew/OKUvhTxdOjxQikm68laDnKryEeKUJ5OtieFNNpOXGG/YkJ9UtoKKqoww0pfrhFokyFH62+rEojGIACKACAQDgYmZg195b82oPyNFfEPZL3iqx2cOGhIMnLANmyAAr41VJcd1Q5d3lEkmdAk+H8zmrVvfzCk9oJGkHB4fX+Er9po1a4675JJLTs6ZM+dMEPllzDU1e/bsMxdddNGp2rVrj/HhVNmuCHc42nDGck0Eu1BMfAx1unRAAlKKR0uyGcg+qSoPnvVWv07KI+G2O8NoECKACCACASCQnNa784TMQYXbKknac5ioOD7jhUOj0vt0CAAOrGJXBCDe1CnnujzVci7J717fqqmcsXsMeTVId92kyQV+tFk7Li5u6dVXX308NTU15kixlQEvXbqUx8XFnYiLi1tMCKnhB+a2LMop/Q+ndI1BsMOVLh3QyE+6T9O+dqVLFyEX8kICEn64IAKIACKACEQGgWEpSrORKcrpdbtyTofSixzqttfuXHF6ZEpSEU5UjMx1FLJegUSrSoH26hk81pYnPHFKH+OUnhBkiNIFnJDzArH//PPPv+Hqq6/e/O9///uYqqpW+Galr7tp0yZ+yy23HLv22mvzL7jggtBnOAzkhFqoA5rXHB7QQKLP9ReedOlgM3iCnYJQaxkPRSw2JJ8JvQ63BcywKiKACCAClRqBMWnP/5C67bNjoSbAoWg/peDTY2OWPR8U3dtKfZKjbXAQQ12iIpBCIMba4sIplTljRRqpns0JOcdik+SSSy65r379+ruefPLJw7/88kulJ8n+DHDPnj38iSeeOHzppZfurFat2j1WsbZ7fRGzD9kbKYUsjkCyXenSGQu9F9nZoylxynOJqpwyYqBVxd7JZux+QtE+RAARQASsIDB22YBF8zZO/ytv76aoSCSj7snl83Kn/zVuWf8vrIwb69oQAVD7UJV9WvjHgmAkyeCMDTE8ipROCPaozz///M7VqlU7IMvyoeXLl/vDPytd2czMTK4oyqFq1ar9ff7553cMNtZ2b08ozVD6sSDWuhcbPNrhSJcOkxlhUiNMbtQnDao2TTZj9xOJ9iECiAAiYBWBMcue75ac2ufw/NwZx7f9ttWWBBtiqT/OnXZidHrfg6PT+mOSAasn3W71QZdalQ+4SIE8OxjmcUonGKSasZBObK1SpUrXhg0bbqlVq9bJgQMHnomVMBGn08kHDBhQXKNGjZNXXHFF/vnnn/9MMM5dNLfB4+Ov5pRO54wdN64/SJfucNwd8nGBHF+e8hZxgjyfIdXnSjYDkwpxQQQQAUQAEQgfAmMzBrw2MiXp9Bd5c0+FInwj0Da/yJtzamRqr6JxGQNeDh8a2FPYEIAMioanTbbsVYZQD07pbI3UFEEoSNjGQsiljRs3HtawYcNfrr322pMjR47ku3fvrlTe6Z07d/IRI0bwa6655lSjRo1+adCgwRuEkHqhxBhi4jmlSZzS+FD2E8y2ecuWl3HGJhoTZsGLTekm7mO6dUu2QEIZSJjklPeWEGz4LA8gkU42Y2lgWBkRQAQQgShEYGz6wHdGpfU+tXTrJxGd3Lhk6/zTI1N7F43LGDgpCmFEk31BQFUeJapyQrv5l8qC6EsT5jIaAVsgSDVMVqT0MfPxMH9u1rRp0/fr1KlTyBg7NmPGDH7o0KGoJNkHDx7k06dP55IkHatbt+6BG2644X1CyPXhwlN7WLqXMzafM5bKGbM8oTVstrdoUUfI8jFWaPJghyddupC+s1mymXABj/0gAogAImAnBCZkdr1kfMYL8ydkDto/d9244xnbF/Gtv24OaZgItJ+x/UsO/U3IHLJ/XMbA/07+POEiO+GCtgQRgbykDiIzmys7W6LVlkE+z1BpcEmg2Wni3K0NGjSY37Rp0x8aNWp05Omnnz42efJkvmbNGn706FFbkW2wZ/Xq1XzSpEn86aefPt6wYcMjTZs2/V+DBg3mEUL+ZfU8Wa0vyDWl4622E+76kFCGU/oiZ+x3g2CHK116eclmtiVeFm4ssD9EABFABGIWgWErE6qNSFE6j88cmDkqtdepGSvfPLRk6zy+6eevg0KyN/28nkN70O6o1F4nJ2QMzBi+NKkTEPuYBT0WBq4qg8+maD6jeasftTpkSPTCGcvRPNUHIBGM1TZDWB88vZ1r164969JLL/2matWqpxo3bny4Y8eOx6dMmcLXr1/PT548GRayfeLECb5u3Tr+zjvv8A4dOhwHO8Ceyy677JvatWu/SwjpRAi5LoRY+N00l6SunLH/+V3RJhV4XNyFIjU6Y3tMBDs86dIBA2fiIwSUQ4wYbPk4UeUZZGvi1TaBCM1ABBABRCB2EBi5NPHesen9545O7/fXu6tH/jZn7djT8zZO4wvzP+Cp2z7jK75P4et25nBQ74CYaljDNuyH41AOykO9mauG/z4m/fk/xy7rP2d4qmIn72LsnNBIjFSVJ7hu6pCeOdHyhC7ucNQyMuK5UpWHXuYs+LjdQAjpWrdu3bn169f/rkqVKqdvu+22/ffff/+pjh078t69e/PXXnuNjx8/nr///vt84cKFPDs7m+fl5fFdu3bxAwcOCCIOa9iG/XAcykF5qAf1oR1o77777jt166237j/vvPNO169f/9t69erNIYR0IYSAHbZYOCHnckr/BTHJQnGDkHPBMC5JL3PG8mxhpAUjOGNVOaUKZ2yniWCHJ1062A2a16oC2teuZDNO+TRR5XmYbMbCScWqiAAigAhYQWDYop4thy9NbDM+c+CQiZmDZ0xcPnjJxMxBuWOXDdg9Or1P4aTlL+2ENWzDftfxwTOgPNQbsfC5Flb6x7pRiIAqz9ZI9QECSiAWF01DuEAjJns4pU0sNmmn6vCA8FCNGjW6Xn755UMaN248Pi4u7oO4uLglV1555ZrLL798a/369XfXqFHjzwsuuOBYkyZNdsEatmE/HIdyUB7qQX1oB9ojhPyHENLSToM128Il6QlO6VbtDcQGDjJ2MPHPNSHwf5zSaeby0fyZE1KFU9qeU7rFRLDDly4dsjaqynwiiLVGsl2EG5PNRPOFhbYjAogAIoAIVGIERIynvEDzju0joFltcYFwD07pAY2MfMNbtrzSYpNBqS5ivRl79Gzaa5hsVzMojcZQI5zS7to53csl6U596JyxPpwxCJng3OG4Vd9fmdbc4WhjvH1xqYgc4YxN4vHxjUI+TggFUZWZxAmhIQbBxmQzIQceO0AEEAFEABFABPxBALInqnKKuFk7lT0EsitaXDhj93BKD2sELBfCQSw2GZTqXJI6GuTPlSTk0FnPa9ugNB4DjfDWrSWDVDPW2DxkTuk4cQw82QGmpDe3Z+fPnNL/nH0wW6NhAdkcw5cuHSYzqsoYoiqFBsF2yptIntyW8GEiHMfO2KFtiAAigAggAohA5UVAVWoSVcnRbtAFBDLEWVxAQo+DlJ7Lo7cAJi5abDIo1TVSDSRI1ys+ZBCj+PimQemkkjfCGRurYeY254K3bt3CwFKS7gIYxIRVSXpaeHQpfYEzRisbPJyx2zljy42xhzNduvjuyi8Tp/yHQbBV5TuSJ3cjmGymsl1qOB5EABFABBAB2yOQ370+UZUCl6daziVwo7a4aOS1SBANSAJDyDkWmwxKdaGfzRh4p7dC5j1oVEy+Y2yoRormB6WjSt6I5qVdbB4mdzjiTBP8XhWa1q4JjPAAs5VLUjsRFgRhIpQmmetWls+QFp0z9gWntNgg2eFKl76724WYbKayXEk4DkQAEUAEEIHoRAA806q8Q/N0gcfackIPyKDIKT2jkWrLGRqDCawRwiBJN3q2ezZb4CJhc7NmdT2P4bY7ApyxEZyxqfpeiKXmLqUXINGTNaWQD7VrYC7Es0NZmLTK4cGGsVS9bmVcC3UUmMgJnmtXqBHgEp506eClzkvqTpzK94YHW6ROl98MxkNzZTxfOCZEABFABBABRMA6AhBD7Yql5iK2GmKsLS6csVc1MgXEeojF5oJenTsc152Ni93grWHOWDNhe+vWqILjDSDTPi5J9Tml6Zyxz0GrWiOPO0ElBIpxSjsYhFKSRos3GJQOM8i3JN1vaq7SfoS3IpyxOZzSkwYe4UqXDnHWeUlPEYi7LpnkWEhUeTTBZDOV9prDgSECiAAigAhEAgFQ+1CVfVr4xwICaiAWFvHaH0I+XN65IiBSFpoLWVWR9KMMYg2dckoXcofDsmZ3yAYQgYYBD87Yc9665k2bVucOx228deuG5uOCTLpi2Bmn9A4I/RDpwiWpF5ek5uaysfAZ1EI4YxO5K9OoHt+vp0u39N3zCb/8pPuIU84yCLZQFMFkMz5hh4UQAUQAEUAEEIFyEYBkL6p8wHWTlWeXW9aHgyJumdIFglTDZEVKH/OhWsSKcMbe5JJ0hTcDNI97gvmY8LZK0lXmfbH0mTscDk7pKk7pbk7pW74ou5wl09na9WCbRDZ2OGe8RYs64gGDsULDgw2JZ+DBg7GqIbcxP+lG4pQXElUp1h6qMdlMyEHHDhABRAARQAQqLwKq8qiWnhzCPyzHPwstaJic5fJOgpavm0pEpIDUsjyO8dZ/eRJwnNJunt52LknPAuH21lYs7RMEm7GPhCZ5BQRby1ToUl3RYtbLepiJJQz1sYJuOndNmP3LRLDDmC69R1PilOcSVTlleLEh2QwQb1wQAUQAEUAEEAFEwAcE8pI6EKdSRFT5DFGVwT7UKLeIkFFjLEcj1QdA8aHcCmE8yBlL1AjLUH+65ZLUiUvS03od3qpVbS2GeKddlE102yK11tQ/PuLgdaX0Q9j2tEVTXxkC8exisiJ4sCl9HbIXepaN5W3tO9SfM7bHRLDDly4dJi875clElY8YBBtCRvIS743l84JjRwQQAUQAEUAEykdAVRIFoQZiDQTb4qJ5hHM1Ur0PUpZbbDKo1UVabV2NQZJ6+tq4INYORxsoD3HDnNLt2hg/RFLojqK4BmBCYgnBdriXwC1fEYAwEM3Lv9NEsMOXLn17zzokT3mLCPUQLZsjJpvx9fRhOUQAEUAEEIGYQgC80y5VgBMEQkEsLjw+/lLOWIFGOHeAhJrFJoNaHUg+Z2wwp7SvQVIofdyXTrSwD0hzfoORmRFULWyiw+3LGMJdRiPYA8+G0fzEGVuJkz8DPwPw8KZdg9+Zrt0wpkvveglRK3+ymYy2j7Ve1q7NI5lPP/FMRrs2fTPbtXk9q2PCtJyuHT/N7topO7trp/wVXTruzOrc/s/lHdodW6103wlr2Ib9cDy7S+cVUB7qQX1oJ+OpNp2h3WXtnogP/CrAmogAIoAIIAL2RQDiqAWplo8QmLRoceEtW17JKd2h3fQLgGRbbDLo1UUSEkJESmfOWB+DoDgct1bUmRZCMlLTWoYY4X4V1Ym145yxMaBDffY6eMbzgUPEqOsEuwwlkVjDK5DxCh1wh6MNZ8z1Vsj19iV86dIh2Ywq9yJOZacpRGTv2UnPAwgc82UJwu+NL91UVCazbduWy556sltW5/YfZHfp9H1GQtvirwc+/+vGQQMOqK+/cmhr8ohj3709ke94dzrf/eEcvnfBPP77Vwv5n+mpvDBnBT/y9Tp+Il8Va9iG/XB87yfzRHmoB/WhHWgP2v16YL/foJ/srp2+y+rUfm5mu7bPgR0V2YrHEQFEABFABOyKAMjnOeUFGqk+QDbLN1k1VfME67GgueCptNpmOOpryUxA4gwyLparUuFGxBlzUwcJh63R0oeIPdfipr3ZzBl70lASQYLtDSKf952NU/+PlunSJdMXznTp4ncksRNR5a0mgv2H8GpXlKHVqQwjqvyOzwMNQsGstm1vyHjqya4runSck92107eZCW2LVvV87mD+m68f2fn+LL4/dQk/nucURBnIcij/jqub+P6UJRz6zX/ztSOrErsVgj3ZXTtvz3qm/exl7Z7sktnu8WZBGDY2gQggAogAIhBSBCDRiyqnaDfCfQQ0qy0uwgtM6QHN+5sDk64sNhm26uBVNekq7/PUXDYbwikdqI3RFuomZtvs9llL3831rIre7BMa2H5K9XlrB/cRwhm7nTO23HgD41LiSYHzEBZ8nImPEFVZaxBsVSk/2Ywg1goneXK3UNqX8XSbO3Kee+az1XKPHat6Pncob+hrx36c/S7ft3QxP+bMDSl59peYgz37ln7Ff3xvJs8b+trRlT2ePbRa6fFDTrdnPl3+1BO3hRInbBsRQAQQAUQgEAQgJbmqQGpykNODVOXXBtKMuQ5I6BmJLUBaT0tPbS5j98+a1vZSQUpgQmKrVrW92cwZS+CS1NrbMdznjoBI2w3kziM5jHsp15ZJSWSxt+O4z3cEtAeaLzilxQbJDle6dDBTVW4nIM2nZ3MsSTbTyG0UOrF2yoVksxzUia0Z7R5vsVruPjfrmQ4H1z/f5+iuubP50dwNtiLRvpJusHvXnNl8fb/eR1c806FwVWL398Hz7oYlbiACiAAigAhEAAF4NeuUc7UbXgHJ717fqhWQ7IVD0heXd2x2eRrQVvsKdX3O2MWa/BvETq/hjRpdFOo+K0P7nDHKGZsvFFIoXSq8+nFxF3JJ6iquC0LOC+U4PeO4Q9lXNLUtHmwo/ZhDaIgrBtulG87Yk2EZh6q0Iqoynzjl09pvzimhje3s0VT0rxNrIOBOeTPZ3M1S6FjGU081WN+v1zsru3f9Y7XS88QP06fwg6tyopJMl0W6C1dm8/9Nn8JXy91PwjjX9U16e8UTT1wWlvOJnSACiAAigAiYEAASrSoF4gbnItc1TUcD+igyDjJWpJFqy8lkAjIiyJU4Y/U0XWogIQt58+bnCy1hSu8IcldR35zm5QfiBrG9O4UUYXx8U07pa5zS8UI1hdIFoRyoNll2H6f0xWiJ6Q8lHt7a5vHxV4tQJ0pPmgh2+NKlb028mqjKTCI810Kqr9iV3VGebXi1Xd7tr7zZX9G+zPbteqx8rsu27K6djm+fMLb4r2VplYpMl0Wy/1qWyrePH1O8okvHEyu7dSnI7NT2uYqwwuOIACKACCACwUAAwj1cYR9cCwO52GqznFKZU3pGu1EPsdqenepzSbqKUwra20AYIdvdfCRtpc8QB5lBF0ap4O3XS3BJam4icCFNX88l6WWjL7AFbCojHb1uX6yueXx8I87YRCNsS38gCle69G2JlxFVGUOcykEPQg2/S64/8GL7uOQ807FHVqeEQ9vGjDoMKhxlEdBY2P/7ooW8YPTII8s7tT+Y3bVjSGPWfTw9WAwRQAQQgUqKAExMVJV9rhuXnEJg4qLFhTM2RJAZINaUyhabs2V1IQvnIh6f87g43+TDbDmS0BjF4+NbaoQ2zxMfTulk7frYBLJwugW8ZcvLeNOm1fXtYKyFrjPIzlG6yY1gM/YudziuC0Yfla0N3qJFHU5pskjc47rG9QfI/mGZdAwhaar8rpbhtYRUG+S6fNnP1XKPJ3K6dfk9f+irJw6tXRXThNrzoeHgmpU8741XTuR06/LrWrl7SB9qK9v3AseDCCACdkRgS6+GZ1OCv17mX57yGlGVqmEzHST0VPmAINUgrQfSWBYWoZ5B6QSNwBRBKIiF5mxdVcQHUzoNsyl6P01aFkCYmCiZS3BJus8guJTGQ5y6CNOAUBGQM3SpVoByRdBlxLgk3cUpTTf61x+MwqWKYQYiCj5zxmpyxoZyxv4yYQafYZ/lULEyIQAVEJ1Ei7XsQa7lA2RzrzjP+psGDbp1ba/EHzcOGlAUK+EensTZ123Q0t4wqH/Rml6JO/JeGvQvTyxxGxFABBCB6EAgT1Hcbxja603zTST32bphGQwkX1DlI5qnerbVPrV42gXiBgyTFSmNGm+IvxMqtbEqVjGrzPXFWwtKt5rHyCl93ETQnuTNm1/OKd2q7Rure7Y5pW9xxtaZ6/r7GZRneJMmNbzVA9UW7pq0p+s6Q7x8Npek+3GiY2nEtDkEL3LGfjedP1e69JYtgzcxDiYnqvKH7r+RQKo9ibU2mVEzdeXjj9db2ztp3ZqkxNO/LfwMPdR+6Gv/+sWnfLXS8/T6PkmrUx991KvSUekrAvcgAogAImAXBFR5qrhpuOSlfiKqXPpve59qITcX0pKrCqQnh5vWq1b7EyQGZPTAA+jSqo4aDWcuSQ+LiXXx8e5SX1ZBifH6IqzDFYf+IJekOzml72nXxz6NwFYB8qzte0GHC9Lba/sW6fsCWXPGemsecMiC2cBbG7xVq2s4Y1NFfyUhD3lckp7292HLW/uVbR88+GhvIuDtgv5QcpxTOh3isy2NFzzQoPxhdjJU+Fn+MKdr5ylZz3Q4+dNHc5FQ+0GoPT3buz+cy7M6tz+Z82znSZbOI1ZGBBABRCCsCDjlLI3MDg9rv+bOVCXxbChKkRa/mGg+FMhn4c1iLEcjQzChr1Ug7USiDpekZzWCkAdEMBI2VOY+hdoEqHG4JPYWCFImSULCUZBrFzlz06XWkvHczps3t/SAeTZD5mcm8gcPfDOAtHvDm8fHX8opHWakoXfZBeTxQW/lY32fiFt3fXe+M2FsLV066FTDW7Sy/jxAT3/44QtWPNPxtx0zpx31JIm4HXhGSMAzu0unvZ8nWAsL9DhduIkIIAKIQIgQUJXdmkcmPDqxnsNQlcGifyDWeUkdPA/7uw1KGJyxXO3muqcs4uJvu+Eozxl7RbN7ebAnzIXD/mjvgzP2qob/7aEai5aYKMNE/oBgQ7gS9dYnXAdCY1tXfKH0Xm/lcJ8LAZh4yiltzyndYsL49NnfgXmhfMBe1a3LHRkJbU//k5WBXmoLXuqyHkD+zkznGQlti7O7d7kVr3VEABFABOyNgK7Tmt/zKrK724XE2fNmoiqNw2K0Kk/QSD2EgDxqtU/h5WOsQNxQKd0BesFW2wxHfeFtY2yKZvfHoEOt9wtkgDM2E8MAdERCtzZUVcKgGgMTKIUkYkn4AhDsjLNJfrwSZxHa5HC0CfboRZhLGV7zYPcV7vbOJk76j0ia5I5x0NOlr+4tv7G2j3KsLFKI+wP3Vntit7a3cuzr/n2GhvtaKrc/Z2IbosqLiFPJJ6qsEqfyNtkiX19mHVVJIDAx3/W2eAzZLN9KODmnzPJ4ABFABKIIga8TLtKILcQ1/1TyGSbiKEXEKU8mK+8OTQY6VU+0IB8Rr1otwqYl3diheakKgGRbbDIs1bUYUT1EYKKb1Buld4hQAPBWStJVYTEohjuBUA/OWJ72gDODS1IvTuk4y7G65WCqEdtp2nWrxwjncUqfCoe6C2/duoWmerJTjJWxkHnry4EhpIc4Y7drY9TxhYeYLO5w3G214zVKjyVbRg074UkAcTt4ZNoTyy0j3ipa2ztxqdVzZ7k+KFY5la/d7pslMfjFRFXc3wKDbKye8KyknK4usxHJteUzgg0gAjZAID/pxlI/CroHW//iO+Vvgmqp+DGSF7j6BYkq+Sar7Wte3T0aOcmNlsQoQjoMlB9cHrXBZhzOKlO01fb/jzMWnjcIZgNi9DNnrCpn7BYtmdBToBISDiiEGgljI0rFVEtSD12ZJFR2cEl6wyD2kvRyqPqJdLtckm7k+oRm3Yvt0hJ3J0A+GprdpdP3O9+fVeRJ/HA7dKRax3bn7HeLV3br8oOPpyo0xZzKpyX3T1k9q2g1hKjyJNd8IaGudVS8BdZ7dypLjfJO5Xsts2eusU9VMvWiuEYEEIFoRcCZ2NP0pZ5CdPUPVWkgXmnp5FqV3wzKEFXllrJBzQAAIABJREFUYqLKKaJPp7KHQCIYiwtv3fpmTfUDvFApYUkWYdFmqA6Z9gxZN0qfMTcpPKWuG/863qxZeKQOzQbg54ghIB62JGmQKYsmXNf7ILlNKIzijD1qkGqYXEkq/ytp8SDukjY8bRq7z+nSsxISamY8/WTRnymLT+tED9ehJ9OeGO9b8hXPbP/UqXVPPBHUBE4+fc+2JjYquXfKn7nVyUu8t+SYkiCOiUzCeqZOOcutvKrMNMpvkVu4HcMNRAARiDIEQJ8afgQgxstzcb22KtS+8NY9A5C5zClrT+fyDgI/TBYXbSLYEXFzhAlghIQmbMWinZ7VeXx8Uy3tOLyaNlQehPqEJA3XxrPUnHLbsw3crtwIaCFC3YXsIhDrADNpcofjVqHBTel/OWNjQMtdJ89nVUpucCOW8fGXVG5U3UcnFGIYm8MpPWngAEmBykmXDqR6Vfdndx/btBEnKYZgkqInea5o+2juBr6yx7N7VyYkWFLscb8yfNiCMEmX4wlCPi4uVQO803C/c8pPiGN5yosGefbMCwFvcVUF2oEQzPdKtYU7EAFEoBIhYLzqkk9aGlV+9/qm2LICAtsWF0EQIOkLeHYpna2TBYvNhrw6TEzUSPWhsx52pneoJXiZbRpPVDwk6PbjOjQIaBNbr/W3dYgfNuLFXW8/IIPk54KoMzafS1J97TM83B3iDkeprIH+9hmt5SGGXuheM3bcRLD3csZKpUtf3qn9PwdX5yCptgGp1kl34coVoHf9d1ivPz1W2imnG/0CYQYBAG+LU/nYRazln7wdJqqyXSPe1p1YXjvAnYgAIhAeBECnFbzVZRFd48dAKQzYIPHKTN7hehoXHmvLaYchLTlnrEgjoRMCti1CFQXpMSkxgGeaM7ZYjAc81jHwOj5C0Ff6bsUDGnimS2KIYeLrE/qkWAgtEqEllG43ygRhEl9lAFZLIJTMGSs0sKHUSK29Sumx5ddP5xfrhA7X4Q//KAvzXz75uHi13GNT2K5DfS6SU0kWCh+qclQjxjAZsZCo8iA3W0AtRHi45TS3/fqGKn+hHd+v78I1IoAIRCMCqvKPRnhLnrrN41Dl/a7jSr55t8+fIa4MYqldr8xyvL4y87kxV0FtUtkZ7cY3xM/qtisuiI6e7Y+x3rYzEA2KGgS0tx4Q8qGrXyznjNUzD0DTeYakSa4ylPY1H8fPhIg4d8aGcsYMErS2jzLru7cnnimL2OH+yJPsbyeOK17fv+/7YbmG9dCNkrWu7mFayymGLfq9VpU/NPaZPzjlWdq9+Lh5N35GBBCBaENAlRdrpLeY5CU97ma+qryvHeMBJW6BiYmqss/VhpxCIGbb4sIZGyIIAaVngGBbbM5SdU3zeJKVRC7aDRxUPyCc5SlLBmHlmEeAUzreIMyMAakuFfvJGetjKjMn5kHzAYBVPbsl5A4ZiNkUbRT+UdaDzMbBA05t7N+3ow+nNfAirvlHJQTapfDhyu4Lkw+dyk7TvdP1u24QcNl7enbQvnbFWBcFbhjWRAQQgcgjsDXxaqLKJ40fAVX+VZtgqE9aBH3rrX4bCimAVfmA64dCXkBgcobFhVM6QSOgJyAUxGJzlqpzSXoaJh0KVQ9JamelMZG2mtI7rLSBdREByNxoIsz/86aOw1u1usYoQ+mGQCdExhLa6QkP18/q3AF1qqOAVOtkO6tz+5Opjz5aO2TXKcRRu97CArmGEBD3B1ihqqUpgKiaYogeKlLW5ERVma/dLw+FzG5sGBFABMKEgKrcUio5jPGjIX/od4IYyKCoKpBJEUi55fhnj0l9oAByT5iQAUm81pBAw7M/TqlITsAZawD2eR7HbUQg3AhoyV1c4R0ORymVHyHvWJL8BuKurwi3jdHY3/LO7f85uAonK+qkNRrWhTkreNYz7f8K6fUGCdRc9zgjXMitP3BSue6j34n9xra8yK2cvgEa1lAeQidxQQQQgUqCAExkBF3rPGUgyU+6s9RTuC/DzEvqYBLHd0t44kt1zzIijbOe0IHSA6BZ7VkmFNu8RYs6nLF3OWNvnk2LvEFLi2zEqorJX02aXGDuGwm2GQ38HG4ETAogez37BvUZN11sxm7xLIPbpRFY2aPbnF0fzEFvdRR5q3Xiv2vu+8dzuj87s/RZDdKekjDHL7y2qGoT9kE9BBZ98mJZxFlVftGI+nKv7eFORAARiEEEVCWRqPIZ15+SaBUBeJXNGcvRwj9gspUrhs1qwz7U55R20V+Ta3JnUzRpMkGuBYmhtK25KS5JPczb+BkRCCcCvGQCLHit7xGa6C1bXik0rPWJiq5Y/m7+2iXk6ByONuFIse6vbaEqv/Luuy/MbP8UZlWMQlKtk+vMhLanV959d2jeKDrl9RoRLq3iATkbXN5qTpzyf8U1KrIyauEhnklg8no2MZXvGqprGttFBBCBaEJAVQaLHwZ4PQZea4sLpCTnjOVq8aB7uEmazmLTflfnTZrU4JL0vGbLfGiAUzqZMwaTDkVsHaf0jkjHffs9MKxQqRDgknSnRzp0INigxQz61boCyORABq1d79DG/8SkXY+3NYG0afc6a5Se075/eyJK60Uxsf5u0vjiVYndxofkWhMhlEYmxVlufajKRwZRzk+6URzb+EwNY5+q7Db0riHbseHdFvOd3OO13RrGDUQAEYgNBCCO2vV0DnHVj1odNI+Pv5QzVqCRgQLesuWVVtsMtL4hXwbpxxl7VdgEnjuXjZDgZZOYfOiKXXXT5xYEhNJhgfaN9RABfxEQ2Rpbt76ZU/o4pzSeM9bYINWMreTNm1c7G9Z0r9/tgpIIZH8sIej7OKUvwEOnv21FS/msjgmnjmxYj4lgophYH16/li/vlGAtuVl5F6xTzjKR5ULilDcTp/JXyT7ZPUzE7LUGlRBQDzFitRUusiCX1x8eQwQQgUqOACh9OOUFrh8R+QgBJRCLC5BoTukO7QaeC55ri01aqq4pf4yDRsSrdZeE2Tqx3bq1BJMYtb94c0daCukt3OFwmPfjZ0QgnAhwSv/lRobhAVCSOgViA2/U6CIuST1N2RrBg32IQ0Kjli0vC6RNu9ZZI/d8tSB5BGpWRzGp1sNBto4cdmZtb/nlkFxr4h6oTC8h0roSiFhP9Nqnqoww0peXhIscJ6rS32t53IkIIAIxgoDQ8ZRTtB+UfWSzfJPVkUO4B2dsj0YEcrzJhVntw9/6mm72VL0eZ+xRYV85njpO6YecUiDVEX0o0G3GdewiIB4GJelhQYjhQTAICjbiLY4ktTNNltTDTKZxxvxOvW7Hs7Oia6e/D2Rnobc6Soj18TwnP5S7wev5+icrk2d37fxnSK+zzd1qEWdiG5FtUVUeJBD2Ud6iKlUJlHMqrxM9VKS88ngMEUAEKjkCoNmpKpBF0SUNBNkVLS6g9mG8agYVEJvEcIpJjBCnqqUY11KPc9AD9hyyiAt3kepVSKo90cHtaESAM5bAJelZ3ry51+ROXJLu4663OC5y7QoVmc9bt5aicbxg87KENm03vTwEk8HYnFR/MHIEf67NE/yWVq149Usu4QO7dvFKrMFzvenFF45ktmvjngAtWi9QtBsRQAQqGQIw29kp52rhHzvI1sRGVkcoFAwoBX1qyD64IBheNas26fU1Lzo3vz4XcdWMVdXLwFqQasY2c8Y+Mu/Hz4hAtCLAGatqetiF+OoBZWUZ1eT8PjPCTlzf5XTucFgODws3fit7PLtif1pKmSRNDzHAdWRTmBcsWsj/b3Qyd0XpEf7J+HFlnrP9qUv5yp7PoYxduL9M2B8igAhUgACQaNDkdMWFFZD87vUrqFHhYU7pY5zSExqpnq17hiusGMYCWproQ+CFg2QxXJLc4vXKItUQNhJGM7ErRCCoCGgTd+VSMdWUvgWTd711pj2IznQj2JLkUkXwVqGCfeINkSQ1F4onMBmzWbO6FVSxfBgk2o45c8skaUioI0uozfh/NeUdg1jvylxW5jk7mruBL2/f7pTli8OfBiA8BBdEABFABMpEAMI9QNhehH8Ij7WbAkaZ9co5APJ0nLEi7Sb8ajlFI3pIIxivGQoghBjp2WFyIofENZS6aQMbsdiSdF9EjcfOEQGLCIjrH0JC9KyNujIIY1N4fPzV3poXGUkpTeaUpns7Xt4+ERdOaVvOWKobQdf7BXUSSqdBGEp57QRyLCvhscY53bpgQhibh4Ho5HrQs88KYn3dVVeVSar1stnPdjqRnfBYw0Cui4DqbO4VR5zyqmBM6g+of6yECCACNkbA2bMlMbJMidhqyzqbnFKZU3pG+5NtPPoyTSuLVEMFzlgzTul7gowTcg5nLFHTE57PW7WqXWajeAARsCkC2kTI+89qtme7EV5K/wvSfsEwmzsct2qhViUx26C8A8Qe3ha5MqJeyyXpfi5JDwejT3Mbyzs8/eDGwQNP62QM1/bxTns7F62uu04Q694d2ldIrDcO6n96Wceng/4wZr5+Sn029KzllUiwS6GDOxCBGEUA1D5U+YAWU51CQA3E4qIpbcCNsyhak6poGtU/lRdDKqQDwcvm8swvF+SAsZ2cscUWIcTqiEBEEeAOx02csc/dCDZ4mCXpzkAN4y6lETOhBo34GwJtL5B665/vnVwwemSFJM0byStv3+HcjUFvs7z+gnXMit17Vizn9/3rFj5h8KCgjl236ZfsFUYYyPxxYyvsoyB5BF/bR3krkOsi4DrgtdYl9cQaCXbAWGJFRKBSIAC61Kp8RCPVswlodlpcOKUTxM0Y4qopfcxicxGpLkg1Y4VmjWox0UuSnuaMvcIlqbluGGdsoqb1K7xrkJZdIyO36GVwjQhEKwI8Pr4pZ+xdN4JN6QYuSU/4M1+iFKlm7CP4ToUblw39+6T9OGtGhSTNF+K6OzODD+n2nFCtgJdYl9apw7s92Yb/vX5tUNr3xYZAysCkwDeSFH5jixaCuIJXePrrr/pt86cTx4v6MO5A7DDX+XFZGpefbicwBCzBppd6dDeIdXnx1Xo7O2bN4Ov790kL9zVFDK+1WeMaCXbYzwN2iAhEHAFIS64qkEmRE8isaHHR4pRna6QaFEDusdhkRKp7S/wCetucsZmc0oe4JPUSRJpSBQzUMjSC2klf3WDuenVubOv7cY0IRCsC3JWZdIxBsF1ZGn0ixpyxelqYlNlb3Q8yRIZby3610n3br59/apkIfjF5kpCAu7pRQ/7ZxAk8dcZ0gwT6SlKXTJsiJORARi6Qv42fzPN7HIveeVvY2eiyy/jCtyfxnRnpBpnd+uXCctv7Z/06DmQaPNVAZrd8+YVo6+E7bjfqpb87g/tr1/YlXxk2vNyjB8//4jPxwAI/r/AHGOvkubz1r58v4KuV7gVh/46V8lojwQ77OcAOEYGII6AqiUSVz2ivsAZbtQc0qc/KcaVopPoAaFZbbTMS9TljT3pL/CJei8fHX6LbJOKrXRnpesI+QcYZ+x88XIht10SwsXp5XCMClQUBmD/AKX0JtK99HZNIqKRPTHStV7pNlJSkQf54v33t11u57C6d/vxHI4blkbTyjoHsG3ztgZzuSE8VpO/gxq/FPtj/Zu9ePhFB8NBC+UD/ypOf82b/u0PfEH2BJjSQWSizbNZMo/+1//2oXLuH9koSZcFDDaT6qDNXbIP3G9oyH4eELt5s8NwHnmjAETAAUq0f/2l5hmFXUvsEY79+3Nsazqt7WIaZ4Ibzs+zFDvRge/s+4j5EoHIgoCqDNS81EOtEq4PSvLk5micLsiq2stpmJOtXlPhFm1z1iiFRJklXaXJ8kPpZkA2YdMUpTYrkOLBvRMAOCAj1EDOppvRful0wIZLDAykcp/SzcJDrNUrPn7yRMl/36V5aIILgcdbrffnOZIMIgvda31/eGsqNG/RCwH8Q0lFe++ZjP6SlGvaB11k/tvqjD8V+6YZmXI9t1o95rj+fNNFoA8g5eKeh3tyRw7mu3gG43Hkj48fUTUYfnu3o20C+IfkL1IGwFHP/4EmH/fDnS3y13qa9iLWJYKN6iP61xzUiUMkQgJAPIaenFBEIBbG4aIQyV7sx7oDJfBabtH11EebherXdQCTXoHQpGK1N2NzL4+Iu5JS+zSXJsga47cFAAxGBChDQ1HJcISBa+JS5ihbDrR83SLe5TDA/r+jScZ8VjzWEPcDX/YF//9sgjhC6AEQT9nd8+CHuq7dWJ4PhWLd74H5hH4RVeNr3c1ZmqX1l2fTbymz+8ZjRvM0994j2YMzwB3J4b7/8ogjjKKuu5/6l06cabeR8MMfAE8otf/894xiQbM+63rbhvML5Deb14lNbbqEgQKaRUPuEGxZCBKIeAVWerT3NQ1y15cQmWmxxgeapLigroUTU42YagBZnmqfv0lRAgBQ0FokuXPq7i6I53bM+NlwjAsFAABRytN+IQ/DQ6a1NTulW7eF8srfjwdy3qudz+YHGWP8vdalB9iCuGgj14OdcOstALsH77ElavRHAcO+DcAudAI8e0N8nklqejYUb1ou4ciDTertjBg4wYq/Lq2s+dqujtagP7XjiNvmlF8UxX+OroV2IsYbzG8zrxae2vE1eRA+1T9BhIUQgOhEApQ+nvEAL/zgQDK1NITNH6Q7thplbUfiEXYCz+qoZYseFl5qQc2BMwjsNr7Edjjb6tl3GinYgAnZAwESaZ5RljxEOwti6ssoEa/+6PkmLAlUFmfrqKwaRhK8/xBqD53rWm0P5rzkr/CasEOcMntpA/2AyoZmolvUZQlZ0AgyhH2WVq2j/3uws4ZHX23rm0UeEegfElAMBhv0Q0uFL7DeEsejtwAOJZ983XHONOK4kPF3qmGdZfRtUQdb2SVrk67Ui3rg6HNayJ7p5qxWOCWN8RR/LIQLRioCqXExUOUXzVO8jkAjG4qKlNIZYavDU5oR7Vr+v5nNCzoXXzHp5LkldBSlmLODkN0a8qMNxk9EupQs4pV30bVwjAohACQLadw5iqN0yl+oleNOm1bXfEvg9ma/vD9V6XW95eKA61jC5TieDf65d7TPh04mf5zpckxeH9e1t2A2TAj3t8HV75PP9jHYAC/AyQwgMEGOYxKlPQgSMPD3Qnn1A3LSOZdac2W42mdOYQ9iJZ92ytn3VsRaEmtK3YKK65etM91ajh9oylNgAImB/BFSlJnGK1ORcS1V+rVWjhUazS2YLbpQLQA3Eapuhqg/pkLXXy+KGzikdxxkTMdBW+tSy0q3jWtpzTukMM4G30jbWRQQqGwKGN1qS7vc2Ni5JnQxiLUmdvJUJ5r7MhLYPbBw04GRZ5Ky8/aB+oZNBbxMHwYP8v7QUn4kgEFXw8Ab6B4oe5dmrH3tdkSu02xedaPCwg5d6zojhol8g04AHxJVDX7Dd86mn+JRXXq7QrtfkRMMmXVkF2vhj9UpDeg/aBn3rA1/75pnfOKj/yfIyL5oI9QHzvSHg6wu81UioA4YPKyIC0YVAfvf6RFUKtPCPHWRrYiOrAwBdak6p/oM022pYhVV7KqrPmzevxiFTHMjiudIkQxa5BKgnkr1o4RwVteN5nMfHt9Q0eecI9Q9JesOzDG4jAoiACwFNihKyk7bzxIQ3a1bXTd+6WbO6nmWCvZ2V8FjjnGefOaaTTn/W/x2TbJBByDi4f80qg0ACoYakJsGIYfbHJl/KfjByhGG3WdIO6sIDAtgNUny+tGUuAzrY8HMKnmrzfl8+jx/8gmETaGtDHdDHBpURaBP+ILzk2yWLxT5f2sx+tvPx7ITHGnpeM6UItUuF5ifPcn5vb+5mLYzE7w6xAiKACEQGASDRqrxDC/8oIECyLS6QQZFDJkXXD5LlZDIWzfG5OpB/SNyi6eim8latruGMDdVu5u/63JBHQS0c5k2RoVHTrvYogpuIACIA7Mj1IApvuD70BERI7LlCyuD4i57HQ7WdkdD29DFnrt9kEDzSEFetEz/4DN7a2yVJ7IMsjL4QwHCXgUyQumoJ2P743XeJSZfgKYft94e9FZDd3yxeJOo//eADftdfPrtE9QNsuPumm0RbnR95RHjwzRj7knDmaO4Gvrx9u1Pma8YroS653ryGJpnr42dEABFABAhRlWu1sA+YRJFLIBzE4sIlqSNnrEh7XTvEYnNhqS5UOijtxxnrw13rPE13GtKPT9GI9oNhMQY7QQRiHAEuSU9rD+WvibkPjFU1PNmuh3VgaOeGC6aVPZ7N2u9HyIaZCDs/XWBM1NPJH0y0g7hgczm7fd4wf57bQwHYDt7hjFnvWrIbYs0riqf2hgUoi+jEXscRlEWObNrI/3PbrYJk61rZ3up77tuXshgUQZbDNeSVUFPqknR0XW/WvdXhulixH0QAEYggApvlm4iq7NM81TkEJi5aXDilMqf0jPYnW2wubNU5Y29qDwJ5XJJ6cMbmcEpnc0karmdHDJsx2BEigAhAdlLGKd3kFvoBYVqUQkxA2Eg1nIqMp9u22fTSoCOe5MzXbSCSQFRh0h2EKvhaL9LlIGkLPBhkz51jZIyMpE1Aotf830cCx7/WrTFwhM/g0TaH2lRkZ+6QgUfXPf5Ie/HApocsukg0vA1xkWrPte69Dtea0mH4U4AIIALRgoAz8W6iykcEqQZpve0J51s1XUt4Aj9IReC1ttpeOOuL+GpJag198tatG4qbOaRdZyyPU7oB9KjDaQ/2hQggAi4ERKZWh+NWEZYV4DyHYGCZ3bXzX1YSxVRE9PC4ahDlUGPx9/IMnvNc5/1wXXCH425O6SrNseIi1UCo9T+dbIeLTJv7QWIdjK8utoEIhAEBSPaiKpD0BTI+zQ5Gj5zSCdqr2yMQXx2MNv1tgzdqdBGntDuXpDv9rWsur4V97IV93OG4TYxLkgaZy+BnRAARiC0E1vTu+erWUcPPhJr0YfuhJ9hbRrx5Zk1vxS1Gv0yC7SLWu2PrasfRIgKIgO8IQFpyp1KkkWrLkwq1yX6zNVJ9ABKi+G5McEuKcA5IDQ6vi8vI2OZLj5qX+jO9rJAMbNq0ur6Na0QAEYhNBLI6JZw6smF92DyrSLKDT7IPr1/Lszq3P1nWFVyKYOse5DJ01ctqB/cjAohALCCgKolElc9oMdWDrQ4ZNKmFNrXriX4fEFCrbfpSH1KBe5bjrVu34IxBVoNztEmHjT3L+LrNGasJ8nq+lsdyiAAiEBsIrElKnPrd5AnFSHiDT3jDhem3E8cVr+slT67oii1FsClFr3VFoOFxRCCmEFDlVzUvNRDrRKtjF3GPkEXR9TS/B+TkrLZZUX2RHpyxdzml2zmla0CWS68jsiQyNgCSsHBKl+r7cY0IIAIxgsAWuQVxyv8V6kZO5WuiKu+TfPmuYI5+e0LC+ZntnzodLhKI/QSfwGcktC32Z/KrG8FGr3Uwv07YFiIQxQhAHDXEU0MICISCWFyENBFjuVr4xw7esuWVFpussDpnrJ5ZDUAj0ofgRw8qi2xslKYLnWhKxRjPku97YVJihY1jAUQAEYhuBFR5tPYmjntZTwzm4HK6dZmx+8M5AWViRKIcfKLsD6a75rx3NKdLp0mBXA+CYDP2USB1sQ4igAhUFgR4QhUCih+uSYqgAPKo1aHx+PhLOWMFmqe6ALattulLfaFla5LYEh5zShdpUlxAuuM1m0bo7QkZJVMdY7/DgdmvdDBwjQhEOwJ5SV1MZBrkQ0ecdSK8TpzKX8b+/KQbgznMrM7t/yxcuQJjrfMjS5T9IdUHsrN4VpcOQgkkmNcCtoUIIAKxggDI56lyikaqDxDQrLa4gGeaU7pDI7A54Lm22GRA1Tlj12pJW7pptsyHhkR4CGN7OaUDOWMzOaXveXagKX6g18ETGNxGBKIVAZ1AO5U9blr83/eobkzUdiofB3N4GQn/qZPVqf0Jf4gdlo0sCYeJp+kPP1wjmNcBtoUIIAKxggAkelEVSPgCr0X3EWdPIxY5UAi0lNx7BJGlNAUmLgbaltV6nLHFuq60lswFNEfjefPml3NKszWyvZi3alXb3Jcg1aBXGqEHArMt+BkRQASCgEB+0p2GV9op31+qRVUermWUNd5klSoT4I41co92Gwf1P4qEObKE2Rf8N7zQ/8SapMQ2AZ5qrIYIIAIxjUB+9/rajQRiqsGDc61VPITcHKWg+gEEdkEkMxFqqh9cJ83a9l4uSW/o4/RUDdFiwjdzjI/TIcI1IlA5EHAq4zViXWgMCBwLm7uF5W3aur69Zn47eQJqW9s4JOSbCWOK1vfrPdW4PvADIoAIIAI+I7A1sRFR5R1a+McOAtsWF87YPVxP9wopviOY+UwfihZX/aBpexKkH9e3zWsk1WY08DMiUMkQcMrrxe+dU3ESp/ICUZV/TB7s40SV/49s7xPSCcxrkhLzfvnkY5TgsyG53jvvv8Wrej63tpJd9TgcRAARCAsC4Jl2eagh/KOAgOfa4gIZFDmlJzRPteVkMhbNMapzl/qHIanHKX2KMzbSKKB94A6Hg1O6G5RCPI/hNiKACFQCBFTlO4NIu0LfvKiCyPsJzDkJ4ZLVuf1fhSuzcTKjjcg1TFZc8UyHP0N42rFpRAARqLQIQAw1xFILST05l6hKTatj5ZLUkTNWpMUrD7HaXjDrc4fjJo3sd4d2OWODIcba3IdGqg8gqTajgp8RgUqGgCr/aiLWh4lTfoKAGpKqNCCq/IXpWEgnLK974onqq3o8u/voxq+RXNuAXEN2zJU9nt2b8vjjpZKJVbJvAA4HEUAEgo4AqH2o8gHXDUSogFj+IeGUypzSM4JYUyoH3eYgNMgp7a6FhCznlHYxN8kZe/Isof5J17g2H8PPiAAiUIkQMBNrb5J6JaEh+0I9aiDXme3bnti/eBEmkIkguf7jqy95Zod2J1YmJIQ0BCjU1xO2jwggApFAwJl4N1Fl0KfmQq8aPDUWF87YEM0bfAJCQSw2F9LqkHbcU51EJIhhrBA81uV1LupK0mjOWB6XpKvKK4vHEAFEwKYIQGwciTmiAAAgAElEQVS1KwSkZPKi2VRVma8dLzbvDuXnFV07ffvjezOLfFGrwDLBVRT5cdaM4pXdu34XyvOLbSMCiEBlRQAyKKrKCc1T7XXinr9D55RO0Ej1EZi06G/9SJfnkNKc0i0VkWqwkzP2Cm/V6pqzISSQZMaYCBnpMWD/iAAi4AcCqvyZ9hvoPfGHqswMN7EG61fJ3T7fPGwoSvGF0XO9edjQorW9la/8uHq8FuWU9uWMreQuJaxULkmlZRy91sSdiAAiEL0IqEoiUeUz2g3F8qRCIVkHih8uOb0DvHXrm6MNHE2jGki1IbOleaWfFiRakpqbxwQ/nOZt/IwIIAJRiECe8ppGnGHSYoNSI3Aqv2vHfyl1LNAdqvIkyVPeOhuCN4Dky3eRzbLXt2OrenQbtCap5yH0SgfXK+0Nz7W9Eo9tGND3tUBPqbmeyC7cvPn5vEmTGpyxEeK+KEkPm8vgZ0QAEahMCKjKYNONZLDVoYEmtdCmdpFq0KpuZbXNcNf3lvhFpDx3ZV98iEtSLxGPTami2ya8EZ4JZBgrfWPWK+AaEUAE7IfA1wkX/X975wEfRZn+8VFUTulNaWKUKBgg2Xlf26mnHsd5+vesiBRBKdmlCypnL/SmoIJgAdQTGxxySEIIIPVASjZ023mIgqLYKNLb88/z7sxkNtlNdrNtNvnt5wOzO/POW77vZPc3zzzv82h57sPGd+JmjbMtmi+vp531XclCOJovr+ctq26/aCTupZrXvVQJ73zPszdNv98z9qF2p35bMB+xrmNgvf5lfjbl3n0HrehxX8yMQSTlNhJidTQvH9QFAiDgFAJe93O+L3Nlrc6MtFtKfHIWRZ+o/oqzK0ZaZ7zPV9E/AiR+UZFD0tOrmP0hKZsrca3rPXgfSbmShOhnHde000iInuZnbEEABJKEgC9+tRFmz31UhRv1erbbhO9uFSkk2sMJKq5Vxlu/sH+3TLt//1cvv3Q4kLUV+8pm0f7i5RcPfty5w9fRntai9SnDDf9GSlm36DF8BgEQSGYCXvfr6ociz3NcY//qCF9G4pS1SlRLuZkff0VYpWNPpxYtait3ELY88Bekrl+g/LGl3G/eTJAQHpLyFscOAh0DARAITiDP3UXj70Y/6zEv6vYs97NiB6+hbEe87hf923SbAt8urFWov0X3th+7qEO7I9vfnArrdQTW6+1vTDm1sMPdRxd36TiqbJNW+llGRt8mxpPPAcbvZLGnuZSe3phcrqvtLoil144SIAACiSXAiQ3y3O/7vrxVBJCIxZ/yIWMx7bsLX1vevxRIiLfZ2kBSNlAuIELM5WgiJMSnRsg+tl6vIE2LOKpKYi8WtA4CFZgAf1eyz7PPgs1uILF17drcu5aW7/FoXs8XheKahbX6Z6yB8fjFz156xx01l/XoOndZj66Hv5/5PmJehyGwv5vxHi3rcf/hZT3u/4hDG8biSqdWrWqRENOM34UvjQWMSw2DzPVmm6Tr15GUX5KUC5WrCP+WulxXm8eTeUuNG5+tFnD6Fm/CSp/Mk4m+ByDg9ZyjeT1LDFG9R+OY1RG+qGXL80mIrwxRvYTvyCOs0tGnk6435JB6ZidJynbG2JuQlDVIiIEkxIO8UMUsgy0IgAAIBCSwvesftHz3PZrXPadQTLPrh91Sbb73F9X2+ha1b3/pssyuGz4Z0PfQz/OyILBLENg/Zc+lTx7oe2h5Zrf1Szq3a2bnGM33/PTSEslC/InrNhKlsRsI/1MWa5Iy0xDaplthb+N4xGueojmecOtSxiZej+QT1L4xt2x5Xrj1oDwIOJcAZ0/MU1kU+ZHibo2zK0b4Mr44dqgvAfatTk2tHGGVMT2dF1ZG2gBHOFFfFJp2GtdFKSl/UON3uW6PtG6cDwIgUAEI0ODTtTx3G83rfrPAGr7PX1CrlOpPF+4rXVTbiS3u0q71kvs6fZ33+CP79y1fAoFtE9h7ly2mvMf/sX/x/Z22Lep89w12btF+b0TGWmEI5DvM+o21OT6Rqev11O8Ji2wh5nIZ0rTTSYgcdV56esS/0Wa78d6SEHeSlDv9RDWPE8I63lOB9mJGYH23esYCHPYR3KF5PU0jbYvvtq0/GiHej4ZojbRPJZ1v3AR8GWkMUeX+4XtMZ1n7VRSUItkaS+oLjoEACFRAAvmZUstzj9e8nl2FwlktTNyl9vNxfm3oWrPIcT/3j1DI5Xa4q9PCjvf8tnH4kH27PpxZoQX2rlkzafPwIfsWdbzn1wXt7+wQCr9Iy5AQtxoGp032ujifg7F/tyGic9VnNtj4nnhOUp+lfMZ+XrK9J13PUL+VfKNgrkXi381yvPYq2eYI/Y2EwKbMxprX/ZXvi9r9lcafI3wZVts9xhfEc3x3HmGVMT2dpBSGj9t+kvLKSBsjIRarKCCGDzUJMYnS02P2SDHS/uJ8EACBBBHYlHmh5vWwBfpzP7GsLNVssXa30diCbX+pDLhGJJA89zL7oXDfL+xwV5el3bps/Lhz+yNbx4w8WVHcRH6eN5e2jh5xclGne44s7dZl/YL2d94bLrtIypMQY43fR7/IUCTl08b+8WqhIotN/seJxXwuE28V/L4ot5FI2nfSuSRlthojjxMWaydNDfpSJgLs7uGzULP7x2aNLdcRvjgtOQnBmRT5C2FQhNXF/HS2UBt93Rkt8Uvp6S0NoT6VdP1m0vWnYj4QNAACIJAcBLyeulqep5/mda/2E9NeDt2nfKnbaexbHezFCWN80Ug2Kut1sHJh7M9pd3O95d3ve3ZJ1y7fLc/sevTLCS/Q3iUflytL9p7Fi+iLCS/Q8h73H13arcvOpfd3efLjO++sEwamqBU1FiHyb+S1ZqUk5TnG74ZamMgC2vhtWqhEdjld7O4nrGGxNi+Hir0dmtUzY1h2z7uGZHn6Dp3rGTEqt/8HY3IHrBqV88C2ETl99o5b9I//8ZY/q/25/T8YMjdzOJfn8wZ/lJmeEIK8MNHr3mN8QfOCxRqR9sNYeHGchDhFQrgjrS/W51sLRYTYxIsOzfbUSm0p34rksZThWvIMCdHV6W4w5rgduuUscxyZprOmaRwH/KlzzjlnYq1atT6oW7fu4rp1666vVavWtmrVqv1cuXLlQ6mpqV/zlj/zfj5ep06dRVyez+PzjXrYQsX1Zjh03OhWeSKwqUsVLd99r5bnzvEP0+c+pUL0cbQPjvoRyivPM1jzesosqlU4UJfr/4I1Nb/dbc1W9OoxZXHnjntW9et1cNuUV+nA6lVJKbK539z/lX17HVrcpeNvPK6Fbf9+cbCxx2s/SfmKEs22XA78m2nsm6F8sF2uiy2jT0qKdaOlBLiux8VlJR48IKzjQTkJ2hiW5blxdE6/N0bM6/vbK8uH7nhtxYi976yZcOjD9W/SvC0zaPEX2bRq2xLK37mWPv1xq9ryZ97Px7nc9DUTDvF5rywbsnNETt9fR87r98aQjzL/Gpfhq0eJKpQery7P0jhsVIQv9aXAglrK4yxYI6wu5qeryBw+q/pSe/g/yshoZITF4/jTSCsb85nwa4BXwXerVq3atNq1a39x2mmnnbr22mt33XDDDXvbtm27v2fPnoefeuopGjduHE2bNo1mz55NS5YsofXr19P27dtpz549xC/e8mfez8c//PBDVZ7P4/O5nrZt2/7O9V5zzTU/nHbaaSdr1679ebVq1aZqmtZV07Ri8WP9eokPIBAKgaU3nFGwIPxmzet+R/Oa37dWMpfNmtf9qLau2/mhVOVXJt/dNVxLNYf2JCFuIilnkhBHlWW0WbNSQ8jNb3fnH5d07fLuCk/3L5d26/K798nHDn316iT6cc5sOrh2taPENvfnxzkf0levvEzczyVduxxY4enx5ZKu9767oO3tEbv4+c1BhB9IiLuUaDZ+Y2xPOfNZOJvVqwV+PleQ1cpII0RnEmIdL/4zyyT7FsI62WewjP0fld271pC57i5j5g/4eFh2r+OTlj67N2vze6fydqxWwpnFcyT/8r5dTXM3v3eK6+X6x+QOWDg0u2fnRxdFbkUuNmSv5xbN6zmiLNUcr5raRRxLmV0+jDvtI+wKUqxNB+0wFoT4/Nv4R8ZuCRDiUtsXWWsHdbs8diVN07T7atasObVOnTqfVapU6cSFF164r1OnTgcmTZpEa9eupZMnTyqhHOv/Tpw4QWvWrKGXX36ZOnXqdJD7wf2pU6fOpzVq1Hhd07QumqZdWh4nAWOKAYH8zKu0PPdEzev+yd/Vw/Ot5nWPjkbEpVB7rZ6c6frIAsPH94b10+ezK+VWysi4JNR6uBxbeue3vaPjx507vLbkvk5bF9xz17Gl3e/7Pf/pJw7/77XJtHvuv+lQ3tq4iO1D69bQ7o/+Tdwut8/94P4svq/T1o87t391/t23dchtd5tjM/saWYh5YSInDfMtUOT8B7Ynp8xcuRJyGZ8RiH2tV5PLdU048xasLLVqdRHp+pCI/0WYIRLCOtgMldP9oxd5aoyZP+D95xcO2v3GqucOLvxsDm3ZtSkiEV2aAN+8ayMt+Ozf9MaqsQfHLfzHj2NzB7435qPupVoWQpoCzqBoZQtzs2CI+EVCPGeIavar/nPEFcawAkpLO8tI3sI/LhPsCVoKvtyuMr7kdlNGhh7DblTkqq+rX7/+jEsuueSrCy644PcOHTocmjBhAn3yySd09OjRWOvnsOrn/qxatYpeeukluueeew42adJk/8UXX/zf+vXrf6BpmuUXWZEnE2O3EdjovkTzeoZqeZ5tRcT0b1qe5zVtfc/rNIrPIm5KS6tqWDfNcG4+Mc3imhfNRTFM24K2tzaf3/aOzh936Tht8X2dPs9td+eJ1QP77V476MGj659+gjaPHEqfjX+O/jt5Im1/YwrtfG86/TB7Fv2ck0V7lnxMBz5ZqYQ4b/kz7+fjXI7L83l8PtfD9a0dNPDo6gF9dy9od+fxxffd+xm3u+Du2+7lfthmI2neqrwHbNBp3PjsYJ1WIVs5ikYITxiC1RFoP+n69ZZgN4V7WbYuV0SuNRDWgWannO4blTNg4oh5fY5kbX7/RGliOJbH525+78Tw7N5HxywY8FJEqL2eTM3rNrJzuZ+LqC5fPM3TSIjXDVHNYvSKSOuM5fn8pWRZBqR83N6WWnDp+0LZxnfx9mN4HzGBlqmpqdNq1Kix74orrjj42muv0aFDh8ISuU4pfPDgQXr11VfpsssuO1izZs29TZs2naJpGlve8aqIBNZ1re/Luuj2+onpPPdhzeuZqeVl3h4NN7tQ0bIlU2XxE+J3m2A6rMJ9ulz/x0/rQq0rknIL7ryl5fy2t//t43s7dl56f+dBS7rfN3ZZ5v1vLOt+/0dLu3VZsaRr502L7+u4/eN72/+8sH3bQys83bfxlj/zfj7O5bg8n8fncz1c38K777gxt+2tLSLpH871ESD24fZFG+GII2X/V8TKHi5fCOtwiSVh+dE5/Z8ZmuU5NWv9m8diKZjDrXvW+jeODc3qeXLMggeeDBur1/247Ys/4mxNvBhPfVn7xOgOftwYdp/ifAIJMd24CWAfWutFut7d2L8uksWKVoV4wwQa6rr+UqNGjXY3a9bs6KhRo2jnzp1O0cdR6ce3335LI0eOpIsvvvhoo0aNfnS5XC9omlYf01/OCXzRvZrGPs557kUFYfJO2r5XT6p9fIzLxOnF31kk5cPErh2mtdG31mUpCdEt2lbOOA2rXDajInvwk9Fo/0tPjzhEbiKBQ1gnkn6M2x45v1+P4fN6H3xv3SuHt/6wJabuHuGKarP81h8207trJx0ekdPn9xHz+/sJxKB4vO7XfV/+ylqdGbRciAcM37AsQ4x+xSnLQzw1ocVUanUpb7R3goR40hhHDj8+tR/D+/AJ/OEPf+jeoEGDLXXr1j0yaNCgUxs3boyKiHV6JRs2bKCHH374VK1atY40aNBgc6VKle4Pnx7OcCwBXtzN1mdlhVbWaA5Pavxze5XVmq3XcXoplzZdb8vZ+CwxzaJaiP+q77Qk+U6OEy7HNENCDPabL/NGKNKtEIMdM8gydATCugzQkuGUUfP7f/Tu2km/bPjO60hBbQprc7t+5zoW2D+Pnt//X0H58qJEXpzo+wE4orF/dYQvjp5BUq41vhw2J6uF17C4TzTG8RZJeWaEaCr06bVr1+5RpUqV/f369TvAUTgq8mvx4sXUt2/fA1WrVt1Xu3btbhX6wkjmwbM/NPtFs3+01/NboZD2cHZa9qMeqrFfdRxf5HJdrpJNSfmrTaDx+8lsBY1jV9BUGQiQlJkk5ZoY/IvYYFaG4UTtFAjrqKF0TkUjc/r9b96WmYdM0ZpM2+wtM34fmdPvq2I02cLCYfSUqHYf0Di8XoQv45HjZuMLfa09RF2EVYd8eoEfWDrpev9IH29abiFSjo6X32HIg0yigqmpqbc3aNDgh/bt2x/58ccfK7KeLjb2Xbt2Ubt27Y40atRoV2pq6q1JNK0Vu6ucNIsjd3g5godpleat+ycV6YMjfsTxRWlp9UnXHyUhPrPENIfLE2IWp8WOY1fQVDkjoH5PhcihSP9lZDSKBA2EdST0HHbu4OweLYdmeWjV9qUJXZwYqZBf+fWSE0OzPCeHZWf6woF5PedoXg8nfOEfgz0aJ4IJ4aVWkbtcNQMVVW4UQnylvtiFyGJ3kEDlYrmPdD2NpHyepPyShBgYSVvkct1OUg6IpI6KfO511113dYsWLbb9+c9/Pl5R3D2KKecQd3As7euvv/54ixYtvvrLX/7yx4p83Th27BxLmmNKc/ZZfzF9QMWg5ljUHJM6Ti8jCkRHtdhaiJM2Qc3xi/tyAqs4dQXNlGMCiApSjic3EUMbkdPnvucXPrwnUlHrlPPZ9/q5BQ/+2nNhz14FCQnWGj8Ou8OJl0pSziEp7yg6H0YGwR2GqH4/1lkEVYIWl+vqou2oTFWadhrpOv/gvFa0n/gcFwL1MjIyVqalpZ3Mzc0NUVqiGBPIycmh5s2bn0xPT1+uaVrtuMwWGglOgLMccrbDPM/ywmhJys3juMqOyFkSOVtiHF+c3pqknEJS7rWJaQ6RNybcmNNx7DaaipCAulmSkheb7lbWW11vE2GVIZ1uhPp7goSI7F/z5hGlhYfFOqTpcnahsbkPPjHlP6N+cooojmY/On7y2O9KVOd5dmh53ZuFOhPkcqUYX+Rv2c8hKVsZf+y8MOZ1TrNqPx7N9yqFq5TDSMqhJMQMo11htqEs1RyNRNfvI12/zdyPbXwI1KtX76UaNWocfeutt6CUIyDwxhtvULVq1Y7VrVt3XHxmDq1YBLZ3/YPm9bTTvO45mtd9tIh1erWW5+mneT11rfJxeEPp6ReSlE+T+UTQt5DtEEn5XkEykL/BVS0Ok5DgJpSbJedYSE2trn7/+BqoQFl/VSZJcwFnhG4lCZ7Kitn8xCVPjfznmhcORFPMOq2ue9Y9dfSR5Y9NDGeG2bXCsEjvMc/juNQkxB5jf8Rxr816g23VYylbDGkSor1q2+W6ms9RGRE5oD3H2zSyJbJLR7D6sD9qBCrXqlVr19ixY5Mz+HQEIjiWp44ZM+ZQwaLPnZqmxc3FIGpXRDJVRINP1/LcbTSv+82C6B37/MW05/OCkHlPa5syL4znkIyY+m6ScqVh0DCzIa4syJDojnQNSTzHgraiT4Ck3MYZFqNfs/Nq5HUCfn8DvIYqhgY85xFI8h6Nmt+/6+v/GbXbaUI4Fv15fcWIn0bP79c51Ckr8K/+xrq4XS4XZ1AkITiTIn/hDwq1nmiVM6J23GlYrbepEH+cftz3haNiZiuXEV3vXrRNtr4X3YfPZSPQoEGDP51xxhknPv/881hqzApb95YtW+j0008/2bBhQ3XzWLZZwlkBCeRnSi3PPV7zenYVEdO71H4+HscXW56VBZot0VKyRdrMhsjfvcPYch3H7qApBxMgId40ro+4Pj2JJxKSsp31NNz8WzC37BIjxIx49gdtlYEAL1R8fsHDe2MhYp1a53O5D+4bnOUpNc0r+YS0aTHhR1C82vwIcZIBIdxlwB3xKSTlMyqIvq63UV8wQownl+sG48vmXeWTJsSnRRPTsI+4uklwuVwRd6KCVyCEGOxyuWCljoPsb9Wq1SEp5dMV/JKLfPhseWYLtFdZogtjTStLNVus3W00tmDH8cW+0cpHmtOJm8LB50PNvtTXwjoXx8lwcFOGK2QTw4g0wLhWWhXtskoyw2uQggQaKFoen0EgZgQ4+odTBXCs+rXlh800LMtzojSoJMSLhng1LSjsT80Cu2Np58biuPIzE2KdWTdJ+bjxJVPDiAO6X93p6noHswxvVVQT/sGCqLZjKdP7Sy+9NNvtdh+Pg6ZEEwaB7t27c+SQuWWasIp8EvtEK99o92p/yzT7ULMvtaedxr7VcXxx1A7j5n+dJaY5uocQuWrxteHKFscuoSmHEjCulWkk5X4j4hUvYFyqrhtdv97sNun6deq4lAvVk1u+STPcJM0y2IJA3AiMyum37ZOvl52MlYB1cr2rvl58clSgONc2+tYKdBbThRYVfs9/3PfH+86YpLySv0DMLlKLFrWNL5mbeZ/KOlbEL5VD58FSbRKLbFu/fv1tkydPPgnFG38CEydOZLeQ/0Y2gxXgbI7WwVE78tw5Wp7neKGgdp9SUT442gdH/Yjjy3Bfu9WIL33U+i7l+NMchzotLW6ZGeM4bDQVAQEj4tY2da0I8SeuinS9g3XtSKks1oZBiY1dPVQZKXsbZR6OoHmcCgJlIzB6/gNzkjX5S7QEe/aWGQfH5A74MBBB5TrBYtoU1ebWLrB5ASP7fMVpoaAVocTmK018l67rXQKOgfsmxMZ43wAE6kuS76vJ/tRr1qyJv6JEixaBlStX0plnnnlM07TqSX49Rbf7HEea40l73e9oXveBQjGtkrhsVnGoOR51nF+Unt6ShHihiL/orypDYkbGFXHuDppLEgLK9UOIFYZAtsLckpTNLWGt6/VUEAHfb7R6mmX46ueoMunpLZNkuOhmeSEwNCvzvnfWvbwjWgI1met5Z82EHUOzenQqOrdG7OpCYW0X1OZ738JGTvt9RzzEq7L8+BYpWrGq1Q+XlFcW639ZRPXGXo0KrFxPBv2X73lC83oqWorzmikpKd8dOXLEEnh4kzgCBw8epCZNmnynaVq1otd8hfvMmQ7z3BNV5kO/5C2cGdE9OpxY/dFiR1LWJSEeVDf05veklMdJiLmk6235qVq02kI95ZOAFQ1DiE32EarAAT4hvdsQ0blKRHOULilrGCnt+YnyM/bz8B4E4kJgeHav3zd8561wvtWBbgDyd66jEfN677WDZ5Fs3RkX/jiYftYbSYjBifJXJiH+rvrGMau5n0JMJE2rZPbf6PsGktI/7nYoizr4MbH/D3ThIidz/9r7Igp4b/YzWbbVqlXb+9133yVOSaLlYgS++eYbql69+q/Jcg1FtZ8b3ZdoXs9QLc+zrcjf6m9anuc1bX3P6zSKXUz9QGMxsiG2VeKZRbT5nclPy1hkS1luIzgE4oF9kREgIcaqa0iInvaaVExzn7AerxYqFl5ns42nIm+R4TZiPw/vQSDmBIZn9Xrk3XWTKlQUkECC2r7vnbUT9w7P6vmQCd+KXe37w+VMX3PUAkCHrDZWlh9+VMZWaV2vZ/Xbd0NQXFTr+gVqAYgQg82yAbde9wT1Y53nPqx53d8E/Pdpn6oBzy2HOy+66CLvnDlz4FNdTNomfsesWbNOXnzxxdZC3nJ4+RUOaV3X+gVxph/UvG6vn5hWf6eemVpe5u3ap+3ibgkOkg2Rw4G9wG4ghQPAOxAInYByb/T99l5rnkVSnmMsYlQLE1lAGzdwC5XIthmXzHOwBYG4ERia5T619YctsFb/uNVisGXXJr8oIYaQ5oggln9X3CaojA2p0IBCbOebgqJVUHp6s4LsZfeqL6L09HPJ5bpcJZXhJAz2H8A89yLfD7d7SNE6Ktrna665ZvpTTz0FUZ14DR20B4899tjJq666akq5vDa/6F5Ny3d31Xx/kydtgvqk2sfHuEycX9Sy5fnFsiEKcdRYmHgru6vFuUtorpwRIClfMSzWKi8DD08lB/JZq2coH2yX62JDWO80k6KpcizAi0TFKmd4MBynERg5r++4Weun/W631uK9T2DPzJ/y+4h5fcc6bc5C6Y8hqnkhZddg5dldhDi+tZTjSMp3jSD0OeoRWnp6FXWe17Pd+AFPmhuKYOONZL/L5br3pptuOhFU0eGAYwi0bt362GWXXeYXXjKSuU/ouWx1Zuuzl63Q/NRILT403LHcXmW1Zut1nF9G/OD7ScolKoa/+Qieb8w5G2KrVnGNMhLn4aO5OBMgIe5SotlIXa4WwfpC7uWz5drsjmEc4nVQq9UTZSE6qxTgQtxplsEWBGJKYPQiT43h83ofhpAutFQXZTEsu9fR5xZ08YnMmM5G9Cq3Er8Usa5zHM+CiCbP8oIPszVrUYixuMP4weSQRr4MkuaP+foeF6j4tnk9rtC8nibm+RVke27NmjWPOkY5oiOlEqhWrRpHCqmdlNcn+0OzXzT7R3s9v/mJaZ8f9VCN/arj/DIiM7QmKf9pyzTLIgbZEOM8FxWtOfW7xHHNWUz7tnzdvU263tDOgnT9Zss9xGfNXk0u1zX2MngPAjElMCqn3z+zNr93rKiYxOdCof3RxncOjc7p90ZMJyKKlau79ACJX5SgZtcPXoUvxCaScqoR4/o0445+ltkNEqIbP8bVPml3duGPOvtX26xlHA+XUyBzWK9y/qpatepvO3fuLFXMoYBzCGzfvp0XM/6SVJdmXo+WKnKHlyN42P7WvO6fVKQPjviRgBenD1dpxH0C2lywfcAQ2K1ZcCegW2iyAhJgIV2QvvtSatz47GDDNxbOZlCzZnF3iwrWJ+yvIAQey+5da9yCQT9BRBeK6GAsnl/48M+Dl7ZLigV6SlgXybnTxUYAACAASURBVKZILVuex19G5qVtZmskIabzPhKCrVDEP6DqM395SZmvre95mf8PvIeKPY7Oc2816y2P2wYNGrw6depUxNVzjmYOuSevvvrqkYYNG0529HXJsaS97kc1r2ez/98ax552v6NiUSfg5pVFieHDutLwW2UL4Snl+sGJsExXMUfDRedAAARAII4Ehsx1d5m2aiwigdgWLAYT1lP/M3rfkLmZCUlZHu1LQsX61PVeVhpYw/esYEX1Yo4owu0ZwnuGlpfZw/Zj/5JmRv/wehr4RyNwl9cYoWefeeaZSFUespR1XsFKlSqd1DTNWXHWOcshh7HM8yzXvO5T1t+Y7ylQjsqSyNkS4/wy4gD/jaR8j6Q8ZBPUX6nFiS1bxj2hTJwRoDkQAAEQKDuBUTn9Fyz8bI4VBSOYqMT+rZT76WwaM/+BeWWn7ZwzSYh+pOttlBuI6bOWllbVSI3OaWDTVEpYjv3J8anzM1trG9xXFxsBL6ryevYaoqBcppVOTU2d+PTTT59ynlxEj0Il8Pjjj59q0qRJ4hcgb+/6B83raad53XM0r/uoJaaVy4d7tZbn6ad5PQmJ7WxkQxxTYKH+3hLT7E4m5RQOn1fsbx87QAAEQAAEihMYlt3zOIeUg3Au3RVk0/cbaFhWz6PFKSbfHpLyS85IxT0nKZuoH1IjFJERUnAd6frdIY0sz/OBTyC4ywWbomM+++yzj+/fvz9UDYdyDiTw22+/UZUqVRJzfdLg07U8dxvN636zIHrHPn8x7flc83qe1jZlKverotderD8HzIYoxEm1MEzXO9rDlcW6L6gfBEAABJKewLAsz42Tlj67B6K6dFFtMpq4+Klfhs3NbJ3Mk69W9fvCYjU1x0FCcHi98fyZUlMrm/vVdoPbpazV67tZCWf8jud5phtiwS9LpV+ZJP2Qmpr6WM+ePR0oFdGlcAn06NGDWrRo8WjcLsX8TKkW9no9u4qI6V1qPx9PwEs9pfItXp5L/tkQPyNdf5TS0uIeti8BGNAkCIAACESfwPDsPq9nbX7vlCkanbTdsmszbfpuo+Ms6R9tfOf4iHl9Xon+bMS3RmWx1nV7RkkPRwgJ2Asz1FeeOyfwcfdPSjjkedYHPJ7EO+vUqfPb//73v3A1XKnlT506RUePJkfkvmTp5/HjxykvLy8o+y+++ILOPffc2EYIYcszW6C9yhJtxJnmxb5sqWaLtbuNxhbsBLwoI+MKEmISSfmrzdXjV7UvI+OKBHQJTYIACIBA+SIwIqfPL3k7VjtGvA58YgDdevetlJaeRmw4fWbM047pm3nTse7bT2jkvL4/JfuVQEI8acT5bMBjMZLCdAs4LuUPqsJ+ndTye97qV8brmWJZ4/J7tvc7lvwf7vy///u/g0GVWpgHpk+fTt27d6errrqKqlWrRg8//HCYNcSn+MyZM8ntdtM111yj+nnPPffEp+EytsKC+v3336eLLrqILrnkkhJrufHGGw9qmuZ/DUd6nbJPtPKNdq+2/hZ8PtNHfb7UnnYq9nuk7ZThfLY+Kyu0EJ9ZYtqeDTEtLe7pzsswDJwCAiAAAs4nMDSrZ8Yry4d8awpGJ2zfz3mP7u1xrxLVrPVmLfqX44Q1c5q8dMiOwbN7tHT+LAfvIWepUtkWOTMVL2IU4gV+RBzwDGWFsy+0cn9fEP5rrW3RImle96aA5ybxzpSUlKX5+fklCrVwDrLF9L333rOu73/961/hnB63sp999hm98cYbVj8nTJgQt7bDaejEiRPENwEspvn7gv+VJqzXrVtHTZo0WRjxZcnROvLd92r8FIejeFjxpt2nVJQPjvbBUT8S8DLi93ZUftLsL21mQxRiHQnRF9kQEzApaBIEQKAMBDb2alTwBftk0H/5nic0r8cx4Z6GZfe8a8qKUQecIKjtfejRt7v6gaxStQpt/t6ZiypfWzFi/5C5mbeX4Spx1ClGOL2BnF2RmjevU2LnvJ4rNW+R5DCFYuJNRyeI2dC1ZoljC3KQQ7QdO3YsHK1Xatns7GxLBH7//fellk9UAXs/169fn6hulNjuokWL6NFHH6V///vfyrIeirA+dOgQcejEIFNe8m6OI53nvlnFlfZyfGl78haOP+1+VON41Al6ceQOI4IHR/IwE7h8T0KMoYyMuGdoTBCGiJo1/M9vJiEeJF3vQK1aXRRRhTgZBEAgAgJsofD/oi30rzP3c9gyh7yGZHn6vrNm4gm7qHXC+2ZpPuvTX//+V0daq5nR26tfOjI0y93LIVMZ327wQkaOa53vGajSLXs958S3A2VobUOvFC3PvUzLy7whjLMvaNiwYdSdoP/xj3+EZFktUVHG4aDZT3ZZYctwtF4s2Nll46mnnopWlaqev/71ryFzPffcc49omtY45GuBMx3muSdqnPnQ/C73bb9VGRI5U2KCXtSy5fkqtrQQHGPaJ6Z9saffIyH+xjGpE9S1pGuWpGzFCbEKEmWtsOL7M1MhpsPKn3TTiQ6XCwJe9wT1pZvnPuyz7LF1r8g/M7GGAwY8fF6vMR+uf9NR4nXlp/+xrHlPjXrKUX2z33TMWv8GDZvXe6QDphFdCJWA1/OWTxS5l4YosP/apk2bk1FVf8RJLdPVNd6vX79oVx3V+sx+tmvXLqr1TpkyRY2ffbij+brllltCFtZ//vOfOVlMyZF9Nrov0byeoVqeZ1sRMf2blud5Td1UUmJSeKtsiJz1UMolRhZEU1CvVFkSkcI51G8Fq1xBYqw/qRsTtu4bqdlJCGmsQ2FxvZt0/QLrBLwBARCIA4E89yLjh3tIHFqLuInR8x+YMW/LDEeJ14lvTbCE9b+XzlZ9c2JkkOwtM2j0/Afej3gSUEH8CLDV2s/aWLLAvvzyy0f26dMnKtrPdCf5+eefreubfYOd+vrpp5+sfk6ePFl18+TJk1GxXDtBWPfq1YtvcJ4tdvGt61q/IHrHg/7ZRDmiBxtLPDO1vMzbNU6IlIBXCdkQvyEph1F6ekLiYCcARdSbVGzZUs3W6RYtatsbICmF7UlAPjVufLb9ON6DAAjEkoDXs9344b4jls1Eq+4x8wd8sviLbEcJ6/t63qd+0Nm/+u05/6TWN7VWn+vUrUPDXxzmmL5+/EUWjZk/YGW05gL1xImAZbW2+8YGFthXXHHFvBdeeKHM2nfnzp3EAu7cc89V1zBbgB9//HFLsDrZv5p9ls3FgDk5OcTxn9klhP89+OCDxFE4yvpygrAeP348XXnllb4Mql90r6blu7tqPsPISdvN10m1j49xmQS92Dda+UjbsyEKcYCk/GeBywJ/QZ6WoK4lTbOliWGbeN4WaFCk6yMtcS3ExEBlsA8EQCAWBHxWDdLW97hAhVbK63GF5vU0iUVT0ahzVM4D21ZtW+IYscquFilNU6wfdP5hP/+Cxn6fp8+d7oj+rty2hC3W/4vGPKCOOBIoZrUOLrBTU1O3zJs3r0z68auvvrIE9RNPPEFbt25Vi+xMsco+xqG+Dh48qM7l0Hxl+Td69OhQm7LKPfDAA9bfHYtp8+bA7P/IkSOtsuG+cYKwnjNvLtXves03Piu0skbb1sO4vcpqzdbrBL3Yn1dF7+AoHqbftBCnlOsHu4Ckp1dJUNeSrllefKjcOKRsFazzxBkmfb7UuwOVYd5GHT6XG5crJVA57AMBEIgmgU/anV1o6SgSOYFDMeW5xzstasKInD5783eudYRQZVG9bNNS68ecLdYzcj9QfZuzrNB6dlu7Wx3RX++OtbYfYrs4w/vCv4NkYOEOMI8+C3bt2rV//u9//xuubiS2RDdu7LshZFFtvn744Qfr+g7HxYQt36agLcu2tPBzZv/sW3v4umnTpqlDnBLc9LtmoV3WlxOE9fzPV/vPu8+PeqjGftUJepGmnUFC3EpCzCKOM10oqHlR4tO8SDFBXUvaZknXG5KU2xRLXQ+6JkZFRTJ5a9oZgQZMUj5mzYmUEwKVwT4QAIFoEljf87JigsK0YJt+nXnurdFsMtK6xi185Gv7grxEvx//+jhLQIyZNNpPQF/f5jp1jBPHJLqfZvvF5tucZ2z9RYujeZjC2twqf1oVPeTiiy/eHq545GyKnPyFBfDll19Opm811/Pdd99Z13c4/tX79++ncePGlfkfx6MO58U3BqaAL7rA8Pnnn7eO7dmzJ5xqrbJOENbcmcofdDisIn1wxI8Evig9vaWKIc+L40xxx5kROUMisiGWeWbYV1rF6TeZMt9golmIbhb7IL7q1LLleVYZrjNYzP8y9xgnggAI+BPg8GOFAuIlzYz+4fU08F8I437G/8TEfXKaxbpj1w7qR5v9qYsuWLzhxhvUMQ7FZwrbRG7ZYj1iXp+9iZs9tFwmAn6uICymiwtqs96aNWvuDtdiPX/+fEt4rly50hKT/GbZsmXWMRbZTn2x6DeF9eeff+7XTfZNNo/9+uuvfsfsH2bPnm35ZJu+2ebWPJ+35r6i22effdZeXUjvw4kKwvPK82vOdby3JGVdFSdZiI02sXachJhLut4Woi2yGTGSX3HIvEHqCUChuA4YCYakvMWaB13vEax1knKqrdx1wcphPwiAQDQIcHzq/MzW2gb31cWq41XkXs9eQ3j/t9jxBO1wmo+16U/NAruoaDZ9r9t2uqvYsaJl4/EZPtYJumgjbTbQ4sUg8a0vuOCC9eH6WHMKcBaM7ErB1mv7i7MX8rFw/Kvt58frfe/evYP2k0ME8hjY1aWkF6cX53Jl/ffII4+UVH3AY+EIa46lnZKSsj7Syymc843EI22VeJbyuCXQWFxzMhIp64ZTH8oGJ6DCEQohuQQJkWpj/Wags0jKBlYZKecEKqPq8iXgMUMbDgtWDvtBAATiQSDP84FPWLuPxqO5UNpwUlSQj/MXWT/CL0wZ7yee7b7Xz459xu9YPER0oDYQFSSUK8xhZfys1YUuH8F62apVq9nhRAXhdOWmkGTXjaKvtLQ0dZyFazivI0eOEFu/y/qvqNW5tLZZ+PM4AsXZNsdwzz33lFjNgQMHaPv27QH/8cJHrp/rCFZm7969JdYf6GA4wpot7xkZGbODzX0097M7h3LrYPeOQsvpbuX+kZ6esMQy0Ryj0+siKVda7IMs/CQhNlllpKwRaEwk5ZlWXGsplwYqg30gAALRIsDZ6Nhavb5bvYBV5nmmGxZrx7gPOCmO9dhXxlqiZPmWZX7i+aGnH1LHeEHjJ5+v8jsWSPTGYx/iWAe8yp2907RWB7FQF+18q1athoSzyNDuQrF8+XI/7WdPD/7BBx/4HSvtQzwXL3777bfW3+GHH37o17XVq1dbx9itpawvJ/hYB41jXfQiKOPngNkQeUGib2HircF8fcvYHE4rhQDpeg9LNOt6h0DFSYixVhkhHglUhveRlO8a5QKG5gt2HvaDAAiES8Dr+U0J5zx3TsBTzVS4eZ64Pn4M2Bdj57Ds3qOdknmRXTz4O6vpJU39hLP36zyq37C+OvbEiMf9jsVDQAdrY9b6N04MndcTjwJLusCcdIyt1SEKalu321x//fUhpzR/+umnLeG5Y8cOS3fyIj97uDoWyocOHbKOl/bmxx9/VAsheTFkWf6VZl22tz99+nRrDLt377YfUhZm/hu9/fbb/faH+8EJwvq66647VlLmRXK5XCTEQNu1UOpbFZItUDZEDpknRF+kxC4VYcwKqPCFhU8LAv5GG+nMfW4eJS101PWnTAEesw6jYhAAAU3TvO45hkX6pJbf81Y/Jl7PFOMYafk92/sdS+CHIVmevtPXTjgSTDzGc78pnjlBjNnull2b6abbblI/9Bkygzbu2GAdM8skavvPNS8eHJrl7hXO9JHLVTOc8igbRQIbupaF/QX169c/HKpwtC/sy8rKUqexOBVCWGKV3Sz+97//qX2h1hvPcpwIhsUzu3zYX5MmTVL7eZEhx+iO5BUrYW26qZTm/819r1ev3mFN0xoHusIMUb2HXK4bAh237+PkLCpJiy9ZCydtMYXZ9yqpS0ZGwsL32fuJ98rSPNOaH11vGIgJCZFjK3N3kDJmBJGdgY5jHwiAQLQIbMq8UPO6j1oC2uv+Xstzr7UtWuQIBJui1Vw06hmW3fOu11aM2JMocWq2uzBvgSU8Rk4YqcTz2q/WUKfundR+DrWX9/U6x4hq7very4fvHTI38/ZQ5oF/oEnKpYSkAqHgclSZSpUqnTh6NDSj9dKlhXHYWZy2bu3LGtq5c2dlaeZ9/I+t1+vXr49Em8bsXDP+dteuXVUbJ06coKlTp6p+801BpKKaK42FsF6zZo31HcKM8/PzgzLipwVnnnnm8UAXGt/8khB7lLgqQVhz+nCVRlwITiduLmY7RFK+R0L8jVNkB6of+xJHQMUIL5yrAYF6QkJI23zu5OgiRcuRlO1UGSECWr6LlsdnEACBSAh4PVdq3iLJYawQfO43nZYgZvD8zPRJSwdvNwVuorabv99EHLfatFqbEUDYp7rPoD7FQu8lqp/2dl9e8sy2oXPdLUq6XCxB7fsyf6uksjjmTALnn3/+ory8vKAizX7g8OHDfgKaBd5zzz2n0n/ffPPNSvixxXfRokX20xz1ftWqVfSnP/3JEtLcXx4H3xwUdQ0pa8ejKay3bNlSjDn3l//xOJYsWVKsmyzCmzRpsrDoFadEtZQbLGFV5EbYiDTh9lsIZ8+G2KxZwtKeFx0LPhcnQKmpla2Fh0IENXKRzdWDU5kXrYmkHG0I685Fj+EzCIBArAjwQkaOa53vGait73md5vUUu+uNVdPh1jsiu88ved+udow1eOnGJfT2nH8SZ1vM3+51TL/sonrdt6toxLy+PwZjXURQ+6xZRX6kg52L/Y4jcPtNN910sJg6C7Lj+PHjxMKNFy/+/vvvVil+zxbtffv2Wfuc/IazLPJiRb6pKGsimGDji6awDtZGSfvbtGlzUNO0W+xXWjFRLSWLc1bopysLNFuipWSLtOnqgWyIdoBJ8p6kfMmawyApzlUGTCnn2MpZ1m0rkyNHEAmSbCZJUKCbIAACsSIwPLvP63M3vXfcLhzxfmuJgv6jje8cH5Hde3LROQkoqGGtLoop6T7XrVv313ATxZQk7Cr6MXbF+Pnnn/1uPOLF5LPPPqPzzjvvZ/tFGEhUK8umEGNIiO9tAmsvSTmFpLzWfj7eJw8BkvJK23yOCtZz0rRKJMQIW9mlpOtDiBc1CvEmXzPBzsV+EACBCk5gyEeZf315ydM/Q0yXLKbtfCYsfuqXIdmeP5uXTgmCGtZqE1ISb5s3b/5Y0dTe8RKCaCe6BLp168YLMwfZL0fyt06aFmnflm+MhcglIe6hlJQ/2M/D+/gRUDc/QnRVa1V0vX9ZW1aLTaXcpgRzCZE/zPpJyqbkS3f+CgnxBOk6si2acLAFARAITmBYds9jm3dtLNFKaxeWFfn9pu830PDsXkeYZkBBLQT/EBf+KJuPjrFNOib2v5hzzjnneLK4cURXipaf2jgFe7Vq1TjMnvUiKd+yrJJF/3Z13UtpafWtwngTVwJGMpZbSIj3rTnyfY/mR9IRJZDN72NdbxNJXTgXBEAABAISGDW/f/aCz/4NYf1j6Vbr3E9nnxqR01dlbFPCWohl1pe++cMMYZ10ItqaQ/MH1/CxNf9gLrnkkglPPvmkf47y8qM5K8RIHn300VPNmzcfb86pn6jmeQ/09ytEwBTYZh3YRp8A6fplJMR4a6Fh4d9kPgnRL9KbHSN5j+87yhdjnCOB3EG6nhH90aBGEACBCklgaHbPztNWjdlbkS3RoY799f+M+m1ottsvc1dQgW3+IGDhYnn4u6p8xhlnnKgQCrScDvL0008/pWlaJb4Yi4lq82810BY+tTH/+yVdv4B0/VGS8ku/m1x215ByGGVklBiBKZwO+iWL8c03u4Y8TRkZjcKpB2VBAARAICiB0Ys8NZ5f8PCuUMVlRS43NvehH55b0KVKIJjFBHbhjzRC7QUClmT7ateu/eLUqVOPlVPdWa6HNXny5EM1a9YcZ7/kVCIYjjHPvrtCDCYhXiR+AmV/ClX4N7wBC9bs9CJ/7+c3XcjZfNo1laT8My8ijLylwhqUz7SUC43FqRPJ5bqa/a4LS+AdCIAACESJwMicfm9lbXrvWEUWzaWNfc6md46NnNdvamnIAwpsWK1Lw5YUx6tXr/7rN998U65FaHkbHGe6rFGjxk9lucA4qZP6e2ZXASnvKEsdOKc4ARLiH36WaZ+wziYh2gdKymLWoMLdCTGQONydrv/F3B/qloR4RLl9YCFqqMhQDgRAoKwExnzUvdqI7N6OSG9emsBN1PHh2b2OjZ/Z7uxQGRcR2LBahwrO2eXqVK9eHVbrJFLf55xzDi9YrOHsy6pi9Y6E6KyENQtk9puWskEwApSWVpV0vaOKzmK3bAvxWrBzsB8EQAAEHEFgRHbf5/+VP+1wooSrk9udmT/l95Hz+gWNe1rSBFoCG1brkjAlzTFd1zu0bt36SBJpywrb1euuu+5oamrqbUlzcSVxR8NJ485WadL1tGDDVUladP0vKma0XUzzeyEWk653odTU6sHOx34QAAEQcAyBoVmek1t/2IwIIbYIIRyKcFhWz+ORThJ8NCMl6JzzXS7X5Mcee+x4hVWsSTDwQYMGHdd1fYJzrpry1xMVEk8Ij7XoUIjV7K5R1pGSEOkk5SiViMVfUPOixkEc0aOsdeM8EAABEEgIgeE5fR55Z+1ERAixCevpa17aN3xe74cSMiFo1LEEUlJSPpk1a9bJJNCYFa6LM2bMOHXRRRf9x7EXTznoGCfMISHmKpcOtiBz9BSfRXlMOMPz85v2F9P7SYixlJGhh1MfyoIACICA4wgMn9dn3/qd62C1/nEreXespRHz+uxx3CShQ44gUL169d++/fbbCidcnTzgbdu28WJFv7TljrhYylknjFjTxJE1eGhWBkshpoc6VEuM2wW1ENNJiJvYHSTUelAOBEAABBxNgONav7t20m4n+zzHq2/T1074afjczI6OnjB0LpEEqjdt2nTXgQMHnKw1K0zfODtmkyZNdmqaFjAkZiIvlPLUNknZyrBO55rjIpfrduJQdi7X5ea+0rYk5WijHvhNlwYLx0EABJKbwNjcgR/N2zLzaLwErBPbydr8wdHnch/8MLlnEr2PA4HqZ5111rGVK1dWGAHrxIEuW7aMKleufETTtKpxmPMK3QRJOc4QxO5IQFDLlufBbzoSgjgXBEAgqQiMnt//61XbllRIl5D/bFtMo+f3/yqpJgydTSiBJk2afD1hwgT4XCdAdb/wwgsnGzVq9HlCL4AK1DhJydkKqSyxpCsQJgwVBEAABIoTGJrVs8JFCVFRQLJ7RRwFpDhN7CnvBFq0aPFRt27dEC0kjuK6S5cux1u2bDm7vF9bThkfpaWdpUS1T1hf75R+oR8gAAIgkBQEhmVnXvpc7kP7nOiqEas+jc19aP+wrJ4XJ8UEoZOOIyClfKply5aH46gtK2xTl1566eErrrjiCcddBEnUIeWOIWW7ULtMLVrUtgnrmwOdR6mplZEqPBAZ7AMBEAABTdNGz+/X+fX/jPotVkLWSfW+unz4L6Pm98diRVz5ERFo1KjRH08//fRTW7ZsqbCiN5YD37BhA3EgisaNG18R0URV0JNVghYp21nh8tj6LERqKDj8LNZSPh7oHBJilhktJNBx7AMBEACBCk9g3IJBj7+1evx+J4ngaPflrU/G/z52wYMPVvjJBoBoEahUo0aNb0aNGoUsjVFU2SNGjDhUq1atr6M1SRWlHtK0SqTr15MQr1sWZzPMnRArODlLqCyIE8H4zmVf6zPt55EQXUnKpfZ9eA8CIAACIBCAwPMLHn7stRXDf462oHVCfWypHrvgoUEBho1dIBARgRo1aoypUqXK0alTp56Kor6scFW9/vrrp84+++xjtWrVGhXRhMT4ZEpPv5CEGMPikoR4nzIyEmpVJyEuJSmHBshmyKL4ce5vuEhIymds4nwqZWQ0Ui4lQkxT+xM85nDHg/IgAAIgkDACI+b17vTcgof2biknac95oeLY3Af3D8/p0z5hUNFwRSBQKyUlZe6FF154ODs7u8KJ4kgGPHfuXEpJSTmSkpIyR9O06k6+WEjKuiqWsxCtKT29mWUddrluKNpvZUGW8jGVDtyXwfCcomXK+tkQuX1JynybACaSkrMZvhCp2KfGjc+20pibVm9zK0TnsvYb54EACIBAhSQwOMvTfFiW58TKr5eccIK1uax9+M+2j08My+p5HAsVK+RlnJBBn3XWWZdeeOGFG/74xz8e8nq9kejNcn/uunXr6MorrzzUtGnT9ZUrV26WkAmLsFHOHkhCbFLW4tTUymZ1lJZWlYTIISE6WxkMdf0283hZtobvs7/fdKHYnUFS3sJlgtXNPtac8TDY8aL7KT29pRpbYRvrQvXTLloXPoMACIAACGiaNmpe//9mb5lxqKzCNpHnZW3+4NCo+f0R9xZXckIIVKlS5S/16tX7+o477vj9u+++K/ciOZwB7tixg2677bbfzz333G1Vq1b9c0ImKIqNkq63UVZjmyWXhPgHSfkuN2Mdd7muiaRZv2gdLHbZb1rXu1OrVrWC1avOEcJNUq40LNv7OaJHsPKB9ivruK43DHQM+0AABEAABMIkMHr+gNnvrHn5l/yd65IikYx3x1p6Z+3Lv4yZ/8C/whwqioNA1AmcddZZnapWrbrH7XbvX7hwYTj6s9yVXbBgAXk8nv1Vq1b99ayzzuoQddhxrlBZgKWcTFJOMIT1+9wFSk+volwydL27+szHhfi06CLAsnSXpHy+NL9pFQpP128jKWcWcRNhV5E5LJTL0jbOAQEQAAEQiBKBUfP7dx2R3ef3d9dOOrxl1yZHCmz2pZ6+duKRkTl9942c90CXKA0d1YBAVAhUqlSpS6NGjTbWrFnz6MCBA09VFDeRvLw8GjBgwMnq1asfbdiwGSL7oQAAGC5JREFU4fqzzjrr3qgATXAlpOsdSMqdhjV6gGUN5sgcGRm6IbRvIl3vqER1GRYQhjNEjilNQlxFQkxUot503/BZtteRrvciXa8XTp0oCwIgAAIgEGMCo3MHPDEsq+eJf+VPO5ZIN4+ibf8rf+qxYdm9jo/JHfBojBGgehCIlMC5TZo0GdyoUaPvmjZtenTYsGG0ffv2cmWd3rZtGw0dOpQuuuiiY40bN/6uQYMGT2maVjdScE45n10vlHDWdWV1V6K2MAV4Q8v1g63Uuv6o6fes/K5drprRHIfhN/2klYK8UFDvJCGe5QWW0WwPdYEACIAACMSAwOicgS8On9f72NxN7yV0ceNHm949MSy79/ExuQPHxWCYqBIEYk2gebNmzabUrl17r5Ty0KRJk2j//v1JKbL37dtHL7/8Mum6fqhOnTp7Lr300imapl0Sa4CJqN/wnyaOnGG2T1K+ZVithU1YTzKP81YtYnS5Is74SlLWICkzbX7T7OLhiwgi5Ssk5bWkaafb28Z7EAABEAABhxN4bkGXKmNzH3z3uQUP/TRt5ZjDuZ/Opk3fb4ipmwjXn/vph8TtPbdg0E9jcge+PX5mO+vHzeHI0D0QKInA1Q0aNHi3WbNm/23cuPGBu++++9D48eNpxYoVdPDgQUeJbe7P8uXLady4cXT33XcfbtSo0YFmzZp92aBBg3c0TbuqpEGWh2MkxDp2A7GPxYr8wZE0OCIIh73zid2HOUOh4aIx1X5OWd8rl49Cy7TPb1qIu+xCv6x14zwQAAEQAIEEExi8tF3VoVmeTmMXDFwwPLvXsUlLn9n/0aZ3aN23n0RFZK/7dhVxfVzv8OxeR5/LHZg7ZG7PjizsEzx0NA8CsSLAlt5OtWrVevXcc8/deuaZZx5r0qTJ7x06dDj80ksv0apVq+jo0aNxEdtHjhyhlStX0osvvkjt27c/zP3g/px33nlba9Wq9YqmaR01TYvYChsrkLGot0DY5nKMZ3vdJMR0JaSNCB2k63cbwtpnTeZz0tOj8p1luJ7wwsTe8Ju2zwLegwAIgEA5JDBsbmbr0TkPTBuZ0++XV5YP2zX1P6NPvLNmIs1a/wZlb5lBH3+RRSu3LSGO3sG+0rzlz7yfj3M5Ls/nTV425IdROf1/Hj3/galDsj0lhuUyEhpwMoZsDnNFQpSLRVKlXSLlddwqu52Uo1QyDn687XJdXRILxUEID0k5riAT3YySyibpsUs1TetSp06dafXq1fu8UqVKJ6655pqf2rRpc6xDhw7Uu3dveuKJJ2js2LE0ZcoUmjVrFi1evJjy8/Pp66+/pj179ighzlv+zPv5OJfj8nwen8/1cH1/+ctfjl199dU/nXHGGSfq1av3Wd26ddnayolBuB8V+mW5fdiEMgmxuGiab9L1hiRET3K5bmAxHAiaOhZlv+tA7WAfCIAACIBAOSAweHaPlkPmZt4+dsHAQc8veHjS8wsf/uj5BQ+tHT1/wPaROX32jlv4yDbe8mfe7zv+8CQuz+cNnXV/i3AwUEZGC8P/8EbjUewz4ZyfrGXL47ipWbNqJGVTat68DgnBGeaIfVeDzZGR5a65YSVcGKxcOdvfStO0m6pXr96lfv36g5o0aTI2JSXljZSUlI/OP//8FfXr199Ur1697dWrV/+5cuXKh1JTU7/mLX/m/Xycy3F5Po/P53q4Pk3T/qZpWstyxisqwyFd76+uMyFUNlfjJpCvz+tCaYBcrhSVHVGI7STERv4cynkoAwIgAAIgAAIJI6BW47MYKyF5QsI6F8OGy+u4jcfvK0tCZ4U5k/LxksrhGAhEQkBlQORsiz4/6mdIiNUFyVpal1QnuVw1SUoOy7eBhPiGhHiRXC5XSefgGAiAAAiAAAg4hoB6xOpb4HOjYzoVh46U13GTlM8oK2FaWtVgGA3hQhRhhrtg9WM/CJgEjFTmfy8QyV1LunknKe8nKf9NUu41XEjuMOvAFgRAAARAAAQcTUC5DwjRWi0ccrkuNh7XdrV32kjP25aEGMir6+3HkvV9eR03paXVJ5frdtL1v6hEG3yjJESqfZ5IyubGo/kbSYi5as5TUv5gL5NM70lKYcY9Lq3fBh+OOJGO8Gql0YrfcXVzK8SbJMQelemQxXcAP2oV3aN8rgeIH2y0BAIgAAIgEH0CRtaxfxhCegYJMdYW7qqP2SIJ4SYhdpMQ/SwRJkS6eTzZtuV13CpcmRDvG3P4UoFwnG3NpzFflJLyBxIiR82n7xE7L1pl4b042eaR+2uEZOMFcOyr27CkMVB6+rm263e3YuO7rseyJbWkc3EsNgSK+U3zjXsJvtMqeQvPGc835iw2k4JaQQAEQAAEykbAENIsSPqbNViZyIS4i/eRlH3Uj5gRXYKkHKY+S8kLwJLyVR7HbTxi5zjBLJLVEwVlmeXP/K9ly/PUQkWf2LYs2FZ4MyGeSKbJpIyMK9QNgjk+3pYgrFXWP59/L4+9L1uqScpzSMqpBrO3IdTicwUYftPs6lEmv2mS8nE1ZyXMd3xGglZAAARAAARAwCBAup6hfpyk9IsEYSRxYDF2JRW6hagwbJzm17DyrU5WkOV13Co2r09kWgsQKTW1ujHHbN2rRJwMwydA7TdSvY0y1ybLnKqbBBbEQtypFsCZ4roEocUh3dQ4OS6yLYSbwWincSypbi6SZb7MfkbLb1r5Z/OcCyHNurEFARAAARAAgYQSICmfNwTVLWZH1Kp9n0jh7GdnkpSjjTKDSIjBhlvBK9FK2GC2G89teR13gcjkaAtsta1n8lRWXZ8AmW24v/jK2CK+qNjlXMaWZto8Pxm2lvXSN/aAriC2mynmc1vRcVkLPNnFIC3trKLH8TlyAmpthpRzlCgu4jetQn0K0Vm5eUjZrrQnByQlhwXlm3/ruyvyHqIGEAABEAABEIiAgGXBs/3IWQvdpJzMVVvWQCEeJCFuZeteBE064tTyOG7lN+0TGvl2yCTEa0qACNGedP0C4/1cs4xawMjnJal/NY+DpHzYEFlBXUGstNk+8W3deFgceJGnjx+LtXbmfmxjT8C4+ctX7jnsX+0Lxbcw0A2OEuC6/pA1n0K4Y99DtAACIAACIAACIRAwMvPtN4v6WTQN/+mCGLMrlODIyNBt5SqxIDM/J9vWKeNWi+6kXElSlpgZMxS+NmE90yxPUjYwxOKX/ISBdP1m9VmIsVzGmO9Zxr4nSwp9ZtbpxG2Iwtq32K1IOm1zPEZSHZ8vupTvmvuxjT0BdW3aotEYfxc8F0PtratkMkJ8arg8jTOu22ftZfAeBEAABEAABBJGwBIkRnxjK0ufzWJHQjxp/ICt40foBZbNPxlhsO5MWMcjbNgp4yYpXzLYvhnhkNTpKiW9EMr33VjIOENZ/9LTm3EB9kc12tuk5lGIaYZ1kEXMONL1kdHoR7zrsObTZ40u5gpCqamV1bhLsczbyiTt+oF4s49VeyTE22o+DJcl203/aG5TRb/xPWHgdPF4gQAIgAAIgEDiCXAEBZLyS2Ox4kIjnF5ne89UVAnTd9cnTFiUlZgpzX5+oPdGJAb23WYf7/D/6fqjgeoNdV/Cxp2R0YikvMN8xK1CGPrEwcPcdyMM3l0lRbYoaYycFtoQyuzH+qkxr1ea5xhW7W2WgPRFe/EljxGCLddnmmXD3SZyTksV1lI2scYsxKxgYzPCD7JbzO5gZbA/tgSM75uubK1Wc2amPne5rlafbQmMjGs8N7Y9Qu0gAAIgAAIgEAYBI+RYUyU2bZES7FUoaxFHA7EteLMfD/c9pac3toSOT1iaj+BD3X4ZbptFyydk3KZbDW85WkehBbm1EqYcW9rH462i/Q31s7H4tDm1aFE70DlKXOt6mrk4TC1Q5cgvQeY+UB2B9iVyTksV1hyWr/A6C2rhtBZ/+sqW+SYjEB/sK52ASmgkJd/49bHNhZov2xzXNWsy1n9E/F1g1octCIAACIAACCQlAeXPyguQyvpPiG7JOHASYowl8PgpgCmsfWEPfaHgfKLumWQbXyLn1Ca6Ai5etDgzWyFeC8ZWWUBNAY7IIMEwxWS/tYjWjJWfkaGrvxUhNnGDJMQk9blZs2pmByw3psaNzyZdTzP3YwsCIAACIAACIFBBCKgFWD6LHCdy4ZCGyvWgIKFLLglxb1ndQCoIvoDDLFVY+7uCqHjsgSqyEiNJaS3oDVQO+6JPgKR8ha3UZs3GEyX++1BzQVJONm5Km3AZkrKu8Zn/fp7gdPbmudiCAAiAAAiAQNwIGCGtPiMhovmvb9wGUMaGYjRuZhj22Kl58zq2ZC7s/rKfdL0Du4OEOzwnjSvcvkerfAjCmrMrmm5GfsmQ7H2w3eh8at+P97ElYPjns0D2W8RruoNw6+rplu8mtKv6zItthfClsRdiXWx7iNpBAARAAARAIAgBTh7Cj02j/K9YXOAgzavdKkqDy3UNlfVfGUL9xWjczDHksZOuX2aJAZ/Q86VlFsJjE37ZnMykJH72Y04YF/cnEXNqcihNWKv+ceIXnzCzrKLm+ep4WtpZ1hwIYcX5tpfB+9gQUBFsfH8PL9lbMBaTKh9qvwQ/QqxWf0e+xcCj2b/ffh7egwAIgAAIgECFIpDIhW6JBG3Ez/ZZToX4O2VktFBizuW6nOwJSoSYnch+lqXtRM5pSMK6MMsoBUpyVOCKc5VNWCelD39Z5s0p56inBULk2PtjzMcr5j4Sop9R7u1gi3PNstiCAAiAAAiAQMIIGH6/owzh9wonaLB3hoRIJc686PODfMJ+rCzvqWXL81QoOCHWlXEb1E82nP6QrndR6byFmEu6/ihHzCjpfJW50JcZ7hWS8umSygY6phK0CPEmW+r5uOH+wY/AVfY4lRhDiOlRSRhTwthURBJd76Wy1wnxfqC+hrsvkXMakrC2C2cpbyw6PhLiEUtYRyn6TdE28Dk4ASM05H7zpsdKEiNEavCzcAQEQAAEQAAEHEjAyDrXVPn+CtFXCQxdb2N2VaURNhPFSKliLpvHknmrbhhatapFUrYiKfNVqvMSws4Z2QvZF5qtzo9HOnaVlMVXV9AQcGVto6SxqRB7ZhZGKbPL2oZTzrMS7TBLXb8gUL+MxXCc5ZJvZPxuzIwEMl8ax4JGDQlUL/ZFhwDfTBr831ZPb3w33XdFp3bUAgIgAAIgAAIJJKAiVEi50t4Fzsqnfvhcrsvt+8vLe8tCZruhCDQ20vX+BgdldQ5UJtR9JERnVZeu9wr1nLKUCzQ2EuImo+2HylKnU84hl6umldjFd5MyIFjfKD39XJJypzHuDlyONK0SScnJivhmaWlpTy2C1Y39kRNQCY74iQ5nJNX1Yhk0I28BNYAACIAACIBAAgiQlL5sfEaqc+6CYdElM7FIAroV0yZtkQlGlNSQSufOIqwUt5GS6rAf46cB9s+xeB9obJaY1PXLYtFmrOtUFmgz4Y5PFJtRP3jLTx8CCuwCa/Wl1rXM2SlNoc3uQC5XzVj3G/WDAAiAAAiAAAhUAAIqlbDLdbt6DKvrHZUFz/Bv5IyLhkWPU2Wns2ghXb8+2bEYLhGXGb7ODQyR5Zf10LBoXkvsW12YtGKx08de2tgMcclh/i5QqdU53J+mVXL6uKLRP5VJlBeOCnGrstynp18YjXpRBwiAAAiAAAiAQAUnQGlpVUmI940Yvi8VCOfZtni+6YyHOIIFWwV9Ict8j9J9n1snKz6S8kYjwsBqw0LPqZTZ2jnTHBO5XCkqaYjP39NtJRARIuIFnGYbsdiWNjaOqGCMlRNw8Hz6EtVImXQZH2PBD3WCAAiAAAiAAAiAQNgEVPxYFo0+kXwVV6As1z6BSRzpQe0zQ5UJ8YL6rOvXG+eoz2E3nOATlKXSENGmldZKmSyliqVr+ONuU0kqDLcPEmKiIUivTfAQgjYf0tjYUuubc76pOEfdXPk+IzFKULI4AAIgAAIgAAIgAAIlELBl/7MiXKhQbKawNlwDzAxo7BLC1VFhMg2/BY4lNOWYQyqyh2mlbdasmtkxkpLDDbLFepAaIy+g4s8ZGbqtzEy1r3Hjs819TtqGMbZxahy2hZpU6K8cdvZHJzFAX0AABEAABEAABEAgIQQswWzLHkgZGVco0WUkKTEst+wG8rbZSWrZ8nyjzOvmvmTZ2iy6o+19Jimz1Zh8ftTsb80i27pxUD7L7AojhGP9q0MZG4+ZeNEej0XTTjcZGG4uO83P2IIACIAACIAACIAACIRIgKNaGOIx334KCfGaIZrb8/4C8X2n8bmrWY7MFNxCqDLm/mTYcmIXY9y3mP01EuSwkN7G+0iIe40xD7TK6Hp3Y9+T5j6nbUMaGyfn4ZsGId40+6/S2/tuJCab+7AFARAAARAAARAAARAIkYBNWBcu1pPStNR+yW4FXBVJOcEQok3VZ3YD8YUpyzf9k0Ns0hHFOLGLMZ5WZodUBkKf2FSprK1QdEL83RgzL/DcbQjSP5kuMeb5TtmGNDZdb6vGoev3mf0mKSerfRkZjcx92IIACIAACIAACIAACIRBQLk/CLGaTzEWMs5QESLS05uZ1ZCUnJFOuQgYsYNfM0SmJUzNssmwtVxdDP9ikvJKQzBPNPuvQuv5LLhvqfCDnDjEjJyh60NICEdmhAtxbL4FmK1aXcTjtSWpUQlTTAbYggAIgAAIgAAIgAAIhEFAZTrzCUaOT81+txwh5Ep7FSTEGCMs3TTDDzebXSfsZZLpvXEDMUuFmROCtxxqjhcunmmOw+Yawe4hO42McCuUAHdwSvcQx8YxynnM76r55jm3LWI0GWALAiAAAiAAAiAAAiAQJgEjwkdzjm0c7FRVJj29GYdmC1Ym2faTz+2lKYvRQH1XSXGESOVkInxcfU4SV4lSx6ZppxsxuusGGjv2gQAIgAAIgAAIgAAIgAAIgAAIgAAIgAAIgAAIgAAIgAAIgAAIgAAIgAAIgAAIgAAIgAAIgAAIgAAIgAAIgAAIgAAIgAAIgAAIgAAIgAAIgAAIgAAIgAAIgAAIgAAIgAAIgAAIgAAIgAAIgAAIgAAIgAAIgAAIgAAIgAAIgAAIgAAIgAAIgAAIgAAIgAAIgAAIgAAIgAAIgAAIgAAIgAAIgAAIgAAIgAAIgAAIgAAIgAAIgAAIgAAIgAAIgAAIgAAIgAAIgAAIgAAIgAAIgAAIgAAIgAAIgAAIgAAIgAAIgAAIgAAIgAAIgAAIgAAIgAAIgAAIgAAIgAAIgAAIgAAIgAAIgAAIgAAIgAAIgAAIgAAIgAAIgAAIgAAIgAAIgAAIgAAIgAAIgAAIgAAIgAAIgAAIgAAIgAAIgAAIgAAIgAAIgAAIgAAIgAAIgAAIgAAIgAAIgAAIgAAIgAAIgAAIgAAIgAAIgAAIgAAIgAAIgAAIgAAIgAAIgAAIgAAIgAAIgAAIgAAIgAAIgAAIgAAIgAAIgAAIgAAIgAAIgAAIgAAIgAAIgAAIgAAIgAAIgAAIgAAIgAAIgAAIgAAIgAAIgAAIgAAIgAAIgAAIgAAIgAAIgAAIgAAIgAAIgAAIgAAIgAAIgAAIgAAIgAAIgAAIgAAIgAAIgAAIgAAIgAAIgAAIgAAIgAAIgAAIgAAIgAAIgAAIgAAIgAAIgAAIgAAIgAAIgAAIgAAIgAAIgAAIgAAIgAAIgAAIgAAIgAAIgAAIgAAIgAAIgAAIgAAIgAAIgAAIgAAIgAAIgAAIgAAIgAAIgAAIgAAIgAAIgAAIgAAIgAAIgAAIgAAIgAAIgAAIgAAIgAAIgAAIgAAIgAAIgAAIgAAIgAAIgAAIgAAIgAAIgAAIgAAIgAAIgAAIgAAIgAAIgAAIgAAIgAAIgAAIgAAIgAAIgAAIgAAIgAAIgAAIgAAIgAAIgAAIgAAIgAAIgAAIgAAIgAAIgAAIgAAIgAAIgAAIgAAIgAAIgAAIgAAIgAAIgAAIgAAIgAAIgAAIgAAIgAAIgAAIgAAIgAAIgAAIgAAIgAAIgAAIgAAIgAAIgAAIgAAIgAAIgAAIgAAIgAAIgAAIgAAIgAAIgAAIgAAIgAAIgAAIgAAIgAAIgAAIgAAIgAAIgAAIgAAIgAAIgAAIgAAIgAAIgAAIgAAIgAAIgAAIgAAIgAAIgAAIgAAIgAAIgAAIgAAIgAAIgAAIgAAIgAAIgAAIgAAIgAAIgAAIgAAIgAAIgAAIgAAIgAAIgAAIgAAIgAAIgAAIgAAIgAAIgAAIgAAIgAAIgAAIgAAIgAAIgAAIgAAIgAAIgAAIgAAIgAAIgAAIgAAIgAAIgAAIgAAIgAAIgAAIgAAIgEDYBP4fIHh/AZ4Zw5EAAAAASUVORK5CYII=)\n",
        "\n",
        "Durante a construção de um modelo, as operações realizadas nos tensores criam um grafo computacional dinâmico, também conhecido como Dynamic Computation Graph. Esse grafo é dinâmico porque é construído à medida que as operações são executadas, permitindo flexibilidade e facilidade na criação e modificação de modelos.\n",
        "\n",
        "Propagação para Frente (Forward Pass)\n",
        "\n",
        "Durante a propagação para frente (forward pass), os tensores são passados através das operações definidas no grafo computacional, produzindo uma saída. Este processo é usado para calcular a perda (loss) do modelo.\n",
        "\n",
        "Propagação para Trás (Backward Pass)\n",
        "\n",
        "A propagação para trás (backward pass) é o processo de calcular os gradientes dos tensores em relação à perda, utilizando a regra da cadeia. O autograd facilita essa tarefa, realizando automaticamente a diferenciação reversa ao longo do grafo computacional. Os passos são:\n",
        "\n",
        "1. Calcula a perda: A partir das saídas do forward pass.\n",
        "2. Calcula os gradientes: Utilizando a diferenciação automática.\n",
        "3. Atualiza os parâmetros: Os gradientes calculados são usados para ajustar os parâmetros do modelo através de otimização, como o gradiente descendente."
      ],
      "metadata": {
        "id": "_zzJuEVsm7LE"
      }
    },
    {
      "cell_type": "markdown",
      "metadata": {
        "id": "bgy_OWwv8KSp"
      },
      "source": [
        "### Criando Tensores com `requires_grad`\n",
        "\n",
        "Vamos criar tensores com a propriedade `requires_grad` definida como `True`:"
      ]
    },
    {
      "cell_type": "code",
      "execution_count": null,
      "metadata": {
        "id": "jWPSGKjK8KSp",
        "outputId": "abe68250-3721-4dbe-d720-43644b2b10b0",
        "colab": {
          "base_uri": "https://localhost:8080/"
        }
      },
      "outputs": [
        {
          "output_type": "stream",
          "name": "stdout",
          "text": [
            "tensor([[[1, 2],\n",
            "         [3, 4]],\n",
            "\n",
            "        [[5, 6],\n",
            "         [7, 8]]])\n"
          ]
        }
      ],
      "source": [
        "# Tensor com requires_grad\n",
        "x = torch.tensor([1.0, 2.0, 3.0], requires_grad=True)\n",
        "print(tensor_3d)"
      ]
    },
    {
      "cell_type": "markdown",
      "metadata": {
        "id": "d3HF3zzo8KSp"
      },
      "source": [
        "### Realizando Operações com Tensores que Têm `requires_grad`\n",
        "\n",
        "Quando realizamos operações com tensores que têm `requires_grad=True`, o PyTorch cria uma tape (fita) para rastrear todas as operações. Vamos ver um exemplo:"
      ]
    },
    {
      "cell_type": "code",
      "execution_count": null,
      "metadata": {
        "id": "AZfpajDg8KSq",
        "outputId": "67633827-929f-4242-e611-e758573a326a",
        "colab": {
          "base_uri": "https://localhost:8080/"
        }
      },
      "outputs": [
        {
          "output_type": "stream",
          "name": "stdout",
          "text": [
            "tensor(14., grad_fn=<SumBackward0>)\n"
          ]
        }
      ],
      "source": [
        "# Realiza uma operação com o tensor x\n",
        "y = x ** 2\n",
        "\n",
        "# Mais uma operação\n",
        "z = y.sum()\n",
        "\n",
        "print(z)"
      ]
    },
    {
      "cell_type": "markdown",
      "metadata": {
        "id": "VpZcicqJ8KSq"
      },
      "source": [
        "### Calculando Gradientes\n",
        "\n",
        "Para calcular os gradientes, usamos o método `backward()`. Isso calcula o gradiente da função de perda em relação a todos os tensores que têm `requires_grad=True`.\n",
        "\n",
        "Os gradientes armazenados em `x.grad` representam a derivada da soma `z` em relação a `x`. Como `z` é a soma dos elementos de `y` e `y = x ** 2`, a derivada de `z` em relação a `x` é `2 * x`."
      ]
    },
    {
      "cell_type": "code",
      "execution_count": null,
      "metadata": {
        "id": "v9JZELGb8KSq",
        "outputId": "305eeb3c-1ca0-422e-aceb-a9721b4738e7",
        "colab": {
          "base_uri": "https://localhost:8080/"
        }
      },
      "outputs": [
        {
          "output_type": "stream",
          "name": "stdout",
          "text": [
            "tensor([2., 4., 6.])\n"
          ]
        }
      ],
      "source": [
        "# Calcula os gradientes\n",
        "z.backward()\n",
        "\n",
        "# Imprime os gradientes armazenados em x.grad\n",
        "print(x.grad)"
      ]
    },
    {
      "cell_type": "markdown",
      "metadata": {
        "id": "i6x2nCMl8KSq"
      },
      "source": [
        "### Desativando o Rastreamento de Gradientes\n",
        "\n",
        "Em algumas situações, não queremos rastrear as operações, como durante a inferência do modelo. Podemos desativar temporariamente o rastreamento de gradientes usando `torch.no_grad()` ou `detach()`. Vamos ver como:"
      ]
    },
    {
      "cell_type": "code",
      "execution_count": null,
      "metadata": {
        "id": "74dH2yaQ8KSr",
        "outputId": "557148c6-2dd6-4495-c38b-83a8e8eb1e95",
        "colab": {
          "base_uri": "https://localhost:8080/"
        }
      },
      "outputs": [
        {
          "output_type": "stream",
          "name": "stdout",
          "text": [
            "False\n",
            "False\n"
          ]
        }
      ],
      "source": [
        "# Desativando o rastreamento de gradientes temporariamente\n",
        "with torch.no_grad():\n",
        "    y = x * 2\n",
        "    print(y.requires_grad)  # False, pois o rastreamento está desativado\n",
        "\n",
        "# Criando um novo tensor sem rastreamento de gradientes\n",
        "x_detached = x.detach()\n",
        "print(x_detached.requires_grad)  # False, pois o tensor foi separado da tape de computação"
      ]
    },
    {
      "cell_type": "markdown",
      "metadata": {
        "id": "o8BBHkl18KSr"
      },
      "source": [
        "### Verificando se um Tensor Requer Gradiente\n",
        "\n",
        "Podemos verificar se um tensor requer gradiente usando a propriedade `requires_grad`:"
      ]
    },
    {
      "cell_type": "code",
      "execution_count": null,
      "metadata": {
        "id": "NKJqaOER8KSr",
        "outputId": "fb2d2c3d-2097-4f53-e58e-dc137b35d78a",
        "colab": {
          "base_uri": "https://localhost:8080/"
        }
      },
      "outputs": [
        {
          "output_type": "stream",
          "name": "stdout",
          "text": [
            "True\n",
            "False\n"
          ]
        }
      ],
      "source": [
        "print(x.requires_grad)  # True, pois x foi criado com requires_grad=True\n",
        "print(x_detached.requires_grad)  # False, pois x_detached foi separado da tape de computação"
      ]
    },
    {
      "cell_type": "markdown",
      "metadata": {
        "id": "icONcFyL8KSr"
      },
      "source": [
        "## Funções de Criação de Tensores\n",
        "PyTorch fornece várias funções utilitárias para criar tensores de forma eficiente.\n",
        "\n",
        "- `torch.zeros`: Cria um tensor preenchido com zeros.\n",
        "- `torch.zeros_like`: Cria um tensor preenchido com zeros, com as mesmas dimensões de um tensor dado.\n",
        "- `torch.ones`: Cria um tensor preenchido com uns.\n",
        "- `torch.ones_like`: Cria um tensor preenchido com uns, com as mesmas dimensões de um tensor dado.\n",
        "- `torch.linspace`: Cria um tensor com valores linearmente espaçados entre dois pontos.\n",
        "- `torch.arange`: Cria um tensor com valores em uma faixa específica com um passo definido."
      ]
    },
    {
      "cell_type": "code",
      "execution_count": null,
      "metadata": {
        "id": "jwPhHZjw8KSr",
        "outputId": "f580b580-350f-44eb-b307-9c2ead937f39",
        "colab": {
          "base_uri": "https://localhost:8080/"
        }
      },
      "outputs": [
        {
          "output_type": "stream",
          "name": "stdout",
          "text": [
            "tensor([[0., 0., 0.],\n",
            "        [0., 0., 0.],\n",
            "        [0., 0., 0.]])\n"
          ]
        }
      ],
      "source": [
        "# Criação de tensores de zeros\n",
        "tensor_zeros = torch.zeros(3, 3)\n",
        "print(tensor_zeros)"
      ]
    },
    {
      "cell_type": "code",
      "execution_count": null,
      "metadata": {
        "id": "AtLeT2nr8KSs",
        "outputId": "ba5dd0de-5a12-465f-e504-f913fb80bb7e",
        "colab": {
          "base_uri": "https://localhost:8080/"
        }
      },
      "outputs": [
        {
          "output_type": "stream",
          "name": "stdout",
          "text": [
            "tensor([[0, 0, 0],\n",
            "        [0, 0, 0]])\n"
          ]
        }
      ],
      "source": [
        "# Criação de tensores de zeros_like\n",
        "tensor_zeros_like = torch.zeros_like(tensor_2d)\n",
        "print(tensor_zeros_like)"
      ]
    },
    {
      "cell_type": "code",
      "execution_count": null,
      "metadata": {
        "id": "YLUPnL278KSs",
        "outputId": "d573dda3-f47c-45a9-826d-8464af9d4d00",
        "colab": {
          "base_uri": "https://localhost:8080/"
        }
      },
      "outputs": [
        {
          "output_type": "stream",
          "name": "stdout",
          "text": [
            "tensor([[1., 1.],\n",
            "        [1., 1.]])\n"
          ]
        }
      ],
      "source": [
        "# Criação de tensores de uns\n",
        "tensor_ones = torch.ones(2, 2)\n",
        "print(tensor_ones)"
      ]
    },
    {
      "cell_type": "code",
      "execution_count": null,
      "metadata": {
        "id": "emY0Fp0K8KSs",
        "outputId": "882fe138-e365-4c6c-afa7-5d9f78c08a26",
        "colab": {
          "base_uri": "https://localhost:8080/"
        }
      },
      "outputs": [
        {
          "output_type": "stream",
          "name": "stdout",
          "text": [
            "tensor([[1, 1, 1],\n",
            "        [1, 1, 1]])\n"
          ]
        }
      ],
      "source": [
        "# Criação de tensores de ones_like\n",
        "tensor_ones_like = torch.ones_like(tensor_2d)\n",
        "print(tensor_ones_like)"
      ]
    },
    {
      "cell_type": "code",
      "execution_count": null,
      "metadata": {
        "id": "T5O9b-Ay8KSs",
        "outputId": "2a9e44bd-8666-4a60-d99f-85bc15960471",
        "colab": {
          "base_uri": "https://localhost:8080/"
        }
      },
      "outputs": [
        {
          "output_type": "stream",
          "name": "stdout",
          "text": [
            "tensor([ 0.0000,  2.5000,  5.0000,  7.5000, 10.0000])\n"
          ]
        }
      ],
      "source": [
        "# Linspace\n",
        "tensor_linspace = torch.linspace(0, 10, steps=5)\n",
        "print(tensor_linspace)"
      ]
    },
    {
      "cell_type": "code",
      "execution_count": null,
      "metadata": {
        "id": "qQSzhJmd8KSt",
        "outputId": "88650f39-e312-49ac-edea-d646cc171c1b",
        "colab": {
          "base_uri": "https://localhost:8080/"
        }
      },
      "outputs": [
        {
          "output_type": "stream",
          "name": "stdout",
          "text": [
            "tensor([0, 2, 4, 6, 8])\n"
          ]
        }
      ],
      "source": [
        "# Arange\n",
        "tensor_arange = torch.arange(0, 10, step=2)\n",
        "print(tensor_arange)"
      ]
    },
    {
      "cell_type": "markdown",
      "metadata": {
        "id": "MaJk8vPZ8KSt"
      },
      "source": [
        "## Indexação e Fatiamento\n",
        "A indexação e o fatiamento em PyTorch são similares ao NumPy, permitindo acessar e modificar partes específicas de um tensor."
      ]
    },
    {
      "cell_type": "code",
      "execution_count": null,
      "metadata": {
        "id": "0McDyTau8KSt",
        "outputId": "0daecaf2-a018-4489-ee82-30f953f6130a",
        "colab": {
          "base_uri": "https://localhost:8080/"
        }
      },
      "outputs": [
        {
          "output_type": "stream",
          "name": "stdout",
          "text": [
            "tensor([1, 2, 3])\n",
            "tensor([2, 5, 8])\n",
            "tensor([[5, 6],\n",
            "        [8, 9]])\n"
          ]
        }
      ],
      "source": [
        "# Tensor exemplo\n",
        "tensor = torch.tensor([[1, 2, 3], [4, 5, 6], [7, 8, 9]])\n",
        "\n",
        "# Indexação\n",
        "print(tensor[0, :])  # Primeira linha\n",
        "print(tensor[:, 1])  # Segunda coluna\n",
        "\n",
        "# Fatiamento\n",
        "print(tensor[1:, 1:])  # Subtensor a partir da segunda linha e segunda coluna"
      ]
    },
    {
      "cell_type": "markdown",
      "metadata": {
        "id": "cPDBCBIS8KSt"
      },
      "source": [
        "## Operações básicas com tensores\n",
        "PyTorch suporta várias operações básicas com tensores, como adição, multiplicação, subtração e divisão."
      ]
    },
    {
      "cell_type": "code",
      "execution_count": null,
      "metadata": {
        "id": "PpWU78vI8KSt",
        "outputId": "a8167d18-4f0d-40ad-8e2d-eadb55a21340",
        "colab": {
          "base_uri": "https://localhost:8080/"
        }
      },
      "outputs": [
        {
          "output_type": "stream",
          "name": "stdout",
          "text": [
            "+ tensor([5, 7, 9])\n",
            "* tensor([ 4, 10, 18])\n",
            "- tensor([-3, -3, -3])\n",
            "/ tensor([0.2500, 0.4000, 0.5000])\n"
          ]
        }
      ],
      "source": [
        "a = torch.tensor([1, 2, 3])\n",
        "b = torch.tensor([4, 5, 6])\n",
        "\n",
        "# Adição\n",
        "print(\"+\", a + b)\n",
        "\n",
        "# Multiplicação\n",
        "print(\"*\", a * b)\n",
        "\n",
        "# Subtração\n",
        "print(\"-\", a - b)\n",
        "\n",
        "# Divisão\n",
        "print(\"/\", a / b)"
      ]
    },
    {
      "cell_type": "markdown",
      "metadata": {
        "id": "GFzXD79p8KSu"
      },
      "source": [
        "## Manipulando formato (shape)"
      ]
    },
    {
      "cell_type": "code",
      "execution_count": null,
      "metadata": {
        "id": "LPYgAh818KSu",
        "outputId": "a8727ca1-9a8f-4ea1-c18e-0ac22ab8570c",
        "colab": {
          "base_uri": "https://localhost:8080/"
        }
      },
      "outputs": [
        {
          "output_type": "stream",
          "name": "stdout",
          "text": [
            "tensor([[ 0,  1,  2],\n",
            "        [ 3,  4,  5],\n",
            "        [ 6,  7,  8],\n",
            "        [ 9, 10, 11]])\n"
          ]
        }
      ],
      "source": [
        "tensor = torch.arange(12).reshape(4, 3)\n",
        "print(tensor)"
      ]
    },
    {
      "cell_type": "markdown",
      "metadata": {
        "id": "T9CUayP28KSu"
      },
      "source": [
        "### View\n",
        "A função view em PyTorch permite alterar a forma (shape) de um tensor sem alterar seus dados subjacentes. É semelhante ao método reshape do NumPy."
      ]
    },
    {
      "cell_type": "code",
      "execution_count": null,
      "metadata": {
        "id": "rHenNiSr8KSv",
        "outputId": "4bf93bb1-be42-440b-fc19-6d82d09ebf2e",
        "colab": {
          "base_uri": "https://localhost:8080/"
        }
      },
      "outputs": [
        {
          "output_type": "stream",
          "name": "stdout",
          "text": [
            "tensor([[ 0,  1],\n",
            "        [ 2,  3],\n",
            "        [ 4,  5],\n",
            "        [ 6,  7],\n",
            "        [ 8,  9],\n",
            "        [10, 11]])\n"
          ]
        }
      ],
      "source": [
        "# View\n",
        "tensor_reshaped = tensor.view(6, 2)\n",
        "print(tensor_reshaped)"
      ]
    },
    {
      "cell_type": "markdown",
      "metadata": {
        "id": "CYWqtIpb8KSv"
      },
      "source": [
        "### Transpose\n",
        "A função transpose retorna um novo tensor com as dimensões transpostas."
      ]
    },
    {
      "cell_type": "code",
      "execution_count": null,
      "metadata": {
        "id": "w7vkh6Xm8KSv",
        "outputId": "4d5df153-6f83-43e1-e400-55b88a842db8",
        "colab": {
          "base_uri": "https://localhost:8080/"
        }
      },
      "outputs": [
        {
          "output_type": "stream",
          "name": "stdout",
          "text": [
            "tensor([[ 0,  3,  6,  9],\n",
            "        [ 1,  4,  7, 10],\n",
            "        [ 2,  5,  8, 11]])\n"
          ]
        }
      ],
      "source": [
        "# Transpose\n",
        "tensor_transposed = tensor.t()\n",
        "print(tensor_transposed)"
      ]
    },
    {
      "cell_type": "markdown",
      "metadata": {
        "id": "h6cVMVYU8KSv"
      },
      "source": [
        "### Flatten\n",
        "A função flatten retorna um tensor 1D contendo todos os elementos do tensor original"
      ]
    },
    {
      "cell_type": "code",
      "execution_count": null,
      "metadata": {
        "id": "uP_UqiTe8KSw",
        "outputId": "29a3d24a-1a86-4540-c474-7b8cd4d76a53",
        "colab": {
          "base_uri": "https://localhost:8080/"
        }
      },
      "outputs": [
        {
          "output_type": "stream",
          "name": "stdout",
          "text": [
            "tensor([ 0,  1,  2,  3,  4,  5,  6,  7,  8,  9, 10, 11])\n"
          ]
        }
      ],
      "source": [
        "# Flatten\n",
        "tensor_flattened = tensor.flatten()\n",
        "print(tensor_flattened)"
      ]
    },
    {
      "cell_type": "code",
      "execution_count": null,
      "metadata": {
        "id": "xLTKGbJi8KSw",
        "outputId": "02ab2aec-4caf-42ce-da91-df88c9c7a614",
        "colab": {
          "base_uri": "https://localhost:8080/"
        }
      },
      "outputs": [
        {
          "output_type": "stream",
          "name": "stdout",
          "text": [
            "tensor([[[[ 0],\n",
            "          [ 1],\n",
            "          [ 2],\n",
            "          [ 3],\n",
            "          [ 4],\n",
            "          [ 5]],\n",
            "\n",
            "         [[ 6],\n",
            "          [ 7],\n",
            "          [ 8],\n",
            "          [ 9],\n",
            "          [10],\n",
            "          [11]]]])\n",
            "torch.Size([1, 2, 6, 1])\n"
          ]
        }
      ],
      "source": [
        "# Reshape\n",
        "tensor_reshaped = tensor.reshape(1, 2, 6, 1)\n",
        "print(tensor_reshaped)\n",
        "print(tensor_reshaped.shape)"
      ]
    },
    {
      "cell_type": "markdown",
      "metadata": {
        "id": "JkBGM5wN8KSw"
      },
      "source": [
        "### Squeeze e Unsqueeze\n",
        "- `squeeze`: Remove dimensões de tamanho 1 de um tensor.\n",
        "- `unsqueeze`: Adiciona uma dimensão de tamanho 1 em um tensor."
      ]
    },
    {
      "cell_type": "code",
      "execution_count": null,
      "metadata": {
        "id": "o205HG0K8KSx",
        "outputId": "caeb1522-8857-4980-b943-db5f0d0c0a49",
        "colab": {
          "base_uri": "https://localhost:8080/"
        }
      },
      "outputs": [
        {
          "output_type": "stream",
          "name": "stdout",
          "text": [
            "tensor([[ 0,  1,  2,  3,  4,  5],\n",
            "        [ 6,  7,  8,  9, 10, 11]])\n",
            "torch.Size([2, 6])\n"
          ]
        }
      ],
      "source": [
        "# Squeeze\n",
        "tensor_squeezed = tensor_reshaped.squeeze()\n",
        "print(tensor_squeezed)\n",
        "print(tensor_squeezed.shape)"
      ]
    },
    {
      "cell_type": "code",
      "execution_count": null,
      "metadata": {
        "id": "A13ZyxpY8KSx",
        "outputId": "039d4f7e-6a47-4fce-834f-cfc025b8db79",
        "colab": {
          "base_uri": "https://localhost:8080/"
        }
      },
      "outputs": [
        {
          "output_type": "stream",
          "name": "stdout",
          "text": [
            "tensor([[[ 0,  1,  2,  3,  4,  5],\n",
            "         [ 6,  7,  8,  9, 10, 11]]])\n",
            "torch.Size([1, 2, 6])\n"
          ]
        }
      ],
      "source": [
        "# Unsqueeze\n",
        "tensor_unsqueezed = tensor_squeezed.unsqueeze(dim=0)\n",
        "print(tensor_unsqueezed)\n",
        "print(tensor_unsqueezed.shape)"
      ]
    },
    {
      "cell_type": "markdown",
      "metadata": {
        "id": "ECl2RUm-8KSx"
      },
      "source": [
        "## Broadcasting\n",
        "O broadcasting é uma técnica que permite que tensores de diferentes formas sejam utilizados juntos em operações aritméticas. Em vez de copiar dados, o PyTorch ajusta os tensores de forma automática para que tenham formas compatíveis."
      ]
    },
    {
      "cell_type": "markdown",
      "metadata": {
        "id": "P8hnJGvB8KSx"
      },
      "source": [
        "### Adição de um Escalar\n",
        "\n",
        "Quando adicionamos um escalar a um tensor, o escalar é automaticamente expandido para a forma do tensor:"
      ]
    },
    {
      "cell_type": "code",
      "execution_count": null,
      "metadata": {
        "id": "Ft7ztqJE8KSx",
        "outputId": "119fc083-2cb8-4da3-ff7b-8f1a69958fbb",
        "colab": {
          "base_uri": "https://localhost:8080/"
        }
      },
      "outputs": [
        {
          "output_type": "stream",
          "name": "stdout",
          "text": [
            "tensor([[11, 12, 13],\n",
            "        [14, 15, 16]])\n"
          ]
        }
      ],
      "source": [
        "# Cria um tensor 2x3\n",
        "tensor = torch.tensor([[1, 2, 3], [4, 5, 6]])\n",
        "\n",
        "# Adiciona um escalar\n",
        "scalar = 10\n",
        "\n",
        "# Broadcasting para adicionar o escalar a cada elemento do tensor\n",
        "result = tensor + scalar\n",
        "print(result)"
      ]
    },
    {
      "cell_type": "markdown",
      "metadata": {
        "id": "1cf7qG9w8KSy"
      },
      "source": [
        "### Adição de Tensores com Diferentes Dimensões\n",
        "\n",
        "Vamos adicionar um tensor 2x3 com um tensor 1x3. Neste caso, o tensor 1x3 será expandido (broadcasted) para uma forma 2x3:"
      ]
    },
    {
      "cell_type": "code",
      "execution_count": null,
      "metadata": {
        "id": "szqsMbBg8KSy",
        "outputId": "5b2b56e6-ce05-4399-feb5-b4f5a3d8deaf",
        "colab": {
          "base_uri": "https://localhost:8080/"
        }
      },
      "outputs": [
        {
          "output_type": "stream",
          "name": "stdout",
          "text": [
            "tensor([[11, 22, 33],\n",
            "        [14, 25, 36]])\n"
          ]
        }
      ],
      "source": [
        "# Cria um tensor 2x3\n",
        "tensor_a = torch.tensor([[1, 2, 3], [4, 5, 6]])\n",
        "\n",
        "# Cria um tensor 1x3\n",
        "tensor_b = torch.tensor([10, 20, 30])\n",
        "\n",
        "# Broadcasting para adicionar tensores de diferentes formas\n",
        "result = tensor_a + tensor_b\n",
        "print(result)"
      ]
    },
    {
      "cell_type": "markdown",
      "metadata": {
        "id": "X9n1-FoQ8KSy"
      },
      "source": [
        "### Regras de Broadcasting\n",
        "\n",
        "Para que o broadcasting funcione, os tensores devem seguir algumas regras:\n",
        "\n",
        "1. **Compatibilidade de Dimensões**: As dimensões dos tensores devem ser compatíveis. Duas dimensões são compatíveis se forem iguais ou se uma delas for 1.\n",
        "2. **Expansão Automática**: Se uma dimensão de um tensor for 1, ela será expandida para corresponder à dimensão do outro tensor.\n",
        "\n",
        "No exemplo a seguir, o tensor `tensor_c` de forma 2x1 é expandido para 2x3, e o tensor `tensor_d` de forma 1x3 é expandido para 2x3. O resultado é um tensor 2x3 onde cada elemento é o produto dos elementos correspondentes."
      ]
    },
    {
      "cell_type": "code",
      "execution_count": null,
      "metadata": {
        "id": "V-LVg6Mb8KSy",
        "outputId": "9db08fc4-00e2-43ff-8984-37600e956c4f",
        "colab": {
          "base_uri": "https://localhost:8080/"
        }
      },
      "outputs": [
        {
          "output_type": "stream",
          "name": "stdout",
          "text": [
            "tensor([[10, 20, 30],\n",
            "        [20, 40, 60]])\n"
          ]
        }
      ],
      "source": [
        "# Cria um tensor 2x1\n",
        "tensor_c = torch.tensor([[1], [2]])\n",
        "\n",
        "# Cria um tensor 1x3\n",
        "tensor_d = torch.tensor([10, 20, 30])\n",
        "\n",
        "# Broadcasting para multiplicar tensores de diferentes formas\n",
        "result = tensor_c * tensor_d\n",
        "print(result)"
      ]
    },
    {
      "cell_type": "markdown",
      "metadata": {
        "id": "0HLL6L5I8KSy"
      },
      "source": [
        "## Operações de Redução em PyTorch\n",
        "\n",
        "As operações de redução são usadas para reduzir as dimensões de um tensor, aplicando operações como soma, média, mínimo e máximo. Essas operações são fundamentais em várias aplicações de machine learning e deep learning."
      ]
    },
    {
      "cell_type": "code",
      "execution_count": null,
      "metadata": {
        "id": "WoKpMIbL8KSy",
        "outputId": "01393168-a533-46ee-b8fb-b69bc6c38208",
        "colab": {
          "base_uri": "https://localhost:8080/"
        }
      },
      "outputs": [
        {
          "output_type": "stream",
          "name": "stdout",
          "text": [
            "Tensor original:\n",
            " tensor([[1., 2., 3.],\n",
            "        [4., 5., 6.]])\n",
            "torch.Size([2, 3])\n"
          ]
        }
      ],
      "source": [
        "# Cria um tensor 2x3\n",
        "tensor = torch.tensor([[1.0, 2.0, 3.0], [4.0, 5.0, 6.0]])\n",
        "print(\"Tensor original:\\n\", tensor)\n",
        "print(tensor.shape)"
      ]
    },
    {
      "cell_type": "markdown",
      "metadata": {
        "id": "zvrsdyjm8KSz"
      },
      "source": [
        "### Soma de Todos os Elementos\n",
        "\n",
        "A função `torch.sum` calcula a soma de todos os elementos do tensor:"
      ]
    },
    {
      "cell_type": "code",
      "execution_count": null,
      "metadata": {
        "id": "7fXlbfDF8KSz",
        "outputId": "d19e570d-6471-42a5-d2ef-2f06b5dc5427",
        "colab": {
          "base_uri": "https://localhost:8080/"
        }
      },
      "outputs": [
        {
          "output_type": "stream",
          "name": "stdout",
          "text": [
            "Soma de todos os elementos: 21.0\n"
          ]
        }
      ],
      "source": [
        "# Soma de todos os elementos do tensor\n",
        "sum_all = torch.sum(tensor)\n",
        "print(\"Soma de todos os elementos:\", sum_all.item())"
      ]
    },
    {
      "cell_type": "markdown",
      "metadata": {
        "id": "_748thGx8KSz"
      },
      "source": [
        "### Soma ao Longo de um Eixo\n",
        "\n",
        "Podemos calcular a soma ao longo de um eixo específico, usando o parâmetro `dim`:"
      ]
    },
    {
      "cell_type": "code",
      "execution_count": null,
      "metadata": {
        "id": "LI1HxQ218KSz",
        "outputId": "0c28cd90-8e8c-4fed-fd07-785ef67a0502",
        "colab": {
          "base_uri": "https://localhost:8080/"
        }
      },
      "outputs": [
        {
          "output_type": "stream",
          "name": "stdout",
          "text": [
            "Soma ao longo do eixo 0 (linhas): tensor([5., 7., 9.])\n",
            "torch.Size([3])\n"
          ]
        }
      ],
      "source": [
        "# Soma ao longo do eixo 0 (linhas)\n",
        "sum_dim0 = torch.sum(tensor, dim=0)\n",
        "print(\"Soma ao longo do eixo 0 (linhas):\", sum_dim0)\n",
        "print(sum_dim0.shape)"
      ]
    },
    {
      "cell_type": "code",
      "execution_count": null,
      "metadata": {
        "id": "-S-ZYobq8KS0",
        "outputId": "f9cc0d57-b8b6-4b3e-ab51-74dd174a42b3",
        "colab": {
          "base_uri": "https://localhost:8080/"
        }
      },
      "outputs": [
        {
          "output_type": "stream",
          "name": "stdout",
          "text": [
            "Soma ao longo do eixo 1 (colunas): tensor([ 6., 15.])\n",
            "torch.Size([2])\n"
          ]
        }
      ],
      "source": [
        "# Soma ao longo do eixo 1 (colunas)\n",
        "sum_dim1 = torch.sum(tensor, dim=1)\n",
        "print(\"Soma ao longo do eixo 1 (colunas):\", sum_dim1)\n",
        "print(sum_dim1.shape)"
      ]
    },
    {
      "cell_type": "markdown",
      "metadata": {
        "id": "kwKen55x8KS0"
      },
      "source": [
        "### Média dos Elementos\n",
        "\n",
        "A função `torch.mean` calcula a média dos elementos do tensor:"
      ]
    },
    {
      "cell_type": "code",
      "execution_count": null,
      "metadata": {
        "id": "_B8OhRW68KS0",
        "outputId": "0a1ed998-688f-40b5-c415-b24ab2ce5feb",
        "colab": {
          "base_uri": "https://localhost:8080/"
        }
      },
      "outputs": [
        {
          "output_type": "stream",
          "name": "stdout",
          "text": [
            "Média de todos os elementos: 3.5\n"
          ]
        }
      ],
      "source": [
        "# Média de todos os elementos do tensor\n",
        "mean_all = torch.mean(tensor)\n",
        "print(\"Média de todos os elementos:\", mean_all.item())"
      ]
    },
    {
      "cell_type": "code",
      "execution_count": null,
      "metadata": {
        "id": "VVflY2LD8KS0",
        "outputId": "71fade35-8da6-4695-d8ae-46af0f561218",
        "colab": {
          "base_uri": "https://localhost:8080/"
        }
      },
      "outputs": [
        {
          "output_type": "stream",
          "name": "stdout",
          "text": [
            "Média ao longo do eixo 0 (linhas): tensor([2.5000, 3.5000, 4.5000])\n",
            "torch.Size([3])\n"
          ]
        }
      ],
      "source": [
        "# Média ao longo do eixo 0 (linhas)\n",
        "mean_dim0 = torch.mean(tensor, dim=0)\n",
        "print(\"Média ao longo do eixo 0 (linhas):\", mean_dim0)\n",
        "print(mean_dim0.shape)"
      ]
    },
    {
      "cell_type": "code",
      "execution_count": null,
      "metadata": {
        "id": "RvJhf1tY8KS0",
        "outputId": "463cdf4a-3f16-43ab-8281-7267dd9d9666",
        "colab": {
          "base_uri": "https://localhost:8080/"
        }
      },
      "outputs": [
        {
          "output_type": "stream",
          "name": "stdout",
          "text": [
            "Média ao longo do eixo 1 (colunas): tensor([2., 5.])\n",
            "torch.Size([2])\n"
          ]
        }
      ],
      "source": [
        "# Média ao longo do eixo 1 (colunas)\n",
        "mean_dim1 = torch.mean(tensor, dim=1)\n",
        "print(\"Média ao longo do eixo 1 (colunas):\", mean_dim1)\n",
        "print(mean_dim1.shape)"
      ]
    },
    {
      "cell_type": "markdown",
      "metadata": {
        "id": "_Y2m4fmi8KS0"
      },
      "source": [
        "### Valor Mínimo e Máximo\n",
        "\n",
        "Podemos encontrar o valor mínimo e máximo de um tensor usando `torch.min` e `torch.max`:"
      ]
    },
    {
      "cell_type": "code",
      "execution_count": null,
      "metadata": {
        "id": "-cMwHMmV8KS1",
        "outputId": "9050e1f5-39aa-4a19-b338-0f0919c4029b",
        "colab": {
          "base_uri": "https://localhost:8080/"
        }
      },
      "outputs": [
        {
          "output_type": "stream",
          "name": "stdout",
          "text": [
            "Valor mínimo de todos os elementos: tensor(1.)\n",
            "\n",
            "Valor máximo de todos os elementos: tensor(6.)\n",
            "\n",
            "Valor mínimo ao longo do eixo 0 (linhas): tensor([1., 2., 3.])\n",
            "Índices dos valores mínimos ao longo do eixo 0 (linhas): tensor([0, 0, 0])\n",
            "\n",
            "Valor máximo ao longo do eixo 1 (colunas): tensor([3., 6.])\n",
            "Índices dos valores máximos ao longo do eixo 1 (colunas): tensor([2, 2])\n"
          ]
        }
      ],
      "source": [
        "# Valor mínimo de todos os elementos do tensor\n",
        "min_all = torch.min(tensor)\n",
        "print(\"Valor mínimo de todos os elementos:\", min_all)\n",
        "print()\n",
        "\n",
        "# Valor máximo de todos os elementos do tensor\n",
        "max_all = torch.max(tensor)\n",
        "print(\"Valor máximo de todos os elementos:\", max_all)\n",
        "print()\n",
        "\n",
        "# Valor mínimo ao longo do eixo 0 (linhas)\n",
        "min_dim0, min_indices_dim0 = torch.min(tensor, dim=0)\n",
        "print(\"Valor mínimo ao longo do eixo 0 (linhas):\", min_dim0)\n",
        "print(\"Índices dos valores mínimos ao longo do eixo 0 (linhas):\", min_indices_dim0)\n",
        "print()\n",
        "\n",
        "# Valor máximo ao longo do eixo 1 (colunas)\n",
        "max_dim1, max_indices_dim1 = torch.max(tensor, dim=1)\n",
        "print(\"Valor máximo ao longo do eixo 1 (colunas):\", max_dim1)\n",
        "print(\"Índices dos valores máximos ao longo do eixo 1 (colunas):\", max_indices_dim1)"
      ]
    },
    {
      "cell_type": "markdown",
      "metadata": {
        "id": "qMDTbMvv8KS1"
      },
      "source": [
        "### Produto dos Elementos\n",
        "\n",
        "A função `torch.prod` calcula o produto de todos os elementos do tensor:"
      ]
    },
    {
      "cell_type": "code",
      "execution_count": null,
      "metadata": {
        "id": "q3uW8g_t8KS1",
        "outputId": "120d68b2-157b-4bae-a723-758ce38fec43",
        "colab": {
          "base_uri": "https://localhost:8080/"
        }
      },
      "outputs": [
        {
          "output_type": "stream",
          "name": "stdout",
          "text": [
            "Produto de todos os elementos: tensor(720.)\n",
            "\n",
            "Produto ao longo do eixo 0 (linhas): tensor([ 4., 10., 18.])\n",
            "\n",
            "Produto ao longo do eixo 1 (colunas): tensor([  6., 120.])\n"
          ]
        }
      ],
      "source": [
        "# Produto de todos os elementos do tensor\n",
        "prod_all = torch.prod(tensor)\n",
        "print(\"Produto de todos os elementos:\", prod_all)\n",
        "print()\n",
        "\n",
        "# Produto ao longo do eixo 0 (linhas)\n",
        "prod_dim0 = torch.prod(tensor, dim=0)\n",
        "print(\"Produto ao longo do eixo 0 (linhas):\", prod_dim0)\n",
        "print()\n",
        "\n",
        "# Produto ao longo do eixo 1 (colunas)\n",
        "prod_dim1 = torch.prod(tensor, dim=1)\n",
        "print(\"Produto ao longo do eixo 1 (colunas):\", prod_dim1)"
      ]
    },
    {
      "cell_type": "markdown",
      "metadata": {
        "id": "Hi_LV1SM8KS1"
      },
      "source": [
        "## Exercícios - PyTorch Básico"
      ]
    },
    {
      "cell_type": "markdown",
      "metadata": {
        "id": "lMyk6Icr8KS1"
      },
      "source": [
        "### Exercício 1: Criação de Tensores\n",
        "\n",
        "1. Crie um tensor 1D com os valores de 1 a 10.\n",
        "2. Crie um tensor 2D de forma (3, 3) com valores aleatórios.\n",
        "3. Crie um tensor 3D de forma (2, 3, 4) com todos os valores iguais a 1.\n",
        "4. Crie um tensor de zeros com as mesmas dimensões do tensor 2D criado no exercício 2.\n",
        "5. Crie um tensor de uns com as mesmas dimensões do tensor 3D criado no exercício 3."
      ]
    },
    {
      "cell_type": "code",
      "execution_count": null,
      "metadata": {
        "id": "hlT5Nf9I8KS1",
        "colab": {
          "base_uri": "https://localhost:8080/"
        },
        "outputId": "0fac1bbf-b93a-441c-e40f-41175d48f442"
      },
      "outputs": [
        {
          "output_type": "stream",
          "name": "stdout",
          "text": [
            "tensor([ 1,  2,  3,  4,  5,  6,  7,  8,  9, 10])\n"
          ]
        }
      ],
      "source": [
        "tensor1d = torch.arange(1, 11)\n",
        "print(tensor1d)"
      ]
    },
    {
      "cell_type": "code",
      "source": [
        "tensor2d = torch.rand(3, 3)\n",
        "print(tensor2d)"
      ],
      "metadata": {
        "colab": {
          "base_uri": "https://localhost:8080/"
        },
        "id": "j0L1H6bIbQwV",
        "outputId": "df250353-bb3d-465a-af22-a81d40e7e76b"
      },
      "execution_count": null,
      "outputs": [
        {
          "output_type": "stream",
          "name": "stdout",
          "text": [
            "tensor([[0.1782, 0.7200, 0.1989],\n",
            "        [0.3215, 0.0116, 0.1668],\n",
            "        [0.8100, 0.4217, 0.8042]])\n"
          ]
        }
      ]
    },
    {
      "cell_type": "code",
      "source": [
        "tensor3d = torch.ones(2, 3, 4)\n",
        "print(tensor3d)\n",
        "print(tensor3d.shape)"
      ],
      "metadata": {
        "colab": {
          "base_uri": "https://localhost:8080/"
        },
        "id": "txctR70pbggZ",
        "outputId": "bfb98843-09d9-49f8-f4d8-2d1930953af2"
      },
      "execution_count": null,
      "outputs": [
        {
          "output_type": "stream",
          "name": "stdout",
          "text": [
            "tensor([[[1., 1., 1., 1.],\n",
            "         [1., 1., 1., 1.],\n",
            "         [1., 1., 1., 1.]],\n",
            "\n",
            "        [[1., 1., 1., 1.],\n",
            "         [1., 1., 1., 1.],\n",
            "         [1., 1., 1., 1.]]])\n",
            "torch.Size([2, 3, 4])\n"
          ]
        }
      ]
    },
    {
      "cell_type": "code",
      "source": [
        "tensor2d_zeros = torch.zeros_like(tensor2d)\n",
        "print(tensor2d_zeros)"
      ],
      "metadata": {
        "colab": {
          "base_uri": "https://localhost:8080/"
        },
        "id": "NZ8Ld9dCbqhF",
        "outputId": "1b187df1-8252-4502-95cd-7c4c247ca4ea"
      },
      "execution_count": null,
      "outputs": [
        {
          "output_type": "stream",
          "name": "stdout",
          "text": [
            "tensor([[0., 0., 0.],\n",
            "        [0., 0., 0.],\n",
            "        [0., 0., 0.]])\n"
          ]
        }
      ]
    },
    {
      "cell_type": "code",
      "source": [
        "tensor3d_ones = torch.ones_like(tensor3d)\n",
        "print(tensor3d_ones)"
      ],
      "metadata": {
        "colab": {
          "base_uri": "https://localhost:8080/"
        },
        "id": "gW-DWhgTbu_9",
        "outputId": "664ba3d5-457a-4b15-c0a0-6912c272dc91"
      },
      "execution_count": null,
      "outputs": [
        {
          "output_type": "stream",
          "name": "stdout",
          "text": [
            "tensor([[[1., 1., 1., 1.],\n",
            "         [1., 1., 1., 1.],\n",
            "         [1., 1., 1., 1.]],\n",
            "\n",
            "        [[1., 1., 1., 1.],\n",
            "         [1., 1., 1., 1.],\n",
            "         [1., 1., 1., 1.]]])\n"
          ]
        }
      ]
    },
    {
      "cell_type": "markdown",
      "metadata": {
        "id": "8udiEMQI8KS2"
      },
      "source": [
        "### Exercício 2: Manipulação de Tensores\n",
        "\n",
        "1. Dado o tensor `a = torch.tensor([[1, 2], [3, 4], [5, 6]])`, obtenha a primeira coluna.\n",
        "2. Dado o tensor `b = torch.tensor([[[1, 2, 3], [4, 5, 6]], [[7, 8, 9], [10, 11, 12]]])`, obtenha o subtensor `[[7, 8, 9], [10, 11, 12]]`.\n",
        "3. Dado o tensor `c = torch.tensor([1, 2, 3, 4, 5, 6])`, mude sua forma para (2, 3).\n",
        "4. Dado o tensor `d = torch.tensor([1, 2, 3, 4, 5, 6])`, adicione uma dimensão extra para que ele se torne de forma (1, 6)."
      ]
    },
    {
      "cell_type": "code",
      "execution_count": null,
      "metadata": {
        "id": "4BwOsbzD8KS2",
        "colab": {
          "base_uri": "https://localhost:8080/"
        },
        "outputId": "a3fe4c35-7bcc-4088-f21a-ae906d0fc21f"
      },
      "outputs": [
        {
          "output_type": "stream",
          "name": "stdout",
          "text": [
            "tensor([1, 3, 5])\n"
          ]
        }
      ],
      "source": [
        "a = torch.tensor([[1, 2], [3, 4], [5, 6]])\n",
        "prim_col = a[:, 0]\n",
        "print(prim_col)"
      ]
    },
    {
      "cell_type": "code",
      "source": [
        "b = torch.tensor([[[1, 2, 3], [4, 5, 6]], [[7, 8, 9], [10, 11, 12]]])\n",
        "subtensor = b[1, :, :]\n",
        "print(subtensor)"
      ],
      "metadata": {
        "colab": {
          "base_uri": "https://localhost:8080/"
        },
        "id": "I0bDhjiRcDe2",
        "outputId": "ffd3449a-2470-4d48-aafd-3c373dc7fe08"
      },
      "execution_count": null,
      "outputs": [
        {
          "output_type": "stream",
          "name": "stdout",
          "text": [
            "tensor([[ 7,  8,  9],\n",
            "        [10, 11, 12]])\n"
          ]
        }
      ]
    },
    {
      "cell_type": "code",
      "source": [
        "c = torch.tensor([1, 2, 3, 4, 5, 6])\n",
        "c_reshaped = c.reshape(2, 3)\n",
        "print(c_reshaped)\n",
        "print(c_reshaped.shape)"
      ],
      "metadata": {
        "colab": {
          "base_uri": "https://localhost:8080/"
        },
        "id": "nQ6E4y1BcKOz",
        "outputId": "b9184cad-195b-44dc-9765-f162b78592d7"
      },
      "execution_count": null,
      "outputs": [
        {
          "output_type": "stream",
          "name": "stdout",
          "text": [
            "tensor([[1, 2, 3],\n",
            "        [4, 5, 6]])\n",
            "torch.Size([2, 3])\n"
          ]
        }
      ]
    },
    {
      "cell_type": "code",
      "source": [
        "d = torch.tensor([1, 2, 3, 4, 5, 6])\n",
        "d_reshaped = d.reshape(1, 6)\n",
        "print(d_reshaped)\n",
        "print(d_reshaped.shape)"
      ],
      "metadata": {
        "colab": {
          "base_uri": "https://localhost:8080/"
        },
        "id": "O2tSy7JycTMQ",
        "outputId": "2dd11fd3-bc0f-4e79-d54a-24652319d633"
      },
      "execution_count": null,
      "outputs": [
        {
          "output_type": "stream",
          "name": "stdout",
          "text": [
            "tensor([[1, 2, 3, 4, 5, 6]])\n",
            "torch.Size([1, 6])\n"
          ]
        }
      ]
    },
    {
      "cell_type": "code",
      "source": [
        "d = torch.tensor([1, 2, 3, 4, 5, 6])\n",
        "d_unsqueezed = d.unsqueeze(dim=0)\n",
        "print(d_unsqueezed)\n",
        "print(d_unsqueezed.shape)"
      ],
      "metadata": {
        "colab": {
          "base_uri": "https://localhost:8080/"
        },
        "id": "rrHXdUCAcyjq",
        "outputId": "08400f43-f070-4f5b-c5b8-d1819604a640"
      },
      "execution_count": null,
      "outputs": [
        {
          "output_type": "stream",
          "name": "stdout",
          "text": [
            "tensor([[1, 2, 3, 4, 5, 6]])\n",
            "torch.Size([1, 6])\n"
          ]
        }
      ]
    },
    {
      "cell_type": "markdown",
      "metadata": {
        "id": "wxm7kQRt8KS2"
      },
      "source": [
        "### Exercício 3: Funções de Criação de Tensores\n",
        "\n",
        "1. Crie um tensor contendo valores de 0 a 1, espaçados igualmente em 5 passos.\n",
        "2. Crie um tensor contendo valores de 0 a 10, com um passo de 2.\n",
        "3. Crie um tensor de forma (3, 3) com valores aleatórios entre 0 e 10.\n",
        "4. Crie um tensor correspondente a uma imagem em escala de cinza de dimensões 128x128 com valores aleatórios entre 0 e 255.\n",
        "5. Crie um tensor correspondente a uma imagem em RGB de dimensões 128x128 com valores aleatórios entre 0 e 255."
      ]
    },
    {
      "cell_type": "code",
      "execution_count": null,
      "metadata": {
        "id": "6Bmwbt4i8KS2",
        "colab": {
          "base_uri": "https://localhost:8080/"
        },
        "outputId": "a6750862-3214-4c3d-c828-a8872401e347"
      },
      "outputs": [
        {
          "output_type": "stream",
          "name": "stdout",
          "text": [
            "tensor([0.0000, 0.2500, 0.5000, 0.7500, 1.0000])\n"
          ]
        }
      ],
      "source": [
        "tensor_linspace = torch.linspace(0, 1, steps=5)\n",
        "print(tensor_linspace)"
      ]
    },
    {
      "cell_type": "code",
      "source": [
        "tensor_arange = torch.arange(0, 10, step=2)\n",
        "print(tensor_arange)"
      ],
      "metadata": {
        "colab": {
          "base_uri": "https://localhost:8080/"
        },
        "id": "FI_7CIE6c_lE",
        "outputId": "c5995304-2b03-404c-e835-92ba2c32a097"
      },
      "execution_count": null,
      "outputs": [
        {
          "output_type": "stream",
          "name": "stdout",
          "text": [
            "tensor([0, 2, 4, 6, 8])\n"
          ]
        }
      ]
    },
    {
      "cell_type": "code",
      "source": [
        "tensor = torch.rand(3, 3) * 10\n",
        "print(tensor)"
      ],
      "metadata": {
        "colab": {
          "base_uri": "https://localhost:8080/"
        },
        "id": "0Oj__ITOdE9A",
        "outputId": "7672d141-0cbe-4251-97e2-d6fcff4729eb"
      },
      "execution_count": null,
      "outputs": [
        {
          "output_type": "stream",
          "name": "stdout",
          "text": [
            "tensor([[2.8921, 8.2795, 1.7910],\n",
            "        [0.2374, 3.0039, 6.7965],\n",
            "        [2.8969, 3.3097, 0.0098]])\n"
          ]
        }
      ]
    },
    {
      "cell_type": "code",
      "source": [
        "tensor_img = (torch.rand(128, 128) * 255).to(torch.int32)\n",
        "print(tensor_img)\n",
        "print(tensor_img.shape)"
      ],
      "metadata": {
        "colab": {
          "base_uri": "https://localhost:8080/"
        },
        "id": "kzd7tfyOdMkq",
        "outputId": "80b8c2fe-1e43-41ad-d2ef-8e334c19eb04"
      },
      "execution_count": null,
      "outputs": [
        {
          "output_type": "stream",
          "name": "stdout",
          "text": [
            "tensor([[190, 125,  21,  ..., 104, 129, 132],\n",
            "        [ 82, 186,  68,  ..., 176, 195, 153],\n",
            "        [219, 110,  99,  ..., 154,   4,  25],\n",
            "        ...,\n",
            "        [ 80, 237,   2,  ..., 214,  51, 177],\n",
            "        [ 46, 124,  91,  ..., 134, 187, 160],\n",
            "        [113, 197, 105,  ..., 216, 218, 133]], dtype=torch.int32)\n",
            "torch.Size([128, 128])\n"
          ]
        }
      ]
    },
    {
      "cell_type": "code",
      "source": [
        "import matplotlib.pyplot as plt\n",
        "plt.imshow(tensor_img, cmap='gray')\n",
        "plt.show()"
      ],
      "metadata": {
        "colab": {
          "base_uri": "https://localhost:8080/",
          "height": 434
        },
        "id": "_oC9rJwq4rey",
        "outputId": "fd178725-ed32-40fd-9dc1-609224e4e4d7"
      },
      "execution_count": null,
      "outputs": [
        {
          "output_type": "display_data",
          "data": {
            "text/plain": [
              "<Figure size 640x480 with 1 Axes>"
            ],
            "image/png": "[encoded data removed]"
          },
          "metadata": {}
        }
      ]
    },
    {
      "cell_type": "markdown",
      "metadata": {
        "id": "Bu2VqMbI8KS2"
      },
      "source": [
        "### Exercício 4: Operações Avançadas com Tensores\n",
        "\n",
        "1. Dado o tensor `a = torch.tensor([1, 2, 3])` e `b = torch.tensor([[4], [5], [6]])`, calcule a soma de `a` e `b` usando broadcasting.\n",
        "2. Dado o tensor `a = torch.tensor([1.0, 2.0, 3.0, 4.0])`, calcule a soma de todos os elementos.\n",
        "3. Dado o tensor `a = torch.tensor([1.0, 2.0, 3.0, 4.0])`, calcule a média de todos os elementos.\n",
        "4. Dado o tensor `a = torch.tensor([1.0, 2.0, 3.0, 4.0])`, calcule a raiz quadrada de todos os elementos."
      ]
    },
    {
      "cell_type": "code",
      "execution_count": null,
      "metadata": {
        "id": "t93bYvQH8KS2",
        "colab": {
          "base_uri": "https://localhost:8080/"
        },
        "outputId": "0de5a8b0-65c4-40d6-bba8-e8fcf375fac9"
      },
      "outputs": [
        {
          "output_type": "stream",
          "name": "stdout",
          "text": [
            "tensor([[5, 6, 7],\n",
            "        [6, 7, 8],\n",
            "        [7, 8, 9]])\n"
          ]
        }
      ],
      "source": [
        "a = torch.tensor([1, 2, 3])\n",
        "b = torch.tensor([[4], [5], [6]])\n",
        "result = a + b\n",
        "print(result)"
      ]
    },
    {
      "cell_type": "code",
      "source": [
        "a = torch.tensor([1.0, 2.0, 3.0, 4.0])\n",
        "soma = torch.sum(a)\n",
        "print(soma)"
      ],
      "metadata": {
        "colab": {
          "base_uri": "https://localhost:8080/"
        },
        "id": "Cpul_Wf2eU4h",
        "outputId": "23f37072-ee33-4dd6-9fe1-53f8ee333b68"
      },
      "execution_count": null,
      "outputs": [
        {
          "output_type": "stream",
          "name": "stdout",
          "text": [
            "tensor(10.)\n"
          ]
        }
      ]
    },
    {
      "cell_type": "code",
      "source": [
        "a = torch.tensor([1.0, 2.0, 3.0, 4.0])\n",
        "media = torch.mean(a)\n",
        "print(media)"
      ],
      "metadata": {
        "colab": {
          "base_uri": "https://localhost:8080/"
        },
        "id": "VXuv_AqEecl4",
        "outputId": "44beb912-8ee9-490a-b650-8c749541254f"
      },
      "execution_count": null,
      "outputs": [
        {
          "output_type": "stream",
          "name": "stdout",
          "text": [
            "tensor(2.5000)\n"
          ]
        }
      ]
    },
    {
      "cell_type": "code",
      "source": [
        "a = torch.tensor([1.0, 2.0, 3.0, 4.0])\n",
        "raiz = torch.sqrt(a)\n",
        "print(raiz)"
      ],
      "metadata": {
        "colab": {
          "base_uri": "https://localhost:8080/"
        },
        "id": "Dp6s7dTeegN2",
        "outputId": "ea795800-1c43-4553-fcd7-4732c3678b34"
      },
      "execution_count": null,
      "outputs": [
        {
          "output_type": "stream",
          "name": "stdout",
          "text": [
            "tensor([1.0000, 1.4142, 1.7321, 2.0000])\n"
          ]
        }
      ]
    },
    {
      "cell_type": "markdown",
      "metadata": {
        "id": "82n48DBe8KS2"
      },
      "source": [
        "### Exercício 5: Autograd e Backpropagation\n",
        "\n",
        "1. Crie um tensor `x` com os valores `[2.0, 3.0]` e `requires_grad=True`. Calcule `y = x^2` e os gradientes.\n",
        "2. Crie um tensor `x` com o valor `3.0` e `requires_grad=True`. Calcule `y = 2*x + 1` e o gradiente.\n",
        "3. Crie um tensor `x` com os valores `[1.0, 2.0, 3.0]` e `requires_grad=True`. Calcule `y = x^3` e os gradientes."
      ]
    },
    {
      "cell_type": "code",
      "execution_count": null,
      "metadata": {
        "id": "aKc6fX-g8KS2",
        "colab": {
          "base_uri": "https://localhost:8080/"
        },
        "outputId": "b471627e-c00f-44d4-fd98-e4f40e1ece9b"
      },
      "outputs": [
        {
          "output_type": "stream",
          "name": "stdout",
          "text": [
            "tensor(13., grad_fn=<SumBackward0>)\n",
            "tensor([4., 6.])\n"
          ]
        }
      ],
      "source": [
        "x = torch.tensor([2.0, 3.0], requires_grad=True)\n",
        "y = torch.sum(x ** 2)\n",
        "print(y)\n",
        "y.backward()\n",
        "print(x.grad)"
      ]
    },
    {
      "cell_type": "code",
      "source": [
        "x = torch.tensor(3.0, requires_grad=True)\n",
        "y = 2 * x + 1\n",
        "print(y)\n",
        "y.backward()\n",
        "print(x.grad)"
      ],
      "metadata": {
        "colab": {
          "base_uri": "https://localhost:8080/"
        },
        "id": "aS39g1m8IWat",
        "outputId": "3f741c12-6d6f-45a3-c5e3-e0711f8cddcc"
      },
      "execution_count": null,
      "outputs": [
        {
          "output_type": "stream",
          "name": "stdout",
          "text": [
            "tensor(7., grad_fn=<AddBackward0>)\n",
            "tensor(2.)\n"
          ]
        }
      ]
    },
    {
      "cell_type": "code",
      "source": [
        "x == torch.tensor([1.0, 2.0, 3.0], requires_grad=True)\n",
        "y = torch.sum(x ** 3)\n",
        "print(y)\n",
        "y.backward()\n",
        "print(x.grad)"
      ],
      "metadata": {
        "colab": {
          "base_uri": "https://localhost:8080/"
        },
        "id": "WNNuazo9Icec",
        "outputId": "bfc52a00-af34-4b40-868d-bb14aa184fb0"
      },
      "execution_count": null,
      "outputs": [
        {
          "output_type": "stream",
          "name": "stdout",
          "text": [
            "tensor(27., grad_fn=<SumBackward0>)\n",
            "tensor(29.)\n"
          ]
        }
      ]
    },
    {
      "cell_type": "markdown",
      "metadata": {
        "id": "MAIgx2my8KS3"
      },
      "source": [
        "### Exercício 6: Operações de Redução\n",
        "\n",
        "1. Crie um tensor de forma (4, 5) contendo valores de 1 a 20 usando `torch.arange`. Em seguida, calcule a soma de todos os elementos do tensor.\n",
        "\n",
        "2. Crie um tensor de forma (3, 4) com valores aleatórios entre 0 e 1 usando `torch.rand`. Calcule a média dos elementos ao longo do eixo 1 (colunas).\n",
        "\n",
        "3. Crie um tensor de forma (5, 5) contendo valores espaçados igualmente de 0 a 24 usando `torch.linspace`. Encontre o valor mínimo e o máximo de todos os elementos do tensor.\n",
        "\n",
        "4. Crie um tensor de forma (3, 6) com valores inteiros aleatórios entre 10 e 50 usando `torch.randint`. Calcule o produto dos elementos ao longo do eixo 0 (linhas).\n",
        "\n",
        "5. Crie um tensor de forma (2, 3, 4) com valores aleatórios entre 0 e 1 usando `torch.rand`. Encontre a soma dos elementos ao longo do eixo 2."
      ]
    },
    {
      "cell_type": "code",
      "execution_count": null,
      "metadata": {
        "id": "yq-dKYMK8KS3",
        "colab": {
          "base_uri": "https://localhost:8080/"
        },
        "outputId": "6aac6330-43ab-459c-ea25-9afc6e13f574"
      },
      "outputs": [
        {
          "output_type": "stream",
          "name": "stdout",
          "text": [
            "tensor([[ 1,  2,  3,  4,  5],\n",
            "        [ 6,  7,  8,  9, 10],\n",
            "        [11, 12, 13, 14, 15],\n",
            "        [16, 17, 18, 19, 20]])\n",
            "tensor(210)\n"
          ]
        }
      ],
      "source": [
        "tensor_4X5 = torch.arange(1, 21).reshape(4, 5)\n",
        "print(tensor_4X5)\n",
        "soma = torch.sum(tensor_4X5)\n",
        "print(soma)"
      ]
    },
    {
      "cell_type": "code",
      "source": [
        "tensor_3X4 = torch.rand(3, 4)\n",
        "print(tensor_3X4)\n",
        "media = torch.mean(tensor_3X4, dim=1)\n",
        "print(media)"
      ],
      "metadata": {
        "colab": {
          "base_uri": "https://localhost:8080/"
        },
        "id": "IQUD2bMOf868",
        "outputId": "e408227e-abb6-4167-f0b4-9e4e60ae477c"
      },
      "execution_count": null,
      "outputs": [
        {
          "output_type": "stream",
          "name": "stdout",
          "text": [
            "tensor([[0.6242, 0.9528, 0.5788, 0.5519],\n",
            "        [0.8005, 0.5953, 0.7256, 0.2807],\n",
            "        [0.4509, 0.4232, 0.6380, 0.1763]])\n",
            "tensor([0.6769, 0.6005, 0.4221])\n"
          ]
        }
      ]
    },
    {
      "cell_type": "code",
      "source": [
        "tensor_5X5 = torch.linspace(0, 24, steps=25).reshape(5, 5)\n",
        "print(tensor_5X5)\n",
        "minimo, maximo = torch.min(tensor_5X5), torch.max(tensor_5X5)\n",
        "print(minimo, maximo)"
      ],
      "metadata": {
        "colab": {
          "base_uri": "https://localhost:8080/"
        },
        "id": "sziLeLa4gdJw",
        "outputId": "37275e4d-e929-4107-fa57-1659dd211ed7"
      },
      "execution_count": null,
      "outputs": [
        {
          "output_type": "stream",
          "name": "stdout",
          "text": [
            "tensor([[ 0.,  1.,  2.,  3.,  4.],\n",
            "        [ 5.,  6.,  7.,  8.,  9.],\n",
            "        [10., 11., 12., 13., 14.],\n",
            "        [15., 16., 17., 18., 19.],\n",
            "        [20., 21., 22., 23., 24.]])\n",
            "tensor(0.) tensor(24.)\n"
          ]
        }
      ]
    },
    {
      "cell_type": "code",
      "source": [
        "tensor_3X6 = torch.randint(10, 51, size=(3, 6))\n",
        "print(tensor_3X6)\n",
        "produto = torch.prod(tensor_3X6, dim=0)\n",
        "print(produto)"
      ],
      "metadata": {
        "colab": {
          "base_uri": "https://localhost:8080/"
        },
        "id": "FhjUfR42g2NF",
        "outputId": "f8e60596-325b-4814-c0ce-f1f0bd744d1f"
      },
      "execution_count": null,
      "outputs": [
        {
          "output_type": "stream",
          "name": "stdout",
          "text": [
            "tensor([[48, 27, 11, 27, 26, 41],\n",
            "        [45, 12, 40, 13, 10, 11],\n",
            "        [20, 33, 31, 13, 21, 21]])\n",
            "tensor([43200, 10692, 13640,  4563,  5460,  9471])\n"
          ]
        }
      ]
    },
    {
      "cell_type": "code",
      "source": [
        "tensor_2X3X4 = torch.rand(2, 3, 4)\n",
        "print(tensor_2X3X4)\n",
        "soma = torch.sum(tensor_2X3X4, dim=2)\n",
        "print(soma)"
      ],
      "metadata": {
        "colab": {
          "base_uri": "https://localhost:8080/"
        },
        "id": "fAym-BKDhAuQ",
        "outputId": "e824577e-0f01-45d7-e5c9-c0a7cba6d6b3"
      },
      "execution_count": null,
      "outputs": [
        {
          "output_type": "stream",
          "name": "stdout",
          "text": [
            "tensor([[[0.4377, 0.1346, 0.4528, 0.6193],\n",
            "         [0.4042, 0.6217, 0.1724, 0.4900],\n",
            "         [0.8321, 0.3113, 0.8019, 0.6737]],\n",
            "\n",
            "        [[0.5546, 0.1537, 0.6046, 0.3723],\n",
            "         [0.5312, 0.3825, 0.0393, 0.5140],\n",
            "         [0.8465, 0.2729, 0.9981, 0.7815]]])\n",
            "tensor([[1.6445, 1.6883, 2.6191],\n",
            "        [1.6852, 1.4670, 2.8989]])\n"
          ]
        }
      ]
    }
  ],
  "metadata": {
    "kernelspec": {
      "display_name": "base",
      "language": "python",
      "name": "python3"
    },
    "language_info": {
      "codemirror_mode": {
        "name": "ipython",
        "version": 3
      },
      "file_extension": ".py",
      "mimetype": "text/x-python",
      "name": "python",
      "nbconvert_exporter": "python",
      "pygments_lexer": "ipython3",
      "version": "3.10.13"
    },
    "colab": {
      "provenance": []
    }
  },
  "nbformat": 4,
  "nbformat_minor": 0
}