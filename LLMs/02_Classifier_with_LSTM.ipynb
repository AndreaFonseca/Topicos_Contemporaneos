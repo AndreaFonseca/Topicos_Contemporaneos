{
  "cells": [
    {
      "cell_type": "markdown",
      "source": [
        "Alunos:\n",
        "\n",
        "*   Andréa Fonseca\n",
        "*   Fábio Cardoso\n",
        "*   Eduardo Leite\n",
        "\n"
      ],
      "metadata": {
        "id": "UDSLZkt5o0Qj"
      }
    },
    {
      "cell_type": "markdown",
      "metadata": {
        "id": "cilf4OvK5tu7"
      },
      "source": [
        "### **Introdução às LSTMs (Long Short-Term Memory)**\n",
        "\n",
        "As redes LSTM (Long Short-Term Memory) são um tipo especial de RNN projetada para lidar com o problema de dependências de longo prazo em sequências de dados. Elas são amplamente utilizadas em tarefas de processamento de linguagem natural, reconhecimento de fala, e outras aplicações que envolvem sequências.\n",
        "\n",
        "#### **Por que LSTMs?**\n",
        "\n",
        "Em RNNs tradicionais, o problema de desvanecimento de gradientes pode dificultar o aprendizado de dependências de longo prazo. As LSTMs resolvem esse problema através de uma arquitetura de memória mais complexa, que inclui células de memória capazes de preservar informações ao longo de várias etapas de tempo.\n",
        "\n",
        "#### **Arquitetura de uma LSTM**\n",
        "\n",
        "As LSTMs introduzem três \"portas\" (gates) principais para controlar o fluxo de informações:\n",
        "- **Porta de Entrada (Input Gate)**: Controla quanta informação da entrada atual deve ser armazenada na célula de memória.\n",
        "- **Porta de Esquecimento (Forget Gate)**: Decide quanta informação da célula de memória anterior deve ser mantida.\n",
        "- **Porta de Saída (Output Gate)**: Controla quanta informação da célula de memória deve ser utilizada para produzir a saída atual.\n",
        "\n",
        "Matematicamente, a atualização de uma célula LSTM pode ser descrita pelas seguintes equações:\n",
        "\n",
        "$$\n",
        "f_t = \\sigma(W_f \\cdot [h_{t-1}, x_t] + b_f)\n",
        "$$\n",
        "$$\n",
        "i_t = \\sigma(W_i \\cdot [h_{t-1}, x_t] + b_i)\n",
        "$$\n",
        "$$\n",
        "\\tilde{C}_t = \\tanh(W_C \\cdot [h_{t-1}, x_t] + b_C)\n",
        "$$\n",
        "$$\n",
        "C_t = f_t \\cdot C_{t-1} + i_t \\cdot \\tilde{C}_t\n",
        "$$\n",
        "$$\n",
        "o_t = \\sigma(W_o \\cdot [h_{t-1}, x_t] + b_o)\n",
        "$$\n",
        "$$\n",
        "h_t = o_t \\cdot \\tanh(C_t)\n",
        "$$\n",
        "\n",
        "Onde:\n",
        "- $f_t$, $i_t$, $o_t$ são as portas de esquecimento, entrada e saída, respectivamente.\n",
        "- $C_t$ é o estado da célula.\n",
        "- $h_t$ é o estado oculto."
      ]
    },
    {
      "cell_type": "code",
      "execution_count": 1,
      "metadata": {
        "id": "q1gIIwdB5tu9"
      },
      "outputs": [],
      "source": [
        "import torch\n",
        "import torch.nn as nn\n",
        "import torch.optim as optim\n",
        "from torch.utils.data import Dataset, DataLoader, random_split\n",
        "import numpy as np\n",
        "import matplotlib.pyplot as plt"
      ]
    },
    {
      "cell_type": "markdown",
      "metadata": {
        "id": "mG5enQ5G5tu-"
      },
      "source": [
        "### **Primeiros Passos com LSTM - Entradas Aleatórias**\n",
        "\n",
        "Vamos começar criando uma LSTM simples e alimentá-la com entradas aleatórias. Isso nos ajudará a entender como a LSTM processa os dados e o formato das saídas.\n",
        "\n",
        "#### **Explicação do Código**\n",
        "\n",
        "- **`nn.LSTM`**: Implementa uma LSTM básica com uma ou mais camadas.\n",
        "- **Parâmetros principais**:\n",
        "  - `input_size`: Dimensão das entradas em cada passo de tempo.\n",
        "  - `hidden_size`: Número de unidades na célula LSTM.\n",
        "  - `num_layers`: Número de camadas empilhadas de LSTM.\n",
        "  - `batch_first=True`: Faz com que o batch seja a primeira dimensão no tensor de entrada."
      ]
    },
    {
      "cell_type": "code",
      "execution_count": 2,
      "metadata": {
        "id": "lh20odkP5tu_"
      },
      "outputs": [],
      "source": [
        "# Configurações\n",
        "input_size = 5  # Tamanho da entrada em cada passo de tempo\n",
        "hidden_size = 10  # Número de unidades na camada oculta\n",
        "num_layers = 2  # Número de camadas empilhadas\n",
        "\n",
        "# Criando uma LSTM\n",
        "lstm = nn.LSTM(input_size, hidden_size, num_layers, batch_first=True)"
      ]
    },
    {
      "cell_type": "code",
      "execution_count": 3,
      "metadata": {
        "id": "CnJrtB715tu_"
      },
      "outputs": [],
      "source": [
        "# Criando uma entrada aleatória: (batch_size, seq_len, input_size)\n",
        "batch_size = 8\n",
        "seq_len = 7\n",
        "x = torch.randn(batch_size, seq_len, input_size) # entrada aleatória\n",
        "\n",
        "# Executando a LSTM\n",
        "output, (hn, cn) = lstm(x)"
      ]
    },
    {
      "cell_type": "markdown",
      "metadata": {
        "id": "ppPAghx45tu_"
      },
      "source": [
        "### **Interpretação das Saídas da LSTM**\n",
        "\n",
        "Vamos analisar o que as diferentes saídas da LSTM significam:\n",
        "\n",
        "- **`output`**: Contém a saída de cada passo de tempo para cada sequência no batch. A forma será `(batch_size, seq_len, hidden_size)`.\n",
        "- **`hn`**: O estado oculto final para cada camada e cada sequência no batch. A forma será `(num_layers, batch_size, hidden_size)`.\n",
        "- **`cn`**: O estado da célula final para cada camada e cada sequência no batch. A forma será a mesma que `hn`."
      ]
    },
    {
      "cell_type": "code",
      "execution_count": 4,
      "metadata": {
        "id": "5-PrBtZb5tvA",
        "colab": {
          "base_uri": "https://localhost:8080/"
        },
        "outputId": "b2bd46fe-10f7-4110-c91e-40aa139ac373"
      },
      "outputs": [
        {
          "output_type": "stream",
          "name": "stdout",
          "text": [
            "Shape da saída:  torch.Size([8, 7, 10])\n",
            "Shape do estado oculto hn:  torch.Size([2, 8, 10])\n",
            "Shape do estado da célula cn:  torch.Size([2, 8, 10])\n"
          ]
        }
      ],
      "source": [
        "# Analisando as saídas\n",
        "print(\"Shape da saída: \", output.shape)\n",
        "print(\"Shape do estado oculto hn: \", hn.shape)\n",
        "print(\"Shape do estado da célula cn: \", cn.shape)"
      ]
    },
    {
      "cell_type": "code",
      "execution_count": 5,
      "metadata": {
        "id": "apyBdRaA5tvA",
        "colab": {
          "base_uri": "https://localhost:8080/"
        },
        "outputId": "38a6f01b-27b7-40fc-c97c-bc41f21835d4"
      },
      "outputs": [
        {
          "output_type": "stream",
          "name": "stdout",
          "text": [
            "Novo comprimento da sequência: 5\n",
            "Shape da saída:  torch.Size([8, 5, 10])\n",
            "Shape do estado oculto hn:  torch.Size([2, 8, 10])\n",
            "Shape do estado da célula cn:  torch.Size([2, 8, 10])\n",
            "\n",
            "Novo tamanho do batch: 32\n",
            "Shape da saída:  torch.Size([32, 5, 10])\n",
            "Shape do estado oculto hn:  torch.Size([2, 32, 10])\n",
            "Shape do estado da célula cn:  torch.Size([2, 32, 10])\n"
          ]
        }
      ],
      "source": [
        "# Modificando o comprimento da sequência\n",
        "seq_len = 5\n",
        "x = torch.randn(batch_size, seq_len, input_size)\n",
        "output, (hn, cn) = lstm(x)\n",
        "\n",
        "print(\"Novo comprimento da sequência:\", seq_len)\n",
        "print(\"Shape da saída: \", output.shape)\n",
        "print(\"Shape do estado oculto hn: \", hn.shape)\n",
        "print(\"Shape do estado da célula cn: \", cn.shape)\n",
        "\n",
        "# Modificando o tamanho do batch\n",
        "batch_size = 32\n",
        "x = torch.randn(batch_size, seq_len, input_size)\n",
        "output, (hn, cn) = lstm(x)\n",
        "\n",
        "print(\"\\nNovo tamanho do batch:\", batch_size)\n",
        "print(\"Shape da saída: \", output.shape)\n",
        "print(\"Shape do estado oculto hn: \", hn.shape)\n",
        "print(\"Shape do estado da célula cn: \", cn.shape)"
      ]
    },
    {
      "cell_type": "markdown",
      "metadata": {
        "id": "bsI1tOEK5tvA"
      },
      "source": [
        "### **Usando um Estado Inicial de LSTM**\n",
        "\n",
        "Normalmente, as LSTMs começam com um estado oculto e um estado de célula inicializados como zeros. No entanto, podemos fornecer estados iniciais personalizados."
      ]
    },
    {
      "cell_type": "code",
      "execution_count": 6,
      "metadata": {
        "id": "HU7nDeaH5tvA",
        "colab": {
          "base_uri": "https://localhost:8080/"
        },
        "outputId": "616d1093-cc58-4367-a318-811c524a9e8e"
      },
      "outputs": [
        {
          "output_type": "stream",
          "name": "stdout",
          "text": [
            "Shape da saída:  torch.Size([32, 5, 10])\n",
            "Shape do estado oculto hn:  torch.Size([2, 32, 10])\n",
            "Shape do estado da célula cn:  torch.Size([2, 32, 10])\n"
          ]
        }
      ],
      "source": [
        "# Estado inicial personalizado\n",
        "h0 = torch.randn(num_layers, batch_size, hidden_size)\n",
        "c0 = torch.randn(num_layers, batch_size, hidden_size)\n",
        "\n",
        "# Executando a LSTM com estados iniciais personalizados\n",
        "output, (hn, cn) = lstm(x, (h0, c0))\n",
        "\n",
        "print(\"Shape da saída: \", output.shape)\n",
        "print(\"Shape do estado oculto hn: \", hn.shape)\n",
        "print(\"Shape do estado da célula cn: \", cn.shape)"
      ]
    },
    {
      "cell_type": "markdown",
      "metadata": {
        "id": "N8WokPEE5tvB"
      },
      "source": [
        "### **Classificação de Nacionalidade de Nomes com LSTM**\n",
        "\n",
        "Neste exemplo, vamos usar uma LSTM para classificar a nacionalidade de nomes de pessoas. O conjunto de dados contém nomes associados às suas respectivas nacionalidades. A tarefa da LSTM será aprender a classificar corretamente esses nomes em diferentes nacionalidades.\n",
        "\n",
        "#### **Descrição do Problema**\n",
        "\n",
        "Vamos utilizar um conjunto de dados que contém nomes e suas respectivas nacionalidades. A LSTM será treinada para prever a nacionalidade com base no nome dado."
      ]
    },
    {
      "cell_type": "code",
      "source": [
        "!mkdir data"
      ],
      "metadata": {
        "id": "m3lUzjIp7pIL"
      },
      "execution_count": 7,
      "outputs": []
    },
    {
      "cell_type": "code",
      "execution_count": 8,
      "metadata": {
        "id": "ieWw0lak5tvB",
        "colab": {
          "base_uri": "https://localhost:8080/"
        },
        "outputId": "8f544a65-8dd8-4330-d7eb-acf0e367edf5"
      },
      "outputs": [
        {
          "output_type": "stream",
          "name": "stdout",
          "text": [
            "--2024-08-24 17:01:22--  https://download.pytorch.org/tutorial/data.zip\n",
            "Resolving download.pytorch.org (download.pytorch.org)... 52.84.229.89, 52.84.229.13, 52.84.229.87, ...\n",
            "Connecting to download.pytorch.org (download.pytorch.org)|52.84.229.89|:443... connected.\n",
            "HTTP request sent, awaiting response... 200 OK\n",
            "Length: 2882130 (2.7M) [application/zip]\n",
            "Saving to: ‘data/data.zip’\n",
            "\n",
            "\rdata.zip              0%[                    ]       0  --.-KB/s               \rdata.zip            100%[===================>]   2.75M  --.-KB/s    in 0.04s   \n",
            "\n",
            "2024-08-24 17:01:22 (61.5 MB/s) - ‘data/data.zip’ saved [2882130/2882130]\n",
            "\n",
            "Archive:  data/data.zip\n",
            "  inflating: ./data/eng-fra.txt      \n",
            "   creating: ./data/names/\n",
            "  inflating: ./data/names/Arabic.txt  \n",
            "  inflating: ./data/names/Chinese.txt  \n",
            "  inflating: ./data/names/Czech.txt  \n",
            "  inflating: ./data/names/Dutch.txt  \n",
            "  inflating: ./data/names/English.txt  \n",
            "  inflating: ./data/names/French.txt  \n",
            "  inflating: ./data/names/German.txt  \n",
            "  inflating: ./data/names/Greek.txt  \n",
            "  inflating: ./data/names/Irish.txt  \n",
            "  inflating: ./data/names/Italian.txt  \n",
            "  inflating: ./data/names/Japanese.txt  \n",
            "  inflating: ./data/names/Korean.txt  \n",
            "  inflating: ./data/names/Polish.txt  \n",
            "  inflating: ./data/names/Portuguese.txt  \n",
            "  inflating: ./data/names/Russian.txt  \n",
            "  inflating: ./data/names/Scottish.txt  \n",
            "  inflating: ./data/names/Spanish.txt  \n",
            "  inflating: ./data/names/Vietnamese.txt  \n"
          ]
        }
      ],
      "source": [
        "# Download do conjunto de dados em data/\n",
        "!wget -P data/ https://download.pytorch.org/tutorial/data.zip\n",
        "\n",
        "# Descompactando o arquivo\n",
        "!unzip data/data.zip -d ."
      ]
    },
    {
      "cell_type": "code",
      "execution_count": 9,
      "metadata": {
        "id": "zgk0I8Fz5tvB"
      },
      "outputs": [],
      "source": [
        "import os\n",
        "import glob\n",
        "import unicodedata\n",
        "import string\n",
        "from tqdm import tqdm"
      ]
    },
    {
      "cell_type": "code",
      "source": [
        "# o token aqui está ao nível da letra"
      ],
      "metadata": {
        "id": "R-xEGfPn75-b"
      },
      "execution_count": 10,
      "outputs": []
    },
    {
      "cell_type": "code",
      "execution_count": 11,
      "metadata": {
        "id": "WFQefnTJ5tvC",
        "colab": {
          "base_uri": "https://localhost:8080/"
        },
        "outputId": "12ce159d-73cb-4111-8de7-f0c1d62d9368"
      },
      "outputs": [
        {
          "output_type": "stream",
          "name": "stdout",
          "text": [
            "Dataset size: 20074\n",
            "torch.Size([3, 1, 58]) tensor([0]) Ang Chinese\n"
          ]
        }
      ],
      "source": [
        "class NameDataset(Dataset):\n",
        "    def __init__(self, data_path):\n",
        "        self.all_letters = \"-\" + string.ascii_letters + \" .,;'\"\n",
        "        self.n_letters = len(self.all_letters)\n",
        "        self.NULL_IDX = 0\n",
        "        self.cat2idx, self.idx2cat, self.data = self.load_data(data_path)\n",
        "        self.letter2idx = {letter: idx for idx, letter in enumerate(self.all_letters)}\n",
        "\n",
        "    # Carregar e processar os dados\n",
        "    def load_data(self, path):\n",
        "        cat2idx = {}\n",
        "        idx2cat = {}\n",
        "        data = []\n",
        "        for idx, filename in enumerate(glob.glob(path)):\n",
        "            category = os.path.splitext(os.path.basename(filename))[0]\n",
        "            cat2idx[category] = idx\n",
        "            idx2cat[idx] = category\n",
        "\n",
        "            for line in open(filename, encoding='utf-8').read().strip().split('\\n'):\n",
        "                name = self.unicode_to_ascii(line)\n",
        "                data.append((name, category))\n",
        "        return cat2idx, idx2cat, data\n",
        "\n",
        "    # Função auxiliar para remover acentos\n",
        "    def unicode_to_ascii(self, s):\n",
        "        return ''.join(\n",
        "            c for c in unicodedata.normalize('NFD', s)\n",
        "            if unicodedata.category(c) != 'Mn'\n",
        "        )\n",
        "\n",
        "    # Converter letra para tensor <1 x n_letters>\n",
        "    def letter_to_tensor(self, letter):\n",
        "        tensor = torch.zeros(1, self.n_letters)\n",
        "        tensor[0][self.letter2idx.get(letter, self.NULL_IDX)] = 1\n",
        "        return tensor\n",
        "\n",
        "    # Converter nome para tensor <name_length x 1 x n_letters>\n",
        "    def name_to_tensor(self, name):\n",
        "        tensor = torch.zeros(len(name), 1, self.n_letters)\n",
        "        for li, letter in enumerate(name):\n",
        "            tensor[li][0][self.letter2idx.get(letter, self.NULL_IDX)] = 1\n",
        "        return tensor\n",
        "\n",
        "    def tensor_to_name(self, tensor):\n",
        "        idx = torch.argmax(tensor, dim=-1)\n",
        "        return ''.join(self.all_letters[i] for i in idx)\n",
        "\n",
        "    # Retornar o tamanho do dataset\n",
        "    def __len__(self):\n",
        "        return len(self.data)\n",
        "\n",
        "    # Recuperar um item do dataset\n",
        "    def __getitem__(self, idx):\n",
        "        name, category = self.data[idx]\n",
        "        name = self.name_to_tensor(name)\n",
        "        category = torch.tensor([self.cat2idx[category]], dtype=torch.long)\n",
        "        return name, category\n",
        "\n",
        "# Exemplo de uso do dataset\n",
        "dataset = NameDataset('data/names/*.txt')\n",
        "\n",
        "# Exibir o tamanho do dataset e um exemplo de tensor\n",
        "print(f\"Dataset size: {len(dataset)}\")\n",
        "name, category = dataset[0]\n",
        "print(name.shape, category, dataset.tensor_to_name(name), dataset.idx2cat[category.item()])"
      ]
    },
    {
      "cell_type": "code",
      "source": [
        "# 58 é o mapa de todos os carcateres que compõem cada palavra, com o one hot encoding"
      ],
      "metadata": {
        "id": "SAOJ7gjb9HAU"
      },
      "execution_count": 12,
      "outputs": []
    },
    {
      "cell_type": "code",
      "execution_count": 13,
      "metadata": {
        "id": "zkktUxCc5tvC",
        "colab": {
          "base_uri": "https://localhost:8080/"
        },
        "outputId": "08c0551e-337f-45e3-8940-77050cc85181"
      },
      "outputs": [
        {
          "output_type": "stream",
          "name": "stdout",
          "text": [
            "Tamanho do dataset de treinamento: 16059\n",
            "Tamanho do dataset de teste: 4015\n"
          ]
        }
      ],
      "source": [
        "# Caminho para os arquivos de dados\n",
        "data_path = 'data/names/*.txt'\n",
        "\n",
        "# Criação do dataset\n",
        "dataset = NameDataset(data_path)\n",
        "\n",
        "# Divisão do dataset em treinamento e teste\n",
        "train_size = int(0.8 * len(dataset))\n",
        "test_size = len(dataset) - train_size\n",
        "train_dataset, test_dataset = random_split(dataset, [train_size, test_size])\n",
        "\n",
        "print(f\"Tamanho do dataset de treinamento: {len(train_dataset)}\")\n",
        "print(f\"Tamanho do dataset de teste: {len(test_dataset)}\")"
      ]
    },
    {
      "cell_type": "code",
      "source": [
        "dataset[0][0].shape, dataset[10][0].shape"
      ],
      "metadata": {
        "colab": {
          "base_uri": "https://localhost:8080/"
        },
        "id": "zjrOJ02-9Zei",
        "outputId": "fb2cdd01-c521-4fac-b280-1932c5f14f7b"
      },
      "execution_count": 14,
      "outputs": [
        {
          "output_type": "execute_result",
          "data": {
            "text/plain": [
              "(torch.Size([3, 1, 58]), torch.Size([3, 1, 58]))"
            ]
          },
          "metadata": {},
          "execution_count": 14
        }
      ]
    },
    {
      "cell_type": "code",
      "execution_count": 15,
      "metadata": {
        "id": "pYPQrpsE5tvC"
      },
      "outputs": [],
      "source": [
        "from torch.nn.utils.rnn import pad_sequence\n",
        "\n",
        "# usada na construção do batch\n",
        "# como temos tamanhos fierentes para cada palavra, o padding é necessário\n",
        "def collate_fn(batch):\n",
        "    names, categories = zip(*batch)\n",
        "\n",
        "    # Padding dos tensores de nomes usando o valor do caractere nulo\n",
        "    # pad_sequence adiciona margem para que os tensores sejam todos do mesmo tamanho\n",
        "    # o padding é feito com o 0 ou o -, que significam aqui nada (Null index)\n",
        "    names_padded = pad_sequence(names, batch_first=True, padding_value=dataset.NULL_IDX).squeeze()\n",
        "\n",
        "    # Converte lista de categorias para tensor\n",
        "    categories = torch.cat(categories)\n",
        "\n",
        "    return names_padded, categories\n",
        "\n",
        "\n",
        "# Criação dos DataLoaders\n",
        "batch_size = 8\n",
        "train_loader = DataLoader(train_dataset, batch_size=batch_size, shuffle=True, collate_fn=collate_fn)\n",
        "test_loader = DataLoader(test_dataset, batch_size=batch_size, shuffle=False, collate_fn=collate_fn)"
      ]
    },
    {
      "cell_type": "code",
      "execution_count": 16,
      "metadata": {
        "id": "pj5AvobF5tvC",
        "colab": {
          "base_uri": "https://localhost:8080/"
        },
        "outputId": "dcc8d794-6379-4246-ffea-a25c607fb927"
      },
      "outputs": [
        {
          "output_type": "stream",
          "name": "stdout",
          "text": [
            "torch.Size([8, 10, 58]) torch.Size([8])\n"
          ]
        }
      ],
      "source": [
        "# Exemplo de uso do DataLoader\n",
        "names, categories = next(iter(test_loader))\n",
        "print(names.shape, categories.shape)"
      ]
    },
    {
      "cell_type": "code",
      "execution_count": 17,
      "metadata": {
        "id": "DLnQ_Pq05tvC",
        "colab": {
          "base_uri": "https://localhost:8080/"
        },
        "outputId": "3fc37a03-5e27-444a-84a1-2704a77beb2e"
      },
      "outputs": [
        {
          "output_type": "execute_result",
          "data": {
            "text/plain": [
              "('Veselitsky', 'Russian')"
            ]
          },
          "metadata": {},
          "execution_count": 17
        }
      ],
      "source": [
        "idx = 2\n",
        "dataset.tensor_to_name(names[idx]), dataset.idx2cat[categories[idx].item()]"
      ]
    },
    {
      "cell_type": "markdown",
      "metadata": {
        "id": "lcg2-zHj5tvD"
      },
      "source": [
        "### **Treinamento do Modelo LSTM para Classificação de Nacionalidade**\n",
        "\n",
        "Vamos criar e treinar uma LSTM para classificar os nomes em diferentes nacionalidades.\n",
        "\n",
        "#### **Configuração do Modelo**\n",
        "\n",
        "- **`input_size`**: Número de letras possíveis no nome (dimensão do vetor one-hot para cada letra).\n",
        "- **`hidden_size`**: Número de unidades na camada oculta da LSTM.\n",
        "- **`output_size`**: Número de categorias (nacionalidades).\n",
        "- **`num_layers`**: Número de camadas LSTM empilhadas."
      ]
    },
    {
      "cell_type": "code",
      "execution_count": 18,
      "metadata": {
        "id": "aML0gF3a5tvD"
      },
      "outputs": [],
      "source": [
        "class LSTMClassifier(nn.Module):\n",
        "    def __init__(self, input_size, hidden_size, output_size, num_layers=1):\n",
        "        super(LSTMClassifier, self).__init__()\n",
        "        self.lstm = nn.LSTM(input_size, hidden_size, num_layers, batch_first=True)\n",
        "        self.fc = nn.Linear(hidden_size, output_size)\n",
        "\n",
        "    def forward(self, x, h=None):\n",
        "        # x: (batch_size, seq_len, input_size)\n",
        "        batch_size, seq_len, _ = x.size()\n",
        "\n",
        "        # h: (num_layers, batch_size, hidden_size)\n",
        "        if h is None:\n",
        "            h = (torch.zeros(self.lstm.num_layers, batch_size, self.lstm.hidden_size).to(x.device),\n",
        "                 torch.zeros(self.lstm.num_layers, batch_size, self.lstm.hidden_size).to(x.device))\n",
        "\n",
        "        # Processa a sequência com a LSTM\n",
        "        out, (hn, cn) = self.lstm(x, h)\n",
        "\n",
        "        # Apenas a última saída de tempo é usada para classificação\n",
        "        out = out[:, -1, :]\n",
        "\n",
        "        # Calcula a saída\n",
        "        y = self.fc(out)\n",
        "        return y"
      ]
    },
    {
      "cell_type": "code",
      "execution_count": 19,
      "metadata": {
        "id": "8aPiF5Zt5tvD"
      },
      "outputs": [],
      "source": [
        "# Configuração do modelo\n",
        "input_size = dataset.n_letters\n",
        "hidden_size = 128\n",
        "output_size = len(dataset.cat2idx)  # Número de nacionalidades\n",
        "num_layers = 1\n",
        "\n",
        "model = LSTMClassifier(input_size, hidden_size, output_size, num_layers)"
      ]
    },
    {
      "cell_type": "code",
      "execution_count": 20,
      "metadata": {
        "id": "JKdc__CX5tvD"
      },
      "outputs": [],
      "source": [
        "criterion = nn.CrossEntropyLoss(ignore_index=0)\n",
        "optimizer = optim.Adam(model.parameters(), lr=0.001)"
      ]
    },
    {
      "cell_type": "code",
      "execution_count": 21,
      "metadata": {
        "id": "_DWHkHlh5tvD",
        "colab": {
          "base_uri": "https://localhost:8080/"
        },
        "outputId": "f28bec85-8295-41e4-acb3-8865174e9554"
      },
      "outputs": [
        {
          "output_type": "stream",
          "name": "stderr",
          "text": [
            "100%|██████████| 2008/2008 [00:11<00:00, 173.80it/s]\n"
          ]
        },
        {
          "output_type": "stream",
          "name": "stdout",
          "text": [
            "Epoch 0, Loss: 0.3434619903564453\n"
          ]
        },
        {
          "output_type": "stream",
          "name": "stderr",
          "text": [
            "100%|██████████| 2008/2008 [00:07<00:00, 265.28it/s]\n"
          ]
        },
        {
          "output_type": "stream",
          "name": "stdout",
          "text": [
            "Epoch 1, Loss: 0.610765278339386\n"
          ]
        },
        {
          "output_type": "stream",
          "name": "stderr",
          "text": [
            "100%|██████████| 2008/2008 [00:08<00:00, 240.25it/s]\n"
          ]
        },
        {
          "output_type": "stream",
          "name": "stdout",
          "text": [
            "Epoch 2, Loss: 0.3895035684108734\n"
          ]
        },
        {
          "output_type": "stream",
          "name": "stderr",
          "text": [
            "100%|██████████| 2008/2008 [00:08<00:00, 237.23it/s]\n"
          ]
        },
        {
          "output_type": "stream",
          "name": "stdout",
          "text": [
            "Epoch 3, Loss: 0.3898450434207916\n"
          ]
        },
        {
          "output_type": "stream",
          "name": "stderr",
          "text": [
            "100%|██████████| 2008/2008 [00:07<00:00, 261.91it/s]\n"
          ]
        },
        {
          "output_type": "stream",
          "name": "stdout",
          "text": [
            "Epoch 4, Loss: 0.4453696310520172\n"
          ]
        },
        {
          "output_type": "stream",
          "name": "stderr",
          "text": [
            "100%|██████████| 2008/2008 [00:08<00:00, 233.61it/s]\n"
          ]
        },
        {
          "output_type": "stream",
          "name": "stdout",
          "text": [
            "Epoch 5, Loss: 0.22406910359859467\n"
          ]
        },
        {
          "output_type": "stream",
          "name": "stderr",
          "text": [
            "100%|██████████| 2008/2008 [00:08<00:00, 229.49it/s]\n"
          ]
        },
        {
          "output_type": "stream",
          "name": "stdout",
          "text": [
            "Epoch 6, Loss: 0.728374183177948\n"
          ]
        },
        {
          "output_type": "stream",
          "name": "stderr",
          "text": [
            "100%|██████████| 2008/2008 [00:07<00:00, 253.28it/s]\n"
          ]
        },
        {
          "output_type": "stream",
          "name": "stdout",
          "text": [
            "Epoch 7, Loss: 0.21744459867477417\n"
          ]
        },
        {
          "output_type": "stream",
          "name": "stderr",
          "text": [
            "100%|██████████| 2008/2008 [00:08<00:00, 229.47it/s]\n"
          ]
        },
        {
          "output_type": "stream",
          "name": "stdout",
          "text": [
            "Epoch 8, Loss: 0.14524111151695251\n"
          ]
        },
        {
          "output_type": "stream",
          "name": "stderr",
          "text": [
            "100%|██████████| 2008/2008 [00:09<00:00, 215.39it/s]"
          ]
        },
        {
          "output_type": "stream",
          "name": "stdout",
          "text": [
            "Epoch 9, Loss: 0.030617451295256615\n"
          ]
        },
        {
          "output_type": "stream",
          "name": "stderr",
          "text": [
            "\n"
          ]
        }
      ],
      "source": [
        "# Treinamento\n",
        "num_epochs = 10\n",
        "\n",
        "for epoch in range(num_epochs):\n",
        "    model.train()\n",
        "    for names, categories in tqdm(train_loader):\n",
        "        optimizer.zero_grad()\n",
        "        outputs = model(names)\n",
        "        loss = criterion(outputs, categories.squeeze())\n",
        "        loss.backward()\n",
        "        optimizer.step()\n",
        "\n",
        "    if epoch % 1 == 0:\n",
        "        print(f'Epoch {epoch}, Loss: {loss.item()}')"
      ]
    },
    {
      "cell_type": "markdown",
      "metadata": {
        "id": "fVvnG8KA5tvD"
      },
      "source": [
        "### **Avaliação do Modelo**\n",
        "\n",
        "Após o treinamento, vamos avaliar o modelo no conjunto de teste para verificar como ele se sai na classificação das nacionalidades."
      ]
    },
    {
      "cell_type": "code",
      "execution_count": 22,
      "metadata": {
        "id": "Wbx0KVFs5tvE",
        "colab": {
          "base_uri": "https://localhost:8080/"
        },
        "outputId": "fe87dc1f-b4f9-4a21-b5ff-4e50b3e2f627"
      },
      "outputs": [
        {
          "output_type": "stream",
          "name": "stdout",
          "text": [
            "Acurácia no conjunto de teste: 79.38%\n"
          ]
        }
      ],
      "source": [
        "# Avaliação do modelo\n",
        "model.eval()\n",
        "correct = 0\n",
        "\n",
        "with torch.no_grad():\n",
        "    for names, categories in test_loader:\n",
        "        outputs = model(names)\n",
        "        predicted = torch.argmax(outputs, dim=1)\n",
        "        correct += (predicted == categories.squeeze()).sum().item()\n",
        "\n",
        "accuracy = correct / len(test_dataset)\n",
        "print(f'Acurácia no conjunto de teste: {accuracy * 100:.2f}%')"
      ]
    },
    {
      "cell_type": "markdown",
      "metadata": {
        "id": "klvPr0Sm5tvE"
      },
      "source": [
        "### **Visualização de Resultados**\n",
        "\n",
        "Finalmente, podemos visualizar algumas das classificações feitas pelo modelo para verificar como ele está tomando as decisões."
      ]
    },
    {
      "cell_type": "code",
      "execution_count": 23,
      "metadata": {
        "id": "BYnhoM235tvE",
        "colab": {
          "base_uri": "https://localhost:8080/"
        },
        "outputId": "10a79052-5207-46d6-8012-03633cde79fe"
      },
      "outputs": [
        {
          "output_type": "stream",
          "name": "stdout",
          "text": [
            "Nome: Abraham | Nacionalidade Real: English | Predição: Russian\n",
            "\n",
            "Nome: Tukumtsev | Nacionalidade Real: Russian | Predição: Russian\n",
            "\n",
            "Nome: Tikhy | Nacionalidade Real: Russian | Predição: Russian\n",
            "\n",
            "Nome: Pavlishin | Nacionalidade Real: Russian | Predição: Russian\n",
            "\n",
            "Nome: Ustyantsev | Nacionalidade Real: Russian | Predição: Russian\n",
            "\n"
          ]
        }
      ],
      "source": [
        "for _ in range(5):\n",
        "    i = np.random.randint(len(test_dataset))\n",
        "    name_tensor, category = test_dataset[i]\n",
        "    name_tensor = name_tensor.squeeze().unsqueeze(0)\n",
        "    name = dataset.tensor_to_name(name_tensor[0])\n",
        "    category = category.item()\n",
        "\n",
        "    output = model(name_tensor)\n",
        "    predicted = output.argmax(-1).item()\n",
        "    print(f\"Nome: {name} | Nacionalidade Real: {dataset.idx2cat[category]} | Predição: {dataset.idx2cat[predicted]}\")\n",
        "    print()"
      ]
    },
    {
      "cell_type": "markdown",
      "metadata": {
        "id": "kwGUgkEI5tvE"
      },
      "source": [
        "## Exercícios"
      ]
    },
    {
      "cell_type": "markdown",
      "metadata": {
        "id": "RKI6-zLi5tvE"
      },
      "source": [
        "### Exercício 1\n",
        "Aumente o número de camadas para 2 e treine o modelo. O que acontece com os resultados?"
      ]
    },
    {
      "cell_type": "code",
      "source": [
        "# Configuração do modelo\n",
        "input_size = dataset.n_letters\n",
        "hidden_size = 128\n",
        "output_size = len(dataset.cat2idx)  # Número de nacionalidades\n",
        "num_layers = 2\n",
        "\n",
        "model = LSTMClassifier(input_size, hidden_size, output_size, num_layers)"
      ],
      "metadata": {
        "id": "zFvHVgxhBrJv"
      },
      "execution_count": 24,
      "outputs": []
    },
    {
      "cell_type": "code",
      "source": [
        "criterion = nn.CrossEntropyLoss(ignore_index=0)\n",
        "optimizer = optim.Adam(model.parameters(), lr=0.001)"
      ],
      "metadata": {
        "id": "LUMOa2SUCEQe"
      },
      "execution_count": 25,
      "outputs": []
    },
    {
      "cell_type": "code",
      "source": [
        "# Treinamento\n",
        "num_epochs = 10\n",
        "\n",
        "for epoch in range(num_epochs):\n",
        "    model.train()\n",
        "    for names, categories in tqdm(train_loader):\n",
        "        optimizer.zero_grad()\n",
        "        outputs = model(names)\n",
        "        loss = criterion(outputs, categories.squeeze())\n",
        "        loss.backward()\n",
        "        optimizer.step()\n",
        "\n",
        "    if epoch % 1 == 0:\n",
        "        print(f'Epoch {epoch}, Loss: {loss.item()}')"
      ],
      "metadata": {
        "colab": {
          "base_uri": "https://localhost:8080/"
        },
        "id": "Te53XdkwCHoY",
        "outputId": "81096c5e-6910-415e-8395-3eac83651d0b"
      },
      "execution_count": 26,
      "outputs": [
        {
          "output_type": "stream",
          "name": "stderr",
          "text": [
            "100%|██████████| 2008/2008 [00:12<00:00, 162.42it/s]\n"
          ]
        },
        {
          "output_type": "stream",
          "name": "stdout",
          "text": [
            "Epoch 0, Loss: 1.704114556312561\n"
          ]
        },
        {
          "output_type": "stream",
          "name": "stderr",
          "text": [
            "100%|██████████| 2008/2008 [00:12<00:00, 160.99it/s]\n"
          ]
        },
        {
          "output_type": "stream",
          "name": "stdout",
          "text": [
            "Epoch 1, Loss: 1.2249807119369507\n"
          ]
        },
        {
          "output_type": "stream",
          "name": "stderr",
          "text": [
            "100%|██████████| 2008/2008 [00:12<00:00, 154.78it/s]\n"
          ]
        },
        {
          "output_type": "stream",
          "name": "stdout",
          "text": [
            "Epoch 2, Loss: 1.2377562522888184\n"
          ]
        },
        {
          "output_type": "stream",
          "name": "stderr",
          "text": [
            "100%|██████████| 2008/2008 [00:12<00:00, 160.84it/s]\n"
          ]
        },
        {
          "output_type": "stream",
          "name": "stdout",
          "text": [
            "Epoch 3, Loss: 1.559820532798767\n"
          ]
        },
        {
          "output_type": "stream",
          "name": "stderr",
          "text": [
            "100%|██████████| 2008/2008 [00:12<00:00, 161.05it/s]\n"
          ]
        },
        {
          "output_type": "stream",
          "name": "stdout",
          "text": [
            "Epoch 4, Loss: 0.23458297550678253\n"
          ]
        },
        {
          "output_type": "stream",
          "name": "stderr",
          "text": [
            "100%|██████████| 2008/2008 [00:12<00:00, 165.94it/s]\n"
          ]
        },
        {
          "output_type": "stream",
          "name": "stdout",
          "text": [
            "Epoch 5, Loss: 0.09589672833681107\n"
          ]
        },
        {
          "output_type": "stream",
          "name": "stderr",
          "text": [
            "100%|██████████| 2008/2008 [00:12<00:00, 162.23it/s]\n"
          ]
        },
        {
          "output_type": "stream",
          "name": "stdout",
          "text": [
            "Epoch 6, Loss: 0.47124913334846497\n"
          ]
        },
        {
          "output_type": "stream",
          "name": "stderr",
          "text": [
            "100%|██████████| 2008/2008 [00:12<00:00, 161.71it/s]\n"
          ]
        },
        {
          "output_type": "stream",
          "name": "stdout",
          "text": [
            "Epoch 7, Loss: 0.34984636306762695\n"
          ]
        },
        {
          "output_type": "stream",
          "name": "stderr",
          "text": [
            "100%|██████████| 2008/2008 [00:12<00:00, 163.41it/s]\n"
          ]
        },
        {
          "output_type": "stream",
          "name": "stdout",
          "text": [
            "Epoch 8, Loss: 0.14795802533626556\n"
          ]
        },
        {
          "output_type": "stream",
          "name": "stderr",
          "text": [
            "100%|██████████| 2008/2008 [00:12<00:00, 162.98it/s]"
          ]
        },
        {
          "output_type": "stream",
          "name": "stdout",
          "text": [
            "Epoch 9, Loss: 0.007018947973847389\n"
          ]
        },
        {
          "output_type": "stream",
          "name": "stderr",
          "text": [
            "\n"
          ]
        }
      ]
    },
    {
      "cell_type": "code",
      "source": [
        "# Avaliação do modelo\n",
        "model.eval()\n",
        "correct = 0\n",
        "\n",
        "with torch.no_grad():\n",
        "    for names, categories in test_loader:\n",
        "        outputs = model(names)\n",
        "        predicted = torch.argmax(outputs, dim=1)\n",
        "        correct += (predicted == categories.squeeze()).sum().item()\n",
        "\n",
        "accuracy = correct / len(test_dataset)\n",
        "print(f'Acurácia no conjunto de teste: {accuracy * 100:.2f}%')"
      ],
      "metadata": {
        "colab": {
          "base_uri": "https://localhost:8080/"
        },
        "id": "dVNr0aprCs75",
        "outputId": "2db0c280-9a94-47c0-a2d0-d061730ff830"
      },
      "execution_count": 27,
      "outputs": [
        {
          "output_type": "stream",
          "name": "stdout",
          "text": [
            "Acurácia no conjunto de teste: 81.00%\n"
          ]
        }
      ]
    },
    {
      "cell_type": "markdown",
      "source": [
        "A perda foi reduzida e a acurácia aumentou de 80,5% para 82,4%."
      ],
      "metadata": {
        "id": "_pFZH4NmC11J"
      }
    },
    {
      "cell_type": "markdown",
      "metadata": {
        "id": "pISh8bXe5tvE"
      },
      "source": [
        "### Exercício 2\n",
        "Utilize o modelo treinado para fazer a predição da nacionalidade do seu nome"
      ]
    },
    {
      "cell_type": "code",
      "source": [
        "all_letters = \"-\" + string.ascii_letters + \" .,;'\""
      ],
      "metadata": {
        "id": "fOWoXyR_EwQJ"
      },
      "execution_count": 28,
      "outputs": []
    },
    {
      "cell_type": "code",
      "source": [
        "NULL_IDX = 0"
      ],
      "metadata": {
        "id": "EvWmNSQnE7mT"
      },
      "execution_count": 29,
      "outputs": []
    },
    {
      "cell_type": "code",
      "source": [
        "letter2idx = {letter: idx for idx, letter in enumerate(all_letters)}"
      ],
      "metadata": {
        "id": "7Kj0Z3zRElEL"
      },
      "execution_count": 30,
      "outputs": []
    },
    {
      "cell_type": "code",
      "execution_count": 31,
      "metadata": {
        "id": "C5CCOACk5tvE"
      },
      "outputs": [],
      "source": [
        "# Converter nome para tensor <name_length x 1 x n_letters>\n",
        "def name_to_tensor(name):\n",
        "    tensor = torch.zeros(len(name), 1, len(all_letters))\n",
        "    for li, letter in enumerate(name):\n",
        "        tensor[li][0][letter2idx.get(letter, NULL_IDX)] = 1\n",
        "    return tensor"
      ]
    },
    {
      "cell_type": "code",
      "source": [
        "nome = 'Andrea'"
      ],
      "metadata": {
        "id": "lVaM1-6dG-uq"
      },
      "execution_count": 32,
      "outputs": []
    },
    {
      "cell_type": "code",
      "source": [
        "name_tensor = name_to_tensor(nome)"
      ],
      "metadata": {
        "id": "YPLQH19UEL8c"
      },
      "execution_count": 33,
      "outputs": []
    },
    {
      "cell_type": "code",
      "source": [
        "name_tensor"
      ],
      "metadata": {
        "collapsed": true,
        "colab": {
          "base_uri": "https://localhost:8080/"
        },
        "id": "lpZXKlAFFPrQ",
        "outputId": "43bd525c-dd19-42a3-bd69-4ff66aa4cdbe"
      },
      "execution_count": 34,
      "outputs": [
        {
          "output_type": "execute_result",
          "data": {
            "text/plain": [
              "tensor([[[0., 0., 0., 0., 0., 0., 0., 0., 0., 0., 0., 0., 0., 0., 0., 0., 0.,\n",
              "          0., 0., 0., 0., 0., 0., 0., 0., 0., 0., 1., 0., 0., 0., 0., 0., 0.,\n",
              "          0., 0., 0., 0., 0., 0., 0., 0., 0., 0., 0., 0., 0., 0., 0., 0., 0.,\n",
              "          0., 0., 0., 0., 0., 0., 0.]],\n",
              "\n",
              "        [[0., 0., 0., 0., 0., 0., 0., 0., 0., 0., 0., 0., 0., 0., 1., 0., 0.,\n",
              "          0., 0., 0., 0., 0., 0., 0., 0., 0., 0., 0., 0., 0., 0., 0., 0., 0.,\n",
              "          0., 0., 0., 0., 0., 0., 0., 0., 0., 0., 0., 0., 0., 0., 0., 0., 0.,\n",
              "          0., 0., 0., 0., 0., 0., 0.]],\n",
              "\n",
              "        [[0., 0., 0., 0., 1., 0., 0., 0., 0., 0., 0., 0., 0., 0., 0., 0., 0.,\n",
              "          0., 0., 0., 0., 0., 0., 0., 0., 0., 0., 0., 0., 0., 0., 0., 0., 0.,\n",
              "          0., 0., 0., 0., 0., 0., 0., 0., 0., 0., 0., 0., 0., 0., 0., 0., 0.,\n",
              "          0., 0., 0., 0., 0., 0., 0.]],\n",
              "\n",
              "        [[0., 0., 0., 0., 0., 0., 0., 0., 0., 0., 0., 0., 0., 0., 0., 0., 0.,\n",
              "          0., 1., 0., 0., 0., 0., 0., 0., 0., 0., 0., 0., 0., 0., 0., 0., 0.,\n",
              "          0., 0., 0., 0., 0., 0., 0., 0., 0., 0., 0., 0., 0., 0., 0., 0., 0.,\n",
              "          0., 0., 0., 0., 0., 0., 0.]],\n",
              "\n",
              "        [[0., 0., 0., 0., 0., 1., 0., 0., 0., 0., 0., 0., 0., 0., 0., 0., 0.,\n",
              "          0., 0., 0., 0., 0., 0., 0., 0., 0., 0., 0., 0., 0., 0., 0., 0., 0.,\n",
              "          0., 0., 0., 0., 0., 0., 0., 0., 0., 0., 0., 0., 0., 0., 0., 0., 0.,\n",
              "          0., 0., 0., 0., 0., 0., 0.]],\n",
              "\n",
              "        [[0., 1., 0., 0., 0., 0., 0., 0., 0., 0., 0., 0., 0., 0., 0., 0., 0.,\n",
              "          0., 0., 0., 0., 0., 0., 0., 0., 0., 0., 0., 0., 0., 0., 0., 0., 0.,\n",
              "          0., 0., 0., 0., 0., 0., 0., 0., 0., 0., 0., 0., 0., 0., 0., 0., 0.,\n",
              "          0., 0., 0., 0., 0., 0., 0.]]])"
            ]
          },
          "metadata": {},
          "execution_count": 34
        }
      ]
    },
    {
      "cell_type": "code",
      "source": [
        "name_tensor = name_tensor.squeeze().unsqueeze(0)\n",
        "output = model(name_tensor)\n",
        "predicted = output.argmax(-1).item()\n",
        "print(f\"Nome: {nome} | Nacionalidade Real: Português | Predição: {dataset.idx2cat[predicted]}\")\n",
        "print()"
      ],
      "metadata": {
        "colab": {
          "base_uri": "https://localhost:8080/"
        },
        "id": "YzieMD-2FsEt",
        "outputId": "88d7b08b-83ca-4f9b-e80f-e8e9471af693"
      },
      "execution_count": 35,
      "outputs": [
        {
          "output_type": "stream",
          "name": "stdout",
          "text": [
            "Nome: Andrea | Nacionalidade Real: Português | Predição: Italian\n",
            "\n"
          ]
        }
      ]
    },
    {
      "cell_type": "code",
      "source": [
        "nome = 'Fabio'\n",
        "name_tensor = name_to_tensor(nome)"
      ],
      "metadata": {
        "id": "PloEF458qngM"
      },
      "execution_count": 36,
      "outputs": []
    },
    {
      "cell_type": "code",
      "source": [
        "name_tensor = name_tensor.squeeze().unsqueeze(0)\n",
        "output = model(name_tensor)\n",
        "predicted = output.argmax(-1).item()\n",
        "print(f\"Nome: {nome} | Nacionalidade Real: Português | Predição: {dataset.idx2cat[predicted]}\")\n",
        "print()"
      ],
      "metadata": {
        "colab": {
          "base_uri": "https://localhost:8080/"
        },
        "id": "HyX1Lb91qswW",
        "outputId": "3dbe08f1-85ac-4a19-d395-c957343e07d5"
      },
      "execution_count": 37,
      "outputs": [
        {
          "output_type": "stream",
          "name": "stdout",
          "text": [
            "Nome: Fabio | Nacionalidade Real: Português | Predição: Italian\n",
            "\n"
          ]
        }
      ]
    },
    {
      "cell_type": "code",
      "source": [
        "nome = 'Eduardo'\n",
        "name_tensor = name_to_tensor(nome)"
      ],
      "metadata": {
        "id": "xlSxeAfWVVa2"
      },
      "execution_count": 38,
      "outputs": []
    },
    {
      "cell_type": "code",
      "source": [
        "name_tensor = name_tensor.squeeze().unsqueeze(0)\n",
        "output = model(name_tensor)\n",
        "predicted = output.argmax(-1).item()\n",
        "print(f\"Nome: {nome} | Nacionalidade Real: Português | Predição: {dataset.idx2cat[predicted]}\")\n",
        "print()"
      ],
      "metadata": {
        "colab": {
          "base_uri": "https://localhost:8080/"
        },
        "outputId": "6e75a9c8-f895-42e7-851d-515b160ff2be",
        "id": "SQdG9iT8VVa4"
      },
      "execution_count": 39,
      "outputs": [
        {
          "output_type": "stream",
          "name": "stdout",
          "text": [
            "Nome: Eduardo | Nacionalidade Real: Português | Predição: Italian\n",
            "\n"
          ]
        }
      ]
    }
  ],
  "metadata": {
    "kernelspec": {
      "display_name": "Python 3",
      "name": "python3"
    },
    "language_info": {
      "codemirror_mode": {
        "name": "ipython",
        "version": 3
      },
      "file_extension": ".py",
      "mimetype": "text/x-python",
      "name": "python",
      "nbconvert_exporter": "python",
      "pygments_lexer": "ipython3",
      "version": "3.10.13"
    },
    "colab": {
      "provenance": [],
      "machine_shape": "hm",
      "gpuType": "T4"
    },
    "accelerator": "GPU"
  },
  "nbformat": 4,
  "nbformat_minor": 0
}