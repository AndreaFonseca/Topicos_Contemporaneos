{
  "cells": [
    {
      "cell_type": "markdown",
      "source": [
        "Alunos:\n",
        "\n",
        "*   Andréa Fonseca\n",
        "*   Fábio Cardoso\n",
        "*   Eduardo Leite\n",
        "\n"
      ],
      "metadata": {
        "id": "F3R3Qoaireub"
      }
    },
    {
      "cell_type": "code",
      "execution_count": null,
      "metadata": {
        "id": "JPbyx3e-sUV3"
      },
      "outputs": [],
      "source": [
        "import torch\n",
        "import torch.nn as nn\n",
        "from torch.utils.data import Dataset, DataLoader, Subset\n",
        "import random\n",
        "from tqdm import tqdm"
      ]
    },
    {
      "cell_type": "code",
      "execution_count": null,
      "metadata": {
        "id": "KhkMJ9TusUV4"
      },
      "outputs": [],
      "source": [
        "device = torch.device(\"cuda\" if torch.cuda.is_available() else \"cpu\")"
      ]
    },
    {
      "cell_type": "code",
      "execution_count": null,
      "metadata": {
        "id": "rTF_91FgsUV4"
      },
      "outputs": [],
      "source": [
        "num_letters = 5\n",
        "\n",
        "# Cria um dicionário que mapeia pares de letras como \"AB\", \"DE\" para inteiros únicos\n",
        "tok2idx = {f\"{chr(65 + i)}{chr(65 + j)}\": i * num_letters + j for i in range(num_letters) for j in range(num_letters)}\n",
        "\n",
        "# Tokeniza um texto\n",
        "def tokenizer(text):\n",
        "    words = text.split()\n",
        "    output = torch.tensor([tok2idx[word] for word in words], dtype=torch.long)\n",
        "    return output\n",
        "\n",
        "# Função para converter um tensor de inteiros em texto\n",
        "def get_text_from_tensor(tensor):\n",
        "    return ' '.join([list(tok2idx.keys())[i] for i in tensor])"
      ]
    },
    {
      "cell_type": "code",
      "source": [
        "tokenizer(\"AB CD\")"
      ],
      "metadata": {
        "colab": {
          "base_uri": "https://localhost:8080/"
        },
        "id": "tJxhryobsjN-",
        "outputId": "0dde63f3-c800-45f9-edf9-12f2f4635f4e"
      },
      "execution_count": null,
      "outputs": [
        {
          "output_type": "execute_result",
          "data": {
            "text/plain": [
              "tensor([ 1, 13])"
            ]
          },
          "metadata": {},
          "execution_count": 4
        }
      ]
    },
    {
      "cell_type": "code",
      "execution_count": null,
      "metadata": {
        "id": "ZaRpAF4bsUV5"
      },
      "outputs": [],
      "source": [
        "# Gera exemplos de treinamento\n",
        "def generate_examples(N):\n",
        "    examples = []\n",
        "    max_letter = 65 + num_letters - 1\n",
        "    for _ in range(N):\n",
        "        # Gera dois pares de letras aleatórios\n",
        "        first_pair = f\"{chr(random.randint(65, max_letter))}{chr(random.randint(65, max_letter))}\"  # Random pair like \"AB\"\n",
        "        second_pair = f\"{chr(random.randint(65, max_letter))}{chr(random.randint(65, max_letter))}\"  # Random pair like \"DE\"\n",
        "\n",
        "        # Gera o target que é a primeira letra do primeiro par e a segunda letra do segundo par\n",
        "        target = f\"{first_pair[0]}{second_pair[1]}\"\n",
        "\n",
        "        # Adiciona o exemplo à lista\n",
        "        examples.append((first_pair, second_pair, target))\n",
        "\n",
        "    return examples"
      ]
    },
    {
      "cell_type": "code",
      "execution_count": null,
      "metadata": {
        "id": "Wc-SdzN3sUV5"
      },
      "outputs": [],
      "source": [
        "N = 3000\n",
        "examples = generate_examples(N)"
      ]
    },
    {
      "cell_type": "code",
      "source": [
        "examples[:10]"
      ],
      "metadata": {
        "colab": {
          "base_uri": "https://localhost:8080/"
        },
        "id": "Y3gVHxJ1s7H2",
        "outputId": "5dd7f033-288c-463d-95e9-0f72607b7ae8"
      },
      "execution_count": null,
      "outputs": [
        {
          "output_type": "execute_result",
          "data": {
            "text/plain": [
              "[('DB', 'AB', 'DB'),\n",
              " ('CE', 'ED', 'CD'),\n",
              " ('AA', 'DC', 'AC'),\n",
              " ('AB', 'ED', 'AD'),\n",
              " ('EC', 'DE', 'EE'),\n",
              " ('CD', 'BD', 'CD'),\n",
              " ('DA', 'AC', 'DC'),\n",
              " ('EB', 'DB', 'EB'),\n",
              " ('AA', 'BA', 'AA'),\n",
              " ('BD', 'BD', 'BD')]"
            ]
          },
          "metadata": {},
          "execution_count": 7
        }
      ]
    },
    {
      "cell_type": "code",
      "execution_count": null,
      "metadata": {
        "id": "ahZujPq6sUV5"
      },
      "outputs": [],
      "source": [
        "# Cria um dataset com os exemplos\n",
        "class SimpleTokenDataset(Dataset):\n",
        "    def __init__(self, examples):\n",
        "        self.data = examples\n",
        "\n",
        "    def __len__(self):\n",
        "        return len(self.data)\n",
        "\n",
        "    def __getitem__(self, idx):\n",
        "        input_seq1, input_seq2, target_seq = self.data[idx]\n",
        "        src = tokenizer(input_seq1 + \" \" + input_seq2)\n",
        "        tgt = tokenizer(target_seq).squeeze()\n",
        "        return src, tgt"
      ]
    },
    {
      "cell_type": "code",
      "execution_count": null,
      "metadata": {
        "id": "GdJnkRpGsUV5"
      },
      "outputs": [],
      "source": [
        "dataset = SimpleTokenDataset(examples)\n",
        "\n",
        "num_val = 0.2 * N\n",
        "\n",
        "train_set = Subset(dataset, range(N - int(num_val)))\n",
        "val_set = Subset(dataset, range(N - int(num_val), N))\n",
        "\n",
        "train_loader = DataLoader(train_set, batch_size=16, shuffle=True)\n",
        "val_loader = DataLoader(val_set, batch_size=16)"
      ]
    },
    {
      "cell_type": "code",
      "execution_count": null,
      "metadata": {
        "id": "hsFqIgLssUV6"
      },
      "outputs": [],
      "source": [
        "class TextGenerator(nn.Module):\n",
        "    def __init__(self, vocab_size, embedding_dim, hidden_dim, output_dim):\n",
        "        super().__init__()\n",
        "        self.embedding = nn.Embedding(vocab_size, embedding_dim)\n",
        "        self.lstm = nn.LSTM(embedding_dim, hidden_dim, batch_first=True)\n",
        "        self.fc = nn.Linear(hidden_dim, output_dim)\n",
        "\n",
        "    def forward(self, x):\n",
        "        x = self.embedding(x)\n",
        "\n",
        "        # Apenas o último hidden state é utilizado\n",
        "        _, (h_n, _) = self.lstm(x)\n",
        "\n",
        "        out = self.fc(h_n.squeeze(0))\n",
        "        return out\n",
        "\n",
        "\n",
        "vocab_size = 10 * 10\n",
        "embedding_dim = 128\n",
        "hidden_dim = 256\n",
        "output_dim = vocab_size\n",
        "\n",
        "model = TextGenerator(vocab_size, embedding_dim, hidden_dim, output_dim)"
      ]
    },
    {
      "cell_type": "code",
      "execution_count": null,
      "metadata": {
        "id": "fgaM_0VVsUV6"
      },
      "outputs": [],
      "source": [
        "criterion = nn.CrossEntropyLoss()\n",
        "optimizer = torch.optim.Adam(model.parameters(), lr=0.001)"
      ]
    },
    {
      "cell_type": "code",
      "execution_count": null,
      "metadata": {
        "id": "g_6KBnE7sUV6",
        "colab": {
          "base_uri": "https://localhost:8080/"
        },
        "outputId": "c28d26be-c0d6-43ea-81fa-7e087f1ccd75"
      },
      "outputs": [
        {
          "output_type": "stream",
          "name": "stderr",
          "text": [
            "Train Epoch 1/5: 100%|██████████| 150/150 [00:02<00:00, 68.50it/s]\n"
          ]
        },
        {
          "output_type": "stream",
          "name": "stdout",
          "text": [
            "Train Loss: 1.8059\n",
            "Val Loss: 0.1224\n"
          ]
        },
        {
          "output_type": "stream",
          "name": "stderr",
          "text": [
            "Train Epoch 2/5: 100%|██████████| 150/150 [00:02<00:00, 74.27it/s]\n"
          ]
        },
        {
          "output_type": "stream",
          "name": "stdout",
          "text": [
            "Train Loss: 0.0485\n",
            "Val Loss: 0.0236\n"
          ]
        },
        {
          "output_type": "stream",
          "name": "stderr",
          "text": [
            "Train Epoch 3/5: 100%|██████████| 150/150 [00:01<00:00, 82.02it/s]\n"
          ]
        },
        {
          "output_type": "stream",
          "name": "stdout",
          "text": [
            "Train Loss: 0.0153\n",
            "Val Loss: 0.0111\n"
          ]
        },
        {
          "output_type": "stream",
          "name": "stderr",
          "text": [
            "Train Epoch 4/5: 100%|██████████| 150/150 [00:01<00:00, 94.75it/s]\n"
          ]
        },
        {
          "output_type": "stream",
          "name": "stdout",
          "text": [
            "Train Loss: 0.0081\n",
            "Val Loss: 0.0067\n"
          ]
        },
        {
          "output_type": "stream",
          "name": "stderr",
          "text": [
            "Train Epoch 5/5: 100%|██████████| 150/150 [00:01<00:00, 98.68it/s]"
          ]
        },
        {
          "output_type": "stream",
          "name": "stdout",
          "text": [
            "Train Loss: 0.0051\n",
            "Val Loss: 0.0045\n"
          ]
        },
        {
          "output_type": "stream",
          "name": "stderr",
          "text": [
            "\n"
          ]
        }
      ],
      "source": [
        "epochs = 5\n",
        "for epoch in range(epochs):\n",
        "    # Treinamento\n",
        "    model.train()\n",
        "    train_loss = 0\n",
        "    for input_seq, target_seq in tqdm(train_loader, desc=f\"Train Epoch {epoch+1}/{epochs}\"):\n",
        "        optimizer.zero_grad()\n",
        "        output = model(input_seq)\n",
        "        loss = criterion(output, target_seq)\n",
        "        loss.backward()\n",
        "        optimizer.step()\n",
        "        train_loss += loss.item()\n",
        "\n",
        "    avg_train_loss = train_loss / len(train_loader)\n",
        "    print(f'Train Loss: {avg_train_loss:.4f}')\n",
        "\n",
        "    # Validação\n",
        "    model.eval()\n",
        "    val_loss = 0\n",
        "    with torch.no_grad():\n",
        "        for input_seq, target_seq in val_loader:\n",
        "            output = model(input_seq)\n",
        "            loss = criterion(output, target_seq)\n",
        "            val_loss += loss.item()\n",
        "\n",
        "    avg_val_loss = val_loss / len(val_loader)\n",
        "    print(f'Val Loss: {avg_val_loss:.4f}')"
      ]
    },
    {
      "cell_type": "code",
      "execution_count": null,
      "metadata": {
        "id": "YJhUhS7qsUV7",
        "colab": {
          "base_uri": "https://localhost:8080/"
        },
        "outputId": "8ca39e7c-b953-49b7-86f9-1d38dd39af00"
      },
      "outputs": [
        {
          "output_type": "stream",
          "name": "stdout",
          "text": [
            "Input: DE AE, Predicted: DE\n"
          ]
        }
      ],
      "source": [
        "# Inferência\n",
        "input_text = \"DE AE\"\n",
        "inputs = tokenizer(input_text)\n",
        "\n",
        "output = model(inputs)\n",
        "predicted_token = output.argmax().unsqueeze(0)\n",
        "predicted_text = get_text_from_tensor(predicted_token)\n",
        "\n",
        "print(f'Input: {input_text}, Predicted: {predicted_text}')"
      ]
    },
    {
      "cell_type": "code",
      "execution_count": null,
      "metadata": {
        "id": "2nYfyh9PsUV7",
        "colab": {
          "base_uri": "https://localhost:8080/"
        },
        "outputId": "442ec2a4-a5fc-4dd1-aa66-19917af9ea3a"
      },
      "outputs": [
        {
          "output_type": "stream",
          "name": "stdout",
          "text": [
            "Input: AB CD, Predicted: AD CD AD CD AD\n"
          ]
        }
      ],
      "source": [
        "def generate_autoregressive_text(model, input_text, seq_len):\n",
        "    inputs = tokenizer(input_text)\n",
        "    outputs = []\n",
        "\n",
        "    for _ in range(seq_len):\n",
        "        output = model(inputs)\n",
        "        predicted_token = output.argmax().unsqueeze(0)\n",
        "        inputs = torch.cat([inputs[-1].unsqueeze(0), predicted_token])\n",
        "        outputs.append(predicted_token)\n",
        "\n",
        "    return get_text_from_tensor(outputs)\n",
        "\n",
        "input_text = \"AB CD\"\n",
        "seq_len = 5\n",
        "predicted_text = generate_autoregressive_text(model, input_text, seq_len)\n",
        "\n",
        "print(f'Input: {input_text}, Predicted: {predicted_text}')"
      ]
    }
  ],
  "metadata": {
    "kernelspec": {
      "display_name": "base",
      "language": "python",
      "name": "python3"
    },
    "language_info": {
      "codemirror_mode": {
        "name": "ipython",
        "version": 3
      },
      "file_extension": ".py",
      "mimetype": "text/x-python",
      "name": "python",
      "nbconvert_exporter": "python",
      "pygments_lexer": "ipython3",
      "version": "3.10.13"
    },
    "colab": {
      "provenance": []
    }
  },
  "nbformat": 4,
  "nbformat_minor": 0
}