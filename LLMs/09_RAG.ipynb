{
  "cells": [
    {
      "cell_type": "markdown",
      "source": [
        "Alunos:\n",
        "\n",
        "*   Andréa Fonseca\n",
        "*   Fábio Cardoso\n",
        "*   Eduardo Leite\n",
        "\n"
      ],
      "metadata": {
        "id": "T-go2lFjJOov"
      }
    },
    {
      "cell_type": "code",
      "execution_count": 1,
      "metadata": {
        "id": "DgGHzXhspC1F",
        "colab": {
          "base_uri": "https://localhost:8080/"
        },
        "outputId": "90bfe206-dd52-4fca-a188-daacd5a87a3f"
      },
      "outputs": [
        {
          "name": "stdout",
          "output_type": "stream",
          "text": [
            "··········\n"
          ]
        }
      ],
      "source": [
        "import getpass\n",
        "import os\n",
        "\n",
        "os.environ[\"OPENAI_API_KEY\"] = getpass.getpass()"
      ]
    },
    {
      "cell_type": "markdown",
      "metadata": {
        "id": "ol2epOawpC1I"
      },
      "source": [
        "## Retrieval Augmented Generation (RAG)"
      ]
    },
    {
      "cell_type": "markdown",
      "metadata": {
        "id": "qgZYtdJMpC1K"
      },
      "source": [
        "### Carregando Documentos - Loading"
      ]
    },
    {
      "cell_type": "code",
      "source": [
        "!pip install langchain_community langchain_openai faiss-gpu"
      ],
      "metadata": {
        "colab": {
          "base_uri": "https://localhost:8080/"
        },
        "id": "Iv-m8xONqJju",
        "outputId": "ac3bb547-1914-4cd1-da6f-aec8f54cd88f"
      },
      "execution_count": 2,
      "outputs": [
        {
          "output_type": "stream",
          "name": "stdout",
          "text": [
            "Collecting langchain_community\n",
            "  Downloading langchain_community-0.2.12-py3-none-any.whl.metadata (2.7 kB)\n",
            "Collecting langchain_openai\n",
            "  Downloading langchain_openai-0.1.22-py3-none-any.whl.metadata (2.6 kB)\n",
            "Collecting faiss-gpu\n",
            "  Downloading faiss_gpu-1.7.2-cp310-cp310-manylinux_2_17_x86_64.manylinux2014_x86_64.whl.metadata (1.4 kB)\n",
            "Requirement already satisfied: PyYAML>=5.3 in /usr/local/lib/python3.10/dist-packages (from langchain_community) (6.0.2)\n",
            "Requirement already satisfied: SQLAlchemy<3,>=1.4 in /usr/local/lib/python3.10/dist-packages (from langchain_community) (2.0.32)\n",
            "Requirement already satisfied: aiohttp<4.0.0,>=3.8.3 in /usr/local/lib/python3.10/dist-packages (from langchain_community) (3.10.5)\n",
            "Collecting dataclasses-json<0.7,>=0.5.7 (from langchain_community)\n",
            "  Downloading dataclasses_json-0.6.7-py3-none-any.whl.metadata (25 kB)\n",
            "Collecting langchain<0.3.0,>=0.2.13 (from langchain_community)\n",
            "  Downloading langchain-0.2.14-py3-none-any.whl.metadata (7.1 kB)\n",
            "Collecting langchain-core<0.3.0,>=0.2.30 (from langchain_community)\n",
            "  Downloading langchain_core-0.2.35-py3-none-any.whl.metadata (6.2 kB)\n",
            "Collecting langsmith<0.2.0,>=0.1.0 (from langchain_community)\n",
            "  Downloading langsmith-0.1.104-py3-none-any.whl.metadata (13 kB)\n",
            "Requirement already satisfied: numpy<2,>=1 in /usr/local/lib/python3.10/dist-packages (from langchain_community) (1.26.4)\n",
            "Requirement already satisfied: requests<3,>=2 in /usr/local/lib/python3.10/dist-packages (from langchain_community) (2.32.3)\n",
            "Collecting tenacity!=8.4.0,<9.0.0,>=8.1.0 (from langchain_community)\n",
            "  Downloading tenacity-8.5.0-py3-none-any.whl.metadata (1.2 kB)\n",
            "Collecting openai<2.0.0,>=1.40.0 (from langchain_openai)\n",
            "  Downloading openai-1.42.0-py3-none-any.whl.metadata (22 kB)\n",
            "Collecting tiktoken<1,>=0.7 (from langchain_openai)\n",
            "  Downloading tiktoken-0.7.0-cp310-cp310-manylinux_2_17_x86_64.manylinux2014_x86_64.whl.metadata (6.6 kB)\n",
            "Requirement already satisfied: aiohappyeyeballs>=2.3.0 in /usr/local/lib/python3.10/dist-packages (from aiohttp<4.0.0,>=3.8.3->langchain_community) (2.4.0)\n",
            "Requirement already satisfied: aiosignal>=1.1.2 in /usr/local/lib/python3.10/dist-packages (from aiohttp<4.0.0,>=3.8.3->langchain_community) (1.3.1)\n",
            "Requirement already satisfied: attrs>=17.3.0 in /usr/local/lib/python3.10/dist-packages (from aiohttp<4.0.0,>=3.8.3->langchain_community) (24.2.0)\n",
            "Requirement already satisfied: frozenlist>=1.1.1 in /usr/local/lib/python3.10/dist-packages (from aiohttp<4.0.0,>=3.8.3->langchain_community) (1.4.1)\n",
            "Requirement already satisfied: multidict<7.0,>=4.5 in /usr/local/lib/python3.10/dist-packages (from aiohttp<4.0.0,>=3.8.3->langchain_community) (6.0.5)\n",
            "Requirement already satisfied: yarl<2.0,>=1.0 in /usr/local/lib/python3.10/dist-packages (from aiohttp<4.0.0,>=3.8.3->langchain_community) (1.9.4)\n",
            "Requirement already satisfied: async-timeout<5.0,>=4.0 in /usr/local/lib/python3.10/dist-packages (from aiohttp<4.0.0,>=3.8.3->langchain_community) (4.0.3)\n",
            "Collecting marshmallow<4.0.0,>=3.18.0 (from dataclasses-json<0.7,>=0.5.7->langchain_community)\n",
            "  Downloading marshmallow-3.22.0-py3-none-any.whl.metadata (7.2 kB)\n",
            "Collecting typing-inspect<1,>=0.4.0 (from dataclasses-json<0.7,>=0.5.7->langchain_community)\n",
            "  Downloading typing_inspect-0.9.0-py3-none-any.whl.metadata (1.5 kB)\n",
            "Collecting langchain-text-splitters<0.3.0,>=0.2.0 (from langchain<0.3.0,>=0.2.13->langchain_community)\n",
            "  Downloading langchain_text_splitters-0.2.2-py3-none-any.whl.metadata (2.1 kB)\n",
            "Requirement already satisfied: pydantic<3,>=1 in /usr/local/lib/python3.10/dist-packages (from langchain<0.3.0,>=0.2.13->langchain_community) (2.8.2)\n",
            "Collecting jsonpatch<2.0,>=1.33 (from langchain-core<0.3.0,>=0.2.30->langchain_community)\n",
            "  Downloading jsonpatch-1.33-py2.py3-none-any.whl.metadata (3.0 kB)\n",
            "Requirement already satisfied: packaging<25,>=23.2 in /usr/local/lib/python3.10/dist-packages (from langchain-core<0.3.0,>=0.2.30->langchain_community) (24.1)\n",
            "Requirement already satisfied: typing-extensions>=4.7 in /usr/local/lib/python3.10/dist-packages (from langchain-core<0.3.0,>=0.2.30->langchain_community) (4.12.2)\n",
            "Collecting httpx<1,>=0.23.0 (from langsmith<0.2.0,>=0.1.0->langchain_community)\n",
            "  Downloading httpx-0.27.0-py3-none-any.whl.metadata (7.2 kB)\n",
            "Collecting orjson<4.0.0,>=3.9.14 (from langsmith<0.2.0,>=0.1.0->langchain_community)\n",
            "  Downloading orjson-3.10.7-cp310-cp310-manylinux_2_17_x86_64.manylinux2014_x86_64.whl.metadata (50 kB)\n",
            "\u001b[2K     \u001b[90m━━━━━━━━━━━━━━━━━━━━━━━━━━━━━━━━━━━━━━━━\u001b[0m \u001b[32m50.4/50.4 kB\u001b[0m \u001b[31m1.6 MB/s\u001b[0m eta \u001b[36m0:00:00\u001b[0m\n",
            "\u001b[?25hRequirement already satisfied: anyio<5,>=3.5.0 in /usr/local/lib/python3.10/dist-packages (from openai<2.0.0,>=1.40.0->langchain_openai) (3.7.1)\n",
            "Requirement already satisfied: distro<2,>=1.7.0 in /usr/lib/python3/dist-packages (from openai<2.0.0,>=1.40.0->langchain_openai) (1.7.0)\n",
            "Collecting jiter<1,>=0.4.0 (from openai<2.0.0,>=1.40.0->langchain_openai)\n",
            "  Downloading jiter-0.5.0-cp310-cp310-manylinux_2_17_x86_64.manylinux2014_x86_64.whl.metadata (3.6 kB)\n",
            "Requirement already satisfied: sniffio in /usr/local/lib/python3.10/dist-packages (from openai<2.0.0,>=1.40.0->langchain_openai) (1.3.1)\n",
            "Requirement already satisfied: tqdm>4 in /usr/local/lib/python3.10/dist-packages (from openai<2.0.0,>=1.40.0->langchain_openai) (4.66.5)\n",
            "Requirement already satisfied: charset-normalizer<4,>=2 in /usr/local/lib/python3.10/dist-packages (from requests<3,>=2->langchain_community) (3.3.2)\n",
            "Requirement already satisfied: idna<4,>=2.5 in /usr/local/lib/python3.10/dist-packages (from requests<3,>=2->langchain_community) (3.7)\n",
            "Requirement already satisfied: urllib3<3,>=1.21.1 in /usr/local/lib/python3.10/dist-packages (from requests<3,>=2->langchain_community) (2.0.7)\n",
            "Requirement already satisfied: certifi>=2017.4.17 in /usr/local/lib/python3.10/dist-packages (from requests<3,>=2->langchain_community) (2024.7.4)\n",
            "Requirement already satisfied: greenlet!=0.4.17 in /usr/local/lib/python3.10/dist-packages (from SQLAlchemy<3,>=1.4->langchain_community) (3.0.3)\n",
            "Requirement already satisfied: regex>=2022.1.18 in /usr/local/lib/python3.10/dist-packages (from tiktoken<1,>=0.7->langchain_openai) (2024.5.15)\n",
            "Requirement already satisfied: exceptiongroup in /usr/local/lib/python3.10/dist-packages (from anyio<5,>=3.5.0->openai<2.0.0,>=1.40.0->langchain_openai) (1.2.2)\n",
            "Collecting httpcore==1.* (from httpx<1,>=0.23.0->langsmith<0.2.0,>=0.1.0->langchain_community)\n",
            "  Downloading httpcore-1.0.5-py3-none-any.whl.metadata (20 kB)\n",
            "Collecting h11<0.15,>=0.13 (from httpcore==1.*->httpx<1,>=0.23.0->langsmith<0.2.0,>=0.1.0->langchain_community)\n",
            "  Downloading h11-0.14.0-py3-none-any.whl.metadata (8.2 kB)\n",
            "Collecting jsonpointer>=1.9 (from jsonpatch<2.0,>=1.33->langchain-core<0.3.0,>=0.2.30->langchain_community)\n",
            "  Downloading jsonpointer-3.0.0-py2.py3-none-any.whl.metadata (2.3 kB)\n",
            "Requirement already satisfied: annotated-types>=0.4.0 in /usr/local/lib/python3.10/dist-packages (from pydantic<3,>=1->langchain<0.3.0,>=0.2.13->langchain_community) (0.7.0)\n",
            "Requirement already satisfied: pydantic-core==2.20.1 in /usr/local/lib/python3.10/dist-packages (from pydantic<3,>=1->langchain<0.3.0,>=0.2.13->langchain_community) (2.20.1)\n",
            "Collecting mypy-extensions>=0.3.0 (from typing-inspect<1,>=0.4.0->dataclasses-json<0.7,>=0.5.7->langchain_community)\n",
            "  Downloading mypy_extensions-1.0.0-py3-none-any.whl.metadata (1.1 kB)\n",
            "Downloading langchain_community-0.2.12-py3-none-any.whl (2.3 MB)\n",
            "\u001b[2K   \u001b[90m━━━━━━━━━━━━━━━━━━━━━━━━━━━━━━━━━━━━━━━━\u001b[0m \u001b[32m2.3/2.3 MB\u001b[0m \u001b[31m1.3 MB/s\u001b[0m eta \u001b[36m0:00:00\u001b[0m\n",
            "\u001b[?25hDownloading langchain_openai-0.1.22-py3-none-any.whl (51 kB)\n",
            "\u001b[2K   \u001b[90m━━━━━━━━━━━━━━━━━━━━━━━━━━━━━━━━━━━━━━━━\u001b[0m \u001b[32m52.0/52.0 kB\u001b[0m \u001b[31m1.4 MB/s\u001b[0m eta \u001b[36m0:00:00\u001b[0m\n",
            "\u001b[?25hDownloading faiss_gpu-1.7.2-cp310-cp310-manylinux_2_17_x86_64.manylinux2014_x86_64.whl (85.5 MB)\n",
            "\u001b[2K   \u001b[90m━━━━━━━━━━━━━━━━━━━━━━━━━━━━━━━━━━━━━━━━\u001b[0m \u001b[32m85.5/85.5 MB\u001b[0m \u001b[31m3.5 MB/s\u001b[0m eta \u001b[36m0:00:00\u001b[0m\n",
            "\u001b[?25hDownloading dataclasses_json-0.6.7-py3-none-any.whl (28 kB)\n",
            "Downloading langchain-0.2.14-py3-none-any.whl (997 kB)\n",
            "\u001b[2K   \u001b[90m━━━━━━━━━━━━━━━━━━━━━━━━━━━━━━━━━━━━━━━━\u001b[0m \u001b[32m997.8/997.8 kB\u001b[0m \u001b[31m3.4 MB/s\u001b[0m eta \u001b[36m0:00:00\u001b[0m\n",
            "\u001b[?25hDownloading langchain_core-0.2.35-py3-none-any.whl (394 kB)\n",
            "\u001b[2K   \u001b[90m━━━━━━━━━━━━━━━━━━━━━━━━━━━━━━━━━━━━━━━━\u001b[0m \u001b[32m394.9/394.9 kB\u001b[0m \u001b[31m3.4 MB/s\u001b[0m eta \u001b[36m0:00:00\u001b[0m\n",
            "\u001b[?25hDownloading langsmith-0.1.104-py3-none-any.whl (149 kB)\n",
            "\u001b[2K   \u001b[90m━━━━━━━━━━━━━━━━━━━━━━━━━━━━━━━━━━━━━━━━\u001b[0m \u001b[32m149.1/149.1 kB\u001b[0m \u001b[31m2.6 MB/s\u001b[0m eta \u001b[36m0:00:00\u001b[0m\n",
            "\u001b[?25hDownloading openai-1.42.0-py3-none-any.whl (362 kB)\n",
            "\u001b[2K   \u001b[90m━━━━━━━━━━━━━━━━━━━━━━━━━━━━━━━━━━━━━━━━\u001b[0m \u001b[32m362.9/362.9 kB\u001b[0m \u001b[31m3.4 MB/s\u001b[0m eta \u001b[36m0:00:00\u001b[0m\n",
            "\u001b[?25hDownloading tenacity-8.5.0-py3-none-any.whl (28 kB)\n",
            "Downloading tiktoken-0.7.0-cp310-cp310-manylinux_2_17_x86_64.manylinux2014_x86_64.whl (1.1 MB)\n",
            "\u001b[2K   \u001b[90m━━━━━━━━━━━━━━━━━━━━━━━━━━━━━━━━━━━━━━━━\u001b[0m \u001b[32m1.1/1.1 MB\u001b[0m \u001b[31m3.6 MB/s\u001b[0m eta \u001b[36m0:00:00\u001b[0m\n",
            "\u001b[?25hDownloading httpx-0.27.0-py3-none-any.whl (75 kB)\n",
            "\u001b[2K   \u001b[90m━━━━━━━━━━━━━━━━━━━━━━━━━━━━━━━━━━━━━━━━\u001b[0m \u001b[32m75.6/75.6 kB\u001b[0m \u001b[31m2.8 MB/s\u001b[0m eta \u001b[36m0:00:00\u001b[0m\n",
            "\u001b[?25hDownloading httpcore-1.0.5-py3-none-any.whl (77 kB)\n",
            "\u001b[2K   \u001b[90m━━━━━━━━━━━━━━━━━━━━━━━━━━━━━━━━━━━━━━━━\u001b[0m \u001b[32m77.9/77.9 kB\u001b[0m \u001b[31m2.7 MB/s\u001b[0m eta \u001b[36m0:00:00\u001b[0m\n",
            "\u001b[?25hDownloading jiter-0.5.0-cp310-cp310-manylinux_2_17_x86_64.manylinux2014_x86_64.whl (318 kB)\n",
            "\u001b[2K   \u001b[90m━━━━━━━━━━━━━━━━━━━━━━━━━━━━━━━━━━━━━━━━\u001b[0m \u001b[32m318.9/318.9 kB\u001b[0m \u001b[31m3.2 MB/s\u001b[0m eta \u001b[36m0:00:00\u001b[0m\n",
            "\u001b[?25hDownloading jsonpatch-1.33-py2.py3-none-any.whl (12 kB)\n",
            "Downloading langchain_text_splitters-0.2.2-py3-none-any.whl (25 kB)\n",
            "Downloading marshmallow-3.22.0-py3-none-any.whl (49 kB)\n",
            "\u001b[2K   \u001b[90m━━━━━━━━━━━━━━━━━━━━━━━━━━━━━━━━━━━━━━━━\u001b[0m \u001b[32m49.3/49.3 kB\u001b[0m \u001b[31m2.0 MB/s\u001b[0m eta \u001b[36m0:00:00\u001b[0m\n",
            "\u001b[?25hDownloading orjson-3.10.7-cp310-cp310-manylinux_2_17_x86_64.manylinux2014_x86_64.whl (141 kB)\n",
            "\u001b[2K   \u001b[90m━━━━━━━━━━━━━━━━━━━━━━━━━━━━━━━━━━━━━━━━\u001b[0m \u001b[32m141.9/141.9 kB\u001b[0m \u001b[31m3.3 MB/s\u001b[0m eta \u001b[36m0:00:00\u001b[0m\n",
            "\u001b[?25hDownloading typing_inspect-0.9.0-py3-none-any.whl (8.8 kB)\n",
            "Downloading jsonpointer-3.0.0-py2.py3-none-any.whl (7.6 kB)\n",
            "Downloading mypy_extensions-1.0.0-py3-none-any.whl (4.7 kB)\n",
            "Downloading h11-0.14.0-py3-none-any.whl (58 kB)\n",
            "\u001b[2K   \u001b[90m━━━━━━━━━━━━━━━━━━━━━━━━━━━━━━━━━━━━━━━━\u001b[0m \u001b[32m58.3/58.3 kB\u001b[0m \u001b[31m2.2 MB/s\u001b[0m eta \u001b[36m0:00:00\u001b[0m\n",
            "\u001b[?25hInstalling collected packages: faiss-gpu, tenacity, orjson, mypy-extensions, marshmallow, jsonpointer, jiter, h11, typing-inspect, tiktoken, jsonpatch, httpcore, httpx, dataclasses-json, openai, langsmith, langchain-core, langchain-text-splitters, langchain_openai, langchain, langchain_community\n",
            "  Attempting uninstall: tenacity\n",
            "    Found existing installation: tenacity 9.0.0\n",
            "    Uninstalling tenacity-9.0.0:\n",
            "      Successfully uninstalled tenacity-9.0.0\n",
            "Successfully installed dataclasses-json-0.6.7 faiss-gpu-1.7.2 h11-0.14.0 httpcore-1.0.5 httpx-0.27.0 jiter-0.5.0 jsonpatch-1.33 jsonpointer-3.0.0 langchain-0.2.14 langchain-core-0.2.35 langchain-text-splitters-0.2.2 langchain_community-0.2.12 langchain_openai-0.1.22 langsmith-0.1.104 marshmallow-3.22.0 mypy-extensions-1.0.0 openai-1.42.0 orjson-3.10.7 tenacity-8.5.0 tiktoken-0.7.0 typing-inspect-0.9.0\n"
          ]
        }
      ]
    },
    {
      "cell_type": "code",
      "execution_count": 3,
      "metadata": {
        "id": "vluu5quDpC1L",
        "colab": {
          "base_uri": "https://localhost:8080/"
        },
        "outputId": "6f766626-e666-4bfa-b9a6-532c5343bd91"
      },
      "outputs": [
        {
          "output_type": "stream",
          "name": "stderr",
          "text": [
            "WARNING:langchain_community.utils.user_agent:USER_AGENT environment variable not set, consider setting it to identify your requests.\n"
          ]
        },
        {
          "output_type": "execute_result",
          "data": {
            "text/plain": [
              "6915"
            ]
          },
          "metadata": {},
          "execution_count": 3
        }
      ],
      "source": [
        "# https://python.langchain.com/v0.2/docs/how_to/#document-loaders\n",
        "# https://python.langchain.com/v0.2/docs/integrations/document_loaders/\n",
        "\n",
        "import bs4\n",
        "from langchain_community.document_loaders import WebBaseLoader\n",
        "\n",
        "# Filtra o conteúdo da página por uma classe específica\n",
        "bs4_strainer = bs4.SoupStrainer(class_=(\"mw-body-content\"))\n",
        "\n",
        "# Carrega o conteúdo da página\n",
        "loader = WebBaseLoader(\n",
        "    web_paths=(\"https://pt.wikipedia.org/wiki/Centro_de_Estudos_e_Sistemas_Avan%C3%A7ados_do_Recife\",),\n",
        "    bs_kwargs={\"parse_only\": bs4_strainer},\n",
        ")\n",
        "\n",
        "# Carrega o conteúdo da página\n",
        "docs = loader.load()\n",
        "\n",
        "len(docs[0].page_content)"
      ]
    },
    {
      "cell_type": "code",
      "source": [
        "docs"
      ],
      "metadata": {
        "collapsed": true,
        "colab": {
          "base_uri": "https://localhost:8080/"
        },
        "id": "CyGpBmPbyV8e",
        "outputId": "eab78d30-d93d-4232-8184-b6cc8ab8dfd3"
      },
      "execution_count": 4,
      "outputs": [
        {
          "output_type": "execute_result",
          "data": {
            "text/plain": [
              "[Document(metadata={'source': 'https://pt.wikipedia.org/wiki/Centro_de_Estudos_e_Sistemas_Avan%C3%A7ados_do_Recife'}, page_content='\\nCentro de Estudos e Sistemas Avançados do Recife(CESAR)\\n\\n\\nCentro de Estudos e Sistemas Avançados do Recife\\n\\n\\nCentro de Estudos e Sistemas Avançados do Recife\\n\\n\\nTipo\\n\\nInstituto de pesquisa sem fins lucrativos\\n\\n\\nFundação\\n\\n20 de maio de 1996 (28\\xa0anos)\\n\\n\\nSede\\n\\nRecife, PE\\n\\n\\nFundadores\\n\\nSilvio Meira, Fábio Silva e Ismar Kaufman\\n\\n\\nOrganização\\n\\nEduardo Peixoto (CEO)\\nKarla Godoy (COO)\\n\\n\\n\\nEmpregados\\n\\n600+ (2019) [1]\\n\\n\\nSítio oficial\\n\\nhttp://www.cesar.org.br\\n\\n\\nO Centro de Estudos e Sistemas Avançados do Recife, também conhecido por seu acrônimo CESAR, é um centro de pesquisa e inovação sem fins lucrativos com sede na cidade do Recife, Pernambuco e filiais em Sorocaba, Curitiba e Manaus.[1] O CESAR foi fundado em 1996 por três professores do Centro de Informática da UFPE, Silvio Meira, Fábio Silva e Ismar Kaufman, como forma de aproximar a academia do mercado.[2]\\nEm 2019, o centro conta com mais de 600 funcionários e em 2018 seu faturamento foi da ordem de R$ 100 milhões.[1][3][4][5]\\nO CESAR é parte integrante e instituição âncora do Porto Digital, um dos maiores parques tecnológicos do Brasil também sediado em Recife.[6]\\nEm 2010 o instituto ganhou o prêmio Finep de Inovação na categoria de melhor instituição brasileira de ciência e tecnologia.[7]\\n\\n\\nÁrea Educacional[editar | editar código-fonte]\\nAlém de atuar como centro de pesquisa e inovação, o CESAR criou um braço educacional, a CESAR School, oferecendo cursos de graduação, mestrados e doutorados profissionais.[4]\\nO centro iniciou sua atuação na área educacional em 2007 quando iniciou a oferta do mestrado profissional em Engenharia de Software, que foi avaliado pela CAPES em 2017 como um dos dois melhores mestrados profissionais na área de computação do país.[8] Em 2013 foi autorizada a abertura do segundo mestrado profissional, dessa vez com ênfase em Design de Artefatos Digitais.[9] A partir de 2016 o mestrado em Design passou a também ser oferecido na unidade de Manaus.[10]\\nEm 2016 o Ministério da Educação autorizou o CESAR a ofertar cursos de graduação[11] e começaram a ser ofertados os cursos de Ciência da Computação e Design, com  abertura da primeira turma no primeiro semestre de 2018.[12] A unidade de ensino superior usa a metodologia de aprendizagem baseada em problemas, que permite o contato com demandas reais da sociedade desde os primeiros dias do curso.[13]\\nEm 2019 o CESAR se tornou a primeira instituição do país a oferecer um curso de doutorado na modalidade profissional na área de engenharia de software.[4][14]\\n\\n\\n\\nCurso/Programa\\n\\nCidade\\n\\nref\\n\\n\\nGraduação\\n\\n\\nCiência da Computação\\n\\nRecife\\n\\n[11]\\n\\n\\nDesign\\n\\nRecife\\n\\n[11]\\n\\n\\nMestrado Profissional\\n\\n\\nEngenharia de Software\\n\\nRecife e Manaus\\n\\n[8][15]\\n\\n\\nDesign de Artefatos Digitais\\n\\nRecife e Manaus\\n\\n[16][15]\\n\\n\\nDoutorado Profissional\\n\\n\\nEngenharia de Software\\n\\nRecife\\n\\n[4][14]\\n\\nEmpreendedorismo e CESAR.labs[editar | editar código-fonte]\\nO instituto mantém uma incubadora de empresas e uma aceleradora, chamada CESAR.labs.[17] O CESAR.labs é uma das aceleradoras parceiras do programa do governo federal Start-up Brasil,[18] tendo acelerado através desse programa 12 empresas.[19] A aceleradora abre chamadas anualmente, investindo até R$ 200 mil por startup.[20] No total, o CESAR já contribuiu para a criação de mais de 50 novas empresas.[3]\\n\\nEmpresas incubadas e aceleradas de destaque:\\n\\nTempest Security Intelligence[21][22]\\nNeuroUp[23]\\nFusionTrak[24]\\nPitang[25]\\nRadix.com[26]\\nUnidades e Subsidiárias[editar | editar código-fonte]\\nO CESAR possui quatro unidades, sendo sua sede no Recife e três filiais em Manaus, Curitiba e Sorocaba.[27]\\nAlém das filiais, o instituto controla duas subsidiárias. O fundo de participação em empresas CESAR.PAR e a desenvolvedora de projetos de software Pitang.[25]\\n\\nVer também[editar | editar código-fonte]\\nPorto Digital\\nCentro de Informática da Universidade Federal de Pernambuco\\nEconomia do Recife\\nLigações externas[editar | editar código-fonte]\\nPágina oficial do CESAR\\nPágina oficial da CESAR School\\nPágina oficial do CESAR.labs\\nReferências\\n\\n↑ a b c «Cesar chega aos 21  anos com novos planos  | Economia | Diario de Pernambuco - O mais antigo jornal em circulação na América Latina». www.impresso.diariodepernambuco.com.br. Consultado em 6 de outubro de 2017\\xa0\\n\\n↑ «Recife é tech. Tudo começou com 3 professores no Cesar | EXAME.com - Negócios, economia, tecnologia e carreira». exame.abril.com.br. Consultado em 13 de maio de 2017\\xa0\\n\\n↑ a b «Receita de mula sem cabeça». Valor Econômico\\xa0\\n\\n↑ a b c d «CESAR multiplica o conhecimento». www.impresso.diariodepernambuco.com.br. Consultado em 16 de maio de 2018\\xa0\\n\\n↑ «Cesar inaugura novo laboratório de inovação aberta». Computerworld. 27 de março de 2019. Consultado em 31 de março de 2019\\xa0\\n\\n↑ «Inovação com sotaque pernambucano». Gazeta do Povo\\xa0\\n\\n↑ «Premiados - Prêmio Finep». premio.finep.gov.br. Consultado em 13 de maio de 2017\\xa0\\n\\n↑ a b «CIENCIA DA COMPUTAÇÃO_Relatorio_pos CTC 173.pdf». docs.google.com. Consultado em 6 de outubro de 2017\\xa0\\n\\n↑ «Quem | CESAR». www.cesar.org.br. Consultado em 13 de maio de 2017\\xa0\\n\\n↑ LeiaJá. «Cesar abre mestrado profissional em design». www.leiaja.com. Consultado em 13 de maio de 2017\\xa0\\n\\n↑ a b c «Mendonça Filho autoriza funcionamento da Faculdade Cesar»\\xa0\\n\\n↑ Pernambuco, Diario de (18 de julho de 2016). «Faculdade do Cesar começa aulas em 2018». Diario de Pernambuco\\xa0\\n\\n↑ «You are being redirected...». folhape.com.br. Consultado em 20 de outubro de 2017\\xa0\\n\\n↑ a b releases, Press. «CESAR School terá primeiro doutorado profissional do País em Engenharia de Software». Consultado em 11 de julho de 2019\\xa0\\n\\n↑ a b «MESTRADO». CESAR School. 27 de outubro de 2017. Consultado em 11 de julho de 2019\\xa0\\n\\n↑ «ARQUITETURA_Relatório_pós CTC 173.pdf». docs.google.com. Consultado em 6 de outubro de 2017\\xa0\\n\\n↑ «Aceleradas do CESAR.LABS são graduadas - ANPEI». ANPEI. 14 de dezembro de 2016\\xa0\\n\\n↑ «Conheça o C.E.S.A.R Labs, nova aceleradora do Startup Brasil». Startupi. 27 de fevereiro de 2014\\xa0\\n\\n↑ «StartupBrasil \\xa0» Blog Archive  \\xa0» C.E.S.A.R Labs». StartupBrasil\\xa0\\n\\n↑ «CESAR abre inscrições para atrair startups». Convergência Digital\\xa0\\n\\n↑ «Tempest Security Intelligence: aporte de R$ 28 mi do Fundo Aeroespacial - Tecnosense». Tecnosense. 15 de abril de 2016\\xa0\\n\\n↑ «Empresa de TI pernambucana recebe aporte e abre vagas». www.diariodepernambuco.com.br. Consultado em 13 de maio de 2017\\xa0\\n\\n↑ «Startups de Pernambuco ganham espaço no mercado». www.diariodepernambuco.com.br. Consultado em 13 de maio de 2017\\xa0\\n\\n↑ «A criação que sai do papel e vira inovação». Valor Econômico\\xa0\\n\\n↑ a b «Veja a TI no ranking das 250 da Exame | Notícias | Baguete». www.baguete.com.br. Consultado em 13 de maio de 2017\\xa0\\n\\n↑ «Grupo Radix equilibra suas contas em dois meses». COMPUTERWORLD. 11 de julho de 2001\\xa0\\n\\n↑ «Contato | CESAR». cesar.org.br. Consultado em 13 de maio de 2017\\xa0\\n\\n\\n\\n\\n\\n\\nObtida de \"https://pt.wikipedia.org/w/index.php?title=Centro_de_Estudos_e_Sistemas_Avançados_do_Recife&oldid=63666567\"')]"
            ]
          },
          "metadata": {},
          "execution_count": 4
        }
      ]
    },
    {
      "cell_type": "code",
      "execution_count": 5,
      "metadata": {
        "id": "88FaxPF_pC1M",
        "colab": {
          "base_uri": "https://localhost:8080/"
        },
        "outputId": "f45cca36-2b7f-4793-872d-8d204ce4803e"
      },
      "outputs": [
        {
          "output_type": "stream",
          "name": "stdout",
          "text": [
            "cife, também conhecido por seu acrônimo CESAR, é um centro de pesquisa e inovação sem fins lucrativos com sede na cidade do Recife, Pernambuco e filiais em Sorocaba, Curitiba e Manaus.[1] O CESAR foi fundado em 1996 por três professores do Centro de Informática da UFPE, Silvio Meira, Fábio Silva e Ismar Kaufman, como forma de aproximar a academia do mercado.[2]\n",
            "Em 2019, o centro conta com mais de 600 funcionários e em 2018 seu faturamento foi da ordem de R$ 100 milhões.[1][3][4][5]\n",
            "O CESAR é par\n"
          ]
        }
      ],
      "source": [
        "print(docs[0].page_content[500:1000])"
      ]
    },
    {
      "cell_type": "markdown",
      "metadata": {
        "id": "UXjYacIkpC1N"
      },
      "source": [
        "### Dividindo Documentos - Splitting/Chunking"
      ]
    },
    {
      "cell_type": "code",
      "execution_count": 6,
      "metadata": {
        "id": "KebXxkSbpC1N",
        "colab": {
          "base_uri": "https://localhost:8080/"
        },
        "outputId": "eee95080-cacc-4bab-af84-835b1fabcdc1"
      },
      "outputs": [
        {
          "output_type": "execute_result",
          "data": {
            "text/plain": [
              "10"
            ]
          },
          "metadata": {},
          "execution_count": 6
        }
      ],
      "source": [
        "# https://python.langchain.com/v0.2/docs/how_to/#text-splitters\n",
        "\n",
        "from langchain_text_splitters import RecursiveCharacterTextSplitter\n",
        "\n",
        "text_splitter = RecursiveCharacterTextSplitter(\n",
        "    chunk_size=1000, chunk_overlap=200, add_start_index=True\n",
        ")\n",
        "all_splits = text_splitter.split_documents(docs)\n",
        "\n",
        "len(all_splits)"
      ]
    },
    {
      "cell_type": "code",
      "source": [
        "all_splits"
      ],
      "metadata": {
        "colab": {
          "base_uri": "https://localhost:8080/"
        },
        "collapsed": true,
        "id": "XeemnDrVyeJQ",
        "outputId": "f7266b5a-b4e4-47b7-c787-e7a7c7e95f50"
      },
      "execution_count": 7,
      "outputs": [
        {
          "output_type": "execute_result",
          "data": {
            "text/plain": [
              "[Document(metadata={'source': 'https://pt.wikipedia.org/wiki/Centro_de_Estudos_e_Sistemas_Avan%C3%A7ados_do_Recife', 'start_index': 1}, page_content='Centro de Estudos e Sistemas Avançados do Recife(CESAR)\\n\\n\\nCentro de Estudos e Sistemas Avançados do Recife\\n\\n\\nCentro de Estudos e Sistemas Avançados do Recife\\n\\n\\nTipo\\n\\nInstituto de pesquisa sem fins lucrativos\\n\\n\\nFundação\\n\\n20 de maio de 1996 (28\\xa0anos)\\n\\n\\nSede\\n\\nRecife, PE\\n\\n\\nFundadores\\n\\nSilvio Meira, Fábio Silva e Ismar Kaufman\\n\\n\\nOrganização\\n\\nEduardo Peixoto (CEO)\\nKarla Godoy (COO)\\n\\n\\n\\nEmpregados\\n\\n600+ (2019) [1]\\n\\n\\nSítio oficial\\n\\nhttp://www.cesar.org.br'),\n",
              " Document(metadata={'source': 'https://pt.wikipedia.org/wiki/Centro_de_Estudos_e_Sistemas_Avan%C3%A7ados_do_Recife', 'start_index': 258}, page_content='Recife, PE\\n\\n\\nFundadores\\n\\nSilvio Meira, Fábio Silva e Ismar Kaufman\\n\\n\\nOrganização\\n\\nEduardo Peixoto (CEO)\\nKarla Godoy (COO)\\n\\n\\n\\nEmpregados\\n\\n600+ (2019) [1]\\n\\n\\nSítio oficial\\n\\nhttp://www.cesar.org.br\\n\\n\\nO Centro de Estudos e Sistemas Avançados do Recife, também conhecido por seu acrônimo CESAR, é um centro de pesquisa e inovação sem fins lucrativos com sede na cidade do Recife, Pernambuco e filiais em Sorocaba, Curitiba e Manaus.[1] O CESAR foi fundado em 1996 por três professores do Centro de Informática da UFPE, Silvio Meira, Fábio Silva e Ismar Kaufman, como forma de aproximar a academia do mercado.[2]\\nEm 2019, o centro conta com mais de 600 funcionários e em 2018 seu faturamento foi da ordem de R$ 100 milhões.[1][3][4][5]\\nO CESAR é parte integrante e instituição âncora do Porto Digital, um dos maiores parques tecnológicos do Brasil também sediado em Recife.[6]\\nEm 2010 o instituto ganhou o prêmio Finep de Inovação na categoria de melhor instituição brasileira de ciência e tecnologia.[7]'),\n",
              " Document(metadata={'source': 'https://pt.wikipedia.org/wiki/Centro_de_Estudos_e_Sistemas_Avan%C3%A7ados_do_Recife', 'start_index': 1258}, page_content='Área Educacional[editar | editar código-fonte]\\nAlém de atuar como centro de pesquisa e inovação, o CESAR criou um braço educacional, a CESAR School, oferecendo cursos de graduação, mestrados e doutorados profissionais.[4]\\nO centro iniciou sua atuação na área educacional em 2007 quando iniciou a oferta do mestrado profissional em Engenharia de Software, que foi avaliado pela CAPES em 2017 como um dos dois melhores mestrados profissionais na área de computação do país.[8] Em 2013 foi autorizada a abertura do segundo mestrado profissional, dessa vez com ênfase em Design de Artefatos Digitais.[9] A partir de 2016 o mestrado em Design passou a também ser oferecido na unidade de Manaus.[10]'),\n",
              " Document(metadata={'source': 'https://pt.wikipedia.org/wiki/Centro_de_Estudos_e_Sistemas_Avan%C3%A7ados_do_Recife', 'start_index': 1952}, page_content='Em 2016 o Ministério da Educação autorizou o CESAR a ofertar cursos de graduação[11] e começaram a ser ofertados os cursos de Ciência da Computação e Design, com  abertura da primeira turma no primeiro semestre de 2018.[12] A unidade de ensino superior usa a metodologia de aprendizagem baseada em problemas, que permite o contato com demandas reais da sociedade desde os primeiros dias do curso.[13]\\nEm 2019 o CESAR se tornou a primeira instituição do país a oferecer um curso de doutorado na modalidade profissional na área de engenharia de software.[4][14]'),\n",
              " Document(metadata={'source': 'https://pt.wikipedia.org/wiki/Centro_de_Estudos_e_Sistemas_Avan%C3%A7ados_do_Recife', 'start_index': 2515}, page_content='Curso/Programa\\n\\nCidade\\n\\nref\\n\\n\\nGraduação\\n\\n\\nCiência da Computação\\n\\nRecife\\n\\n[11]\\n\\n\\nDesign\\n\\nRecife\\n\\n[11]\\n\\n\\nMestrado Profissional\\n\\n\\nEngenharia de Software\\n\\nRecife e Manaus\\n\\n[8][15]\\n\\n\\nDesign de Artefatos Digitais\\n\\nRecife e Manaus\\n\\n[16][15]\\n\\n\\nDoutorado Profissional\\n\\n\\nEngenharia de Software\\n\\nRecife\\n\\n[4][14]\\n\\nEmpreendedorismo e CESAR.labs[editar | editar código-fonte]\\nO instituto mantém uma incubadora de empresas e uma aceleradora, chamada CESAR.labs.[17] O CESAR.labs é uma das aceleradoras parceiras do programa do governo federal Start-up Brasil,[18] tendo acelerado através desse programa 12 empresas.[19] A aceleradora abre chamadas anualmente, investindo até R$ 200 mil por startup.[20] No total, o CESAR já contribuiu para a criação de mais de 50 novas empresas.[3]\\n\\nEmpresas incubadas e aceleradas de destaque:'),\n",
              " Document(metadata={'source': 'https://pt.wikipedia.org/wiki/Centro_de_Estudos_e_Sistemas_Avan%C3%A7ados_do_Recife', 'start_index': 3284}, page_content='Empresas incubadas e aceleradas de destaque:\\n\\nTempest Security Intelligence[21][22]\\nNeuroUp[23]\\nFusionTrak[24]\\nPitang[25]\\nRadix.com[26]\\nUnidades e Subsidiárias[editar | editar código-fonte]\\nO CESAR possui quatro unidades, sendo sua sede no Recife e três filiais em Manaus, Curitiba e Sorocaba.[27]\\nAlém das filiais, o instituto controla duas subsidiárias. O fundo de participação em empresas CESAR.PAR e a desenvolvedora de projetos de software Pitang.[25]\\n\\nVer também[editar | editar código-fonte]\\nPorto Digital\\nCentro de Informática da Universidade Federal de Pernambuco\\nEconomia do Recife\\nLigações externas[editar | editar código-fonte]\\nPágina oficial do CESAR\\nPágina oficial da CESAR School\\nPágina oficial do CESAR.labs\\nReferências\\n\\n↑ a b c «Cesar chega aos 21  anos com novos planos  | Economia | Diario de Pernambuco - O mais antigo jornal em circulação na América Latina». www.impresso.diariodepernambuco.com.br. Consultado em 6 de outubro de 2017'),\n",
              " Document(metadata={'source': 'https://pt.wikipedia.org/wiki/Centro_de_Estudos_e_Sistemas_Avan%C3%A7ados_do_Recife', 'start_index': 4241}, page_content='↑ «Recife é tech. Tudo começou com 3 professores no Cesar | EXAME.com - Negócios, economia, tecnologia e carreira». exame.abril.com.br. Consultado em 13 de maio de 2017\\xa0\\n\\n↑ a b «Receita de mula sem cabeça». Valor Econômico\\xa0\\n\\n↑ a b c d «CESAR multiplica o conhecimento». www.impresso.diariodepernambuco.com.br. Consultado em 16 de maio de 2018\\xa0\\n\\n↑ «Cesar inaugura novo laboratório de inovação aberta». Computerworld. 27 de março de 2019. Consultado em 31 de março de 2019\\xa0\\n\\n↑ «Inovação com sotaque pernambucano». Gazeta do Povo\\xa0\\n\\n↑ «Premiados - Prêmio Finep». premio.finep.gov.br. Consultado em 13 de maio de 2017\\xa0\\n\\n↑ a b «CIENCIA DA COMPUTAÇÃO_Relatorio_pos CTC 173.pdf». docs.google.com. Consultado em 6 de outubro de 2017\\xa0\\n\\n↑ «Quem | CESAR». www.cesar.org.br. Consultado em 13 de maio de 2017\\xa0\\n\\n↑ LeiaJá. «Cesar abre mestrado profissional em design». www.leiaja.com. Consultado em 13 de maio de 2017\\xa0\\n\\n↑ a b c «Mendonça Filho autoriza funcionamento da Faculdade Cesar»'),\n",
              " Document(metadata={'source': 'https://pt.wikipedia.org/wiki/Centro_de_Estudos_e_Sistemas_Avan%C3%A7ados_do_Recife', 'start_index': 5038}, page_content='↑ LeiaJá. «Cesar abre mestrado profissional em design». www.leiaja.com. Consultado em 13 de maio de 2017\\xa0\\n\\n↑ a b c «Mendonça Filho autoriza funcionamento da Faculdade Cesar»\\xa0\\n\\n↑ Pernambuco, Diario de (18 de julho de 2016). «Faculdade do Cesar começa aulas em 2018». Diario de Pernambuco\\xa0\\n\\n↑ «You are being redirected...». folhape.com.br. Consultado em 20 de outubro de 2017\\xa0\\n\\n↑ a b releases, Press. «CESAR School terá primeiro doutorado profissional do País em Engenharia de Software». Consultado em 11 de julho de 2019\\xa0\\n\\n↑ a b «MESTRADO». CESAR School. 27 de outubro de 2017. Consultado em 11 de julho de 2019\\xa0\\n\\n↑ «ARQUITETURA_Relatório_pós CTC 173.pdf». docs.google.com. Consultado em 6 de outubro de 2017\\xa0\\n\\n↑ «Aceleradas do CESAR.LABS são graduadas - ANPEI». ANPEI. 14 de dezembro de 2016\\xa0\\n\\n↑ «Conheça o C.E.S.A.R Labs, nova aceleradora do Startup Brasil». Startupi. 27 de fevereiro de 2014\\xa0\\n\\n↑ «StartupBrasil \\xa0» Blog Archive  \\xa0» C.E.S.A.R Labs». StartupBrasil'),\n",
              " Document(metadata={'source': 'https://pt.wikipedia.org/wiki/Centro_de_Estudos_e_Sistemas_Avan%C3%A7ados_do_Recife', 'start_index': 5832}, page_content='↑ «Conheça o C.E.S.A.R Labs, nova aceleradora do Startup Brasil». Startupi. 27 de fevereiro de 2014\\xa0\\n\\n↑ «StartupBrasil \\xa0» Blog Archive  \\xa0» C.E.S.A.R Labs». StartupBrasil\\xa0\\n\\n↑ «CESAR abre inscrições para atrair startups». Convergência Digital\\xa0\\n\\n↑ «Tempest Security Intelligence: aporte de R$ 28 mi do Fundo Aeroespacial - Tecnosense». Tecnosense. 15 de abril de 2016\\xa0\\n\\n↑ «Empresa de TI pernambucana recebe aporte e abre vagas». www.diariodepernambuco.com.br. Consultado em 13 de maio de 2017\\xa0\\n\\n↑ «Startups de Pernambuco ganham espaço no mercado». www.diariodepernambuco.com.br. Consultado em 13 de maio de 2017\\xa0\\n\\n↑ «A criação que sai do papel e vira inovação». Valor Econômico\\xa0\\n\\n↑ a b «Veja a TI no ranking das 250 da Exame | Notícias | Baguete». www.baguete.com.br. Consultado em 13 de maio de 2017\\xa0\\n\\n↑ «Grupo Radix equilibra suas contas em dois meses». COMPUTERWORLD. 11 de julho de 2001\\xa0\\n\\n↑ «Contato | CESAR». cesar.org.br. Consultado em 13 de maio de 2017'),\n",
              " Document(metadata={'source': 'https://pt.wikipedia.org/wiki/Centro_de_Estudos_e_Sistemas_Avan%C3%A7ados_do_Recife', 'start_index': 6632}, page_content='↑ «Grupo Radix equilibra suas contas em dois meses». COMPUTERWORLD. 11 de julho de 2001\\xa0\\n\\n↑ «Contato | CESAR». cesar.org.br. Consultado em 13 de maio de 2017\\xa0\\n\\n\\n\\n\\n\\n\\nObtida de \"https://pt.wikipedia.org/w/index.php?title=Centro_de_Estudos_e_Sistemas_Avançados_do_Recife&oldid=63666567\"')]"
            ]
          },
          "metadata": {},
          "execution_count": 7
        }
      ]
    },
    {
      "cell_type": "code",
      "execution_count": 8,
      "metadata": {
        "id": "SWAd2Je5pC1O",
        "colab": {
          "base_uri": "https://localhost:8080/"
        },
        "outputId": "dd5f41cd-d4b6-45be-ca14-213b39f1b853"
      },
      "outputs": [
        {
          "output_type": "stream",
          "name": "stdout",
          "text": [
            "Área Educacional[editar | editar código-fonte]\n",
            "Além de atuar como centro de pesquisa e inovação, o CESAR criou um braço educacional, a CESAR School, oferecendo cursos de graduação, mestrados e doutorados profissionais.[4]\n",
            "O centro iniciou sua atuação na área educacional em 2007 quando iniciou a oferta do mestrado profissional em Engenharia de Software, que foi avaliado pela CAPES em 2017 como um dos dois melhores mestrados profissionais na área de computação do país.[8] Em 2013 foi autorizada a abertura do segundo mestrado profissional, dessa vez com ênfase em Design de Artefatos Digitais.[9] A partir de 2016 o mestrado em Design passou a também ser oferecido na unidade de Manaus.[10]\n"
          ]
        }
      ],
      "source": [
        "print(all_splits[2].page_content)"
      ]
    },
    {
      "cell_type": "markdown",
      "metadata": {
        "id": "FkgENyaZpC1O"
      },
      "source": [
        "### Indexando - Store"
      ]
    },
    {
      "cell_type": "code",
      "execution_count": 9,
      "metadata": {
        "id": "hKgM27mHpC1O"
      },
      "outputs": [],
      "source": [
        "# https://python.langchain.com/v0.2/docs/how_to/embed_text/\n",
        "\n",
        "from langchain_community.vectorstores import FAISS\n",
        "from langchain_openai import OpenAIEmbeddings\n",
        "\n",
        "vectorstore = FAISS.from_documents(all_splits, OpenAIEmbeddings())"
      ]
    },
    {
      "cell_type": "code",
      "execution_count": 10,
      "metadata": {
        "id": "JNcl3MhjpC1P",
        "colab": {
          "base_uri": "https://localhost:8080/"
        },
        "outputId": "d4b0d689-4c7b-454e-fe92-30c71b88ddf6"
      },
      "outputs": [
        {
          "output_type": "execute_result",
          "data": {
            "text/plain": [
              "6"
            ]
          },
          "metadata": {},
          "execution_count": 10
        }
      ],
      "source": [
        "retriever = vectorstore.as_retriever(search_type=\"similarity\", search_kwargs={\"k\": 6})\n",
        "\n",
        "retrieved_docs = retriever.invoke(\"Onde está localizado o CESAR?\")\n",
        "\n",
        "len(retrieved_docs)"
      ]
    },
    {
      "cell_type": "code",
      "execution_count": 11,
      "metadata": {
        "id": "Oh6xJc4kpC1Q",
        "colab": {
          "base_uri": "https://localhost:8080/"
        },
        "outputId": "2702f7d3-b196-48b2-b733-789232bc23e2"
      },
      "outputs": [
        {
          "output_type": "stream",
          "name": "stdout",
          "text": [
            "Em 2016 o Ministério da Educação autorizou o CESAR a ofertar cursos de graduação[11] e começaram a ser ofertados os cursos de Ciência da Computação e Design, com  abertura da primeira turma no primeiro semestre de 2018.[12] A unidade de ensino superior usa a metodologia de aprendizagem baseada em problemas, que permite o contato com demandas reais da sociedade desde os primeiros dias do curso.[13]\n",
            "Em 2019 o CESAR se tornou a primeira instituição do país a oferecer um curso de doutorado na modalidade profissional na área de engenharia de software.[4][14]\n"
          ]
        }
      ],
      "source": [
        "print(retrieved_docs[3].page_content)"
      ]
    },
    {
      "cell_type": "markdown",
      "metadata": {
        "id": "mwiBXMf2pC1Q"
      },
      "source": [
        "### Buscando e Recuperando Informações - Retrieve"
      ]
    },
    {
      "cell_type": "code",
      "execution_count": 12,
      "metadata": {
        "id": "G-QuQB-KpC1Q"
      },
      "outputs": [],
      "source": [
        "from langchain_core.prompts import ChatPromptTemplate\n",
        "\n",
        "system_template = \"\"\"Você é um assistente para tarefas de perguntas e respostas. Use os seguintes trechos de contexto recuperados para responder à pergunta. Se você não souber a resposta, apenas diga que não sabe. Use no máximo duas frases e mantenha a resposta concisa e fale apenas o necessário.\n",
        "\n",
        "Pergunta: {question}\n",
        "\n",
        "Contexto: {context}\n",
        "\n",
        "Resposta:\n",
        "\"\"\"\n",
        "\n",
        "prompt_template = ChatPromptTemplate.from_template(system_template)"
      ]
    },
    {
      "cell_type": "code",
      "execution_count": 13,
      "metadata": {
        "id": "NExqTyl6pC1R",
        "colab": {
          "base_uri": "https://localhost:8080/"
        },
        "outputId": "287a8e3b-33b7-4ff2-d9bd-e0bbfd17e459"
      },
      "outputs": [
        {
          "output_type": "stream",
          "name": "stdout",
          "text": [
            "[HumanMessage(content='Você é um assistente para tarefas de perguntas e respostas. Use os seguintes trechos de contexto recuperados para responder à pergunta. Se você não souber a resposta, apenas diga que não sabe. Use no máximo duas frases e mantenha a resposta concisa e fale apenas o necessário.\\n\\nPergunta: alguma pergunta\\n\\nContexto: algum contexto\\n\\nResposta:\\n')]\n"
          ]
        }
      ],
      "source": [
        "example_messages = prompt_template.invoke({\n",
        "    \"context\": \"algum contexto\",\n",
        "    \"question\": \"alguma pergunta\"\n",
        "})\n",
        "\n",
        "print(example_messages.to_messages())"
      ]
    },
    {
      "cell_type": "markdown",
      "metadata": {
        "id": "vqy5ftGbpC1R"
      },
      "source": [
        "### Gerando Respostas - Generate"
      ]
    },
    {
      "cell_type": "code",
      "execution_count": 14,
      "metadata": {
        "id": "hwEGbQLepC1S"
      },
      "outputs": [],
      "source": [
        "from langchain_openai import ChatOpenAI\n",
        "\n",
        "llm = ChatOpenAI(model=\"gpt-4o-mini\")"
      ]
    },
    {
      "cell_type": "code",
      "execution_count": 15,
      "metadata": {
        "id": "qRf3tgnBpC1S"
      },
      "outputs": [],
      "source": [
        "from langchain_core.output_parsers import StrOutputParser\n",
        "from langchain_core.runnables import RunnablePassthrough\n",
        "\n",
        "def format_docs(docs):\n",
        "    return \"\\n\\n\".join(doc.page_content for doc in docs)\n",
        "\n",
        "rag_chain = (\n",
        "    {\"context\": retriever | format_docs, \"question\": RunnablePassthrough()}\n",
        "    | prompt_template\n",
        "    | llm\n",
        "    | StrOutputParser()\n",
        ")"
      ]
    },
    {
      "cell_type": "code",
      "execution_count": 16,
      "metadata": {
        "id": "Rp5vD1IcpC1T",
        "colab": {
          "base_uri": "https://localhost:8080/"
        },
        "outputId": "78b9ffed-e289-4493-eb9c-436364765b13"
      },
      "outputs": [
        {
          "output_type": "stream",
          "name": "stdout",
          "text": [
            "O CESAR fica em Recife, Pernambuco. Ele também possui filiais em Sorocaba, Curitiba e Manaus."
          ]
        }
      ],
      "source": [
        "for chunk in rag_chain.stream(\"Onde fica o CESAR?\"):\n",
        "    print(chunk, end=\"\", flush=True)"
      ]
    },
    {
      "cell_type": "markdown",
      "metadata": {
        "id": "7ir6EaVnpC1T"
      },
      "source": [
        "## Exercícios"
      ]
    },
    {
      "cell_type": "markdown",
      "metadata": {
        "id": "sil1ZqllpC1U"
      },
      "source": [
        "### Exercício 1\n",
        "Faça um RAG com um pequeno arquivo de texto, contendo informações que, certamente, a LLM não conheça. Você deverá construir o arquivo e enviar para o ambiente de execução. Escolha a forma de chunking apropriada para o seu documento."
      ]
    },
    {
      "cell_type": "code",
      "source": [
        "import requests\n",
        "from bs4 import BeautifulSoup"
      ],
      "metadata": {
        "id": "x_O6wTIytBfd"
      },
      "execution_count": 17,
      "outputs": []
    },
    {
      "cell_type": "code",
      "source": [
        "url = 'https://atosoficiais.com.br/anp/resolucao-n-791-2019-dispoe-sobre-a-individualizacao-das-metas-compulsorias-anuais-de-reducao-de-emissoes-de-gases-causadores-do-efeito-estufa-para-a-comercializacao-de-combustiveis-no-ambito-da-politica-nacional-de-biocombustiveis-renovabio'\n",
        "response = requests.get(url)\n",
        "html_content = response.text"
      ],
      "metadata": {
        "id": "jD_7Ad11tAyq"
      },
      "execution_count": 18,
      "outputs": []
    },
    {
      "cell_type": "code",
      "source": [
        "soup = BeautifulSoup(html_content, 'html.parser')"
      ],
      "metadata": {
        "id": "dKleFf7It-YW"
      },
      "execution_count": 19,
      "outputs": []
    },
    {
      "cell_type": "code",
      "source": [
        "# verifica se o status da norma é \"Norma em vigor\"\n",
        "article = \"\"\n",
        "if \"Norma em vigor\" not in soup.find('div', class_='btn btn-default btn-lg content-block-header-box status-norma').get_text():\n",
        "  print(\"A norma não está em vigor\")\n",
        "else:\n",
        "  for s_tag in soup.find_all('s'):\n",
        "    s_tag.decompose()\n",
        "\n",
        "  article = soup.find('article', id=\"lei\")"
      ],
      "metadata": {
        "id": "_K9EMgtyvrXk"
      },
      "execution_count": 26,
      "outputs": []
    },
    {
      "cell_type": "code",
      "source": [
        "from langchain_text_splitters import RecursiveCharacterTextSplitter\n",
        "from langchain.schema import Document\n",
        "\n",
        "text_splitter = RecursiveCharacterTextSplitter(\n",
        "    chunk_size=1000, chunk_overlap=200, add_start_index=True\n",
        ")\n",
        "all_splits = text_splitter.split_documents([Document(page_content=str(article))])\n",
        "\n",
        "len(all_splits)"
      ],
      "metadata": {
        "colab": {
          "base_uri": "https://localhost:8080/"
        },
        "id": "4Ac8lzt6ynE0",
        "outputId": "3422168d-041b-4874-d414-538ece09c636"
      },
      "execution_count": 27,
      "outputs": [
        {
          "output_type": "execute_result",
          "data": {
            "text/plain": [
              "93"
            ]
          },
          "metadata": {},
          "execution_count": 27
        }
      ]
    },
    {
      "cell_type": "code",
      "source": [
        "vectorstore = FAISS.from_documents(all_splits, OpenAIEmbeddings())\n",
        "\n",
        "retriever = vectorstore.as_retriever(search_type=\"similarity\", search_kwargs={\"k\": 6})"
      ],
      "metadata": {
        "id": "y6I1VVdP15Fs"
      },
      "execution_count": 28,
      "outputs": []
    },
    {
      "cell_type": "code",
      "source": [
        "system_template = \"\"\"Você é um assistente para tarefas de perguntas e respostas. Use os seguintes trechos de contexto recuperados para responder à pergunta. Se você não souber a resposta, apenas diga que não sabe. Use no máximo quatro frases e mantenha a resposta concisa e fale apenas o necessário.\n",
        "\n",
        "Pergunta: {question}\n",
        "\n",
        "Contexto: {context}\n",
        "\n",
        "Resposta:\n",
        "\"\"\"\n",
        "\n",
        "prompt_template = ChatPromptTemplate.from_template(system_template)"
      ],
      "metadata": {
        "id": "kkfRJo0z3X_q"
      },
      "execution_count": 29,
      "outputs": []
    },
    {
      "cell_type": "code",
      "source": [
        "llm = ChatOpenAI(model=\"gpt-4o-mini\")"
      ],
      "metadata": {
        "id": "6xKUMKof3sEb"
      },
      "execution_count": 30,
      "outputs": []
    },
    {
      "cell_type": "code",
      "source": [
        "rag_chain = (\n",
        "     {\"context\": retriever, \"question\": RunnablePassthrough()}\n",
        "    | prompt_template\n",
        "    | llm\n",
        "    | StrOutputParser()\n",
        ")"
      ],
      "metadata": {
        "id": "Ch1tfW4p3w2c"
      },
      "execution_count": 31,
      "outputs": []
    },
    {
      "cell_type": "code",
      "source": [
        "for chunk in rag_chain.stream(\"Caso a meta anual individual não seja cumprida, o que acontece?\"):\n",
        "    print(chunk, end=\"\", flush=True)"
      ],
      "metadata": {
        "colab": {
          "base_uri": "https://localhost:8080/"
        },
        "id": "oNS1t7PW31Uu",
        "outputId": "a1dc6289-c8cb-4719-e2c5-572d06a4dfd8"
      },
      "execution_count": 32,
      "outputs": [
        {
          "output_type": "stream",
          "name": "stdout",
          "text": [
            "Caso a meta anual individual não seja cumprida, a quantidade não cumprida será acrescida à meta do ano seguinte. Além disso, pode haver a imposição de multas, dependendo do percentual de não cumprimento. O pagamento da multa não isenta o distribuidor do cumprimento de sua meta anual."
          ]
        }
      ]
    }
  ],
  "metadata": {
    "kernelspec": {
      "display_name": "base",
      "language": "python",
      "name": "python3"
    },
    "language_info": {
      "codemirror_mode": {
        "name": "ipython",
        "version": 3
      },
      "file_extension": ".py",
      "mimetype": "text/x-python",
      "name": "python",
      "nbconvert_exporter": "python",
      "pygments_lexer": "ipython3",
      "version": "3.10.13"
    },
    "colab": {
      "provenance": []
    }
  },
  "nbformat": 4,
  "nbformat_minor": 0
}